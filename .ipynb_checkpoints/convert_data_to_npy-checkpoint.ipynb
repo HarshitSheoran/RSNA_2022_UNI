{
 "cells": [
  {
   "cell_type": "code",
   "execution_count": 62,
   "id": "d243b1f3",
   "metadata": {},
   "outputs": [],
   "source": [
    "import numpy as np\n",
    "import pandas as pd\n",
    "from tqdm import tqdm\n",
    "from glob import glob\n",
    "import os, sys, copy, time\n",
    "\n",
    "import cv2\n",
    "from PIL import Image\n",
    "import matplotlib.pyplot as plt\n",
    "import pydicom\n",
    "import nibabel as nib\n",
    "\n",
    "from joblib import Parallel, delayed"
   ]
  },
  {
   "cell_type": "code",
   "execution_count": null,
   "id": "cc5a6313",
   "metadata": {},
   "outputs": [],
   "source": []
  },
  {
   "cell_type": "code",
   "execution_count": 34,
   "id": "c8b8559e",
   "metadata": {},
   "outputs": [
    {
     "data": {
      "text/html": [
       "<div>\n",
       "<style scoped>\n",
       "    .dataframe tbody tr th:only-of-type {\n",
       "        vertical-align: middle;\n",
       "    }\n",
       "\n",
       "    .dataframe tbody tr th {\n",
       "        vertical-align: top;\n",
       "    }\n",
       "\n",
       "    .dataframe thead th {\n",
       "        text-align: right;\n",
       "    }\n",
       "</style>\n",
       "<table border=\"1\" class=\"dataframe\">\n",
       "  <thead>\n",
       "    <tr style=\"text-align: right;\">\n",
       "      <th></th>\n",
       "      <th>StudyInstanceUID</th>\n",
       "      <th>patient_overall</th>\n",
       "      <th>C1</th>\n",
       "      <th>C2</th>\n",
       "      <th>C3</th>\n",
       "      <th>C4</th>\n",
       "      <th>C5</th>\n",
       "      <th>C6</th>\n",
       "      <th>C7</th>\n",
       "    </tr>\n",
       "  </thead>\n",
       "  <tbody>\n",
       "    <tr>\n",
       "      <th>0</th>\n",
       "      <td>1.2.826.0.1.3680043.6200</td>\n",
       "      <td>1</td>\n",
       "      <td>1</td>\n",
       "      <td>1</td>\n",
       "      <td>0</td>\n",
       "      <td>0</td>\n",
       "      <td>0</td>\n",
       "      <td>0</td>\n",
       "      <td>0</td>\n",
       "    </tr>\n",
       "    <tr>\n",
       "      <th>1</th>\n",
       "      <td>1.2.826.0.1.3680043.27262</td>\n",
       "      <td>1</td>\n",
       "      <td>0</td>\n",
       "      <td>1</td>\n",
       "      <td>0</td>\n",
       "      <td>0</td>\n",
       "      <td>0</td>\n",
       "      <td>0</td>\n",
       "      <td>0</td>\n",
       "    </tr>\n",
       "    <tr>\n",
       "      <th>2</th>\n",
       "      <td>1.2.826.0.1.3680043.21561</td>\n",
       "      <td>1</td>\n",
       "      <td>0</td>\n",
       "      <td>1</td>\n",
       "      <td>0</td>\n",
       "      <td>0</td>\n",
       "      <td>0</td>\n",
       "      <td>0</td>\n",
       "      <td>0</td>\n",
       "    </tr>\n",
       "    <tr>\n",
       "      <th>3</th>\n",
       "      <td>1.2.826.0.1.3680043.12351</td>\n",
       "      <td>0</td>\n",
       "      <td>0</td>\n",
       "      <td>0</td>\n",
       "      <td>0</td>\n",
       "      <td>0</td>\n",
       "      <td>0</td>\n",
       "      <td>0</td>\n",
       "      <td>0</td>\n",
       "    </tr>\n",
       "    <tr>\n",
       "      <th>4</th>\n",
       "      <td>1.2.826.0.1.3680043.1363</td>\n",
       "      <td>1</td>\n",
       "      <td>0</td>\n",
       "      <td>0</td>\n",
       "      <td>0</td>\n",
       "      <td>0</td>\n",
       "      <td>1</td>\n",
       "      <td>0</td>\n",
       "      <td>0</td>\n",
       "    </tr>\n",
       "    <tr>\n",
       "      <th>...</th>\n",
       "      <td>...</td>\n",
       "      <td>...</td>\n",
       "      <td>...</td>\n",
       "      <td>...</td>\n",
       "      <td>...</td>\n",
       "      <td>...</td>\n",
       "      <td>...</td>\n",
       "      <td>...</td>\n",
       "      <td>...</td>\n",
       "    </tr>\n",
       "    <tr>\n",
       "      <th>2014</th>\n",
       "      <td>1.2.826.0.1.3680043.21684</td>\n",
       "      <td>1</td>\n",
       "      <td>0</td>\n",
       "      <td>1</td>\n",
       "      <td>0</td>\n",
       "      <td>0</td>\n",
       "      <td>0</td>\n",
       "      <td>1</td>\n",
       "      <td>1</td>\n",
       "    </tr>\n",
       "    <tr>\n",
       "      <th>2015</th>\n",
       "      <td>1.2.826.0.1.3680043.4786</td>\n",
       "      <td>1</td>\n",
       "      <td>0</td>\n",
       "      <td>0</td>\n",
       "      <td>0</td>\n",
       "      <td>0</td>\n",
       "      <td>0</td>\n",
       "      <td>0</td>\n",
       "      <td>1</td>\n",
       "    </tr>\n",
       "    <tr>\n",
       "      <th>2016</th>\n",
       "      <td>1.2.826.0.1.3680043.14341</td>\n",
       "      <td>0</td>\n",
       "      <td>0</td>\n",
       "      <td>0</td>\n",
       "      <td>0</td>\n",
       "      <td>0</td>\n",
       "      <td>0</td>\n",
       "      <td>0</td>\n",
       "      <td>0</td>\n",
       "    </tr>\n",
       "    <tr>\n",
       "      <th>2017</th>\n",
       "      <td>1.2.826.0.1.3680043.12053</td>\n",
       "      <td>0</td>\n",
       "      <td>0</td>\n",
       "      <td>0</td>\n",
       "      <td>0</td>\n",
       "      <td>0</td>\n",
       "      <td>0</td>\n",
       "      <td>0</td>\n",
       "      <td>0</td>\n",
       "    </tr>\n",
       "    <tr>\n",
       "      <th>2018</th>\n",
       "      <td>1.2.826.0.1.3680043.18786</td>\n",
       "      <td>1</td>\n",
       "      <td>0</td>\n",
       "      <td>0</td>\n",
       "      <td>0</td>\n",
       "      <td>0</td>\n",
       "      <td>0</td>\n",
       "      <td>0</td>\n",
       "      <td>1</td>\n",
       "    </tr>\n",
       "  </tbody>\n",
       "</table>\n",
       "<p>2019 rows × 9 columns</p>\n",
       "</div>"
      ],
      "text/plain": [
       "               StudyInstanceUID  patient_overall  C1  C2  C3  C4  C5  C6  C7\n",
       "0      1.2.826.0.1.3680043.6200                1   1   1   0   0   0   0   0\n",
       "1     1.2.826.0.1.3680043.27262                1   0   1   0   0   0   0   0\n",
       "2     1.2.826.0.1.3680043.21561                1   0   1   0   0   0   0   0\n",
       "3     1.2.826.0.1.3680043.12351                0   0   0   0   0   0   0   0\n",
       "4      1.2.826.0.1.3680043.1363                1   0   0   0   0   1   0   0\n",
       "...                         ...              ...  ..  ..  ..  ..  ..  ..  ..\n",
       "2014  1.2.826.0.1.3680043.21684                1   0   1   0   0   0   1   1\n",
       "2015   1.2.826.0.1.3680043.4786                1   0   0   0   0   0   0   1\n",
       "2016  1.2.826.0.1.3680043.14341                0   0   0   0   0   0   0   0\n",
       "2017  1.2.826.0.1.3680043.12053                0   0   0   0   0   0   0   0\n",
       "2018  1.2.826.0.1.3680043.18786                1   0   0   0   0   0   0   1\n",
       "\n",
       "[2019 rows x 9 columns]"
      ]
     },
     "execution_count": 34,
     "metadata": {},
     "output_type": "execute_result"
    }
   ],
   "source": [
    "train = pd.read_csv('./data/train.csv')\n",
    "train"
   ]
  },
  {
   "cell_type": "code",
   "execution_count": null,
   "id": "6f634276",
   "metadata": {},
   "outputs": [],
   "source": []
  },
  {
   "cell_type": "code",
   "execution_count": 35,
   "id": "a6549060",
   "metadata": {},
   "outputs": [
    {
     "data": {
      "text/plain": [
       "((2019,),\n",
       " array(['./data/train_images/1.2.826.0.1.3680043.3306',\n",
       "        './data/train_images/1.2.826.0.1.3680043.27325',\n",
       "        './data/train_images/1.2.826.0.1.3680043.5476',\n",
       "        './data/train_images/1.2.826.0.1.3680043.20061',\n",
       "        './data/train_images/1.2.826.0.1.3680043.23968'], dtype='<U45'))"
      ]
     },
     "execution_count": 35,
     "metadata": {},
     "output_type": "execute_result"
    }
   ],
   "source": [
    "folders = np.array(glob('./data/train_images/*'))\n",
    "folders.shape, folders[:5]"
   ]
  },
  {
   "cell_type": "code",
   "execution_count": null,
   "id": "6e44abf7",
   "metadata": {},
   "outputs": [],
   "source": []
  },
  {
   "cell_type": "code",
   "execution_count": null,
   "id": "94ad4617",
   "metadata": {},
   "outputs": [],
   "source": [
    "def minmax(image, amin=0.01, amax=0.99):\n",
    "    _min = np.quantile(image, amin)\n",
    "    _max = np.quantile(image, amax)\n",
    "    image = (image - _min) / (_max - _min)\n",
    "    image = np.clip(image, 0, 1)\n",
    "    return image\n",
    "\n",
    "def process_file(file):\n",
    "    dcm_data = pydicom.dcmread(file)\n",
    "    image = dcm_data.pixel_array\n",
    "\n",
    "    image = minmax(image)\n",
    "    image = (image * 255).astype(np.uint8)\n",
    "\n",
    "    output_file = file.replace(\"/train_images/\", f\"/{OUTPUT_FOLDER}/\").replace('.dcm', '.npy')\n",
    "    np.save(output_file, image)\n",
    "\n",
    "def process_folder(folder):\n",
    "    files = np.array(sorted(glob(f'{folder}/*'), key=lambda x: int(x.split('/')[-1].split('.')[0])))\n",
    "    folder_name = folder.split('/')[-1]\n",
    "    os.makedirs(f\"./data/{OUTPUT_FOLDER}/{folder_name}\", exist_ok=True)\n",
    "\n",
    "    for file in files:\n",
    "        process_file(file)\n",
    "\n",
    "OUTPUT_FOLDER = 'train_images_npy'\n",
    "os.makedirs(f\"./data/{OUTPUT_FOLDER}\", exist_ok=1)\n",
    "\n",
    "folders = np.array(glob('./data/train_images/*'))\n",
    "\n",
    "_ = Parallel(n_jobs=16)(\n",
    "    delayed(process_folder)(folder) for folder in tqdm(folders)\n",
    ")"
   ]
  },
  {
   "cell_type": "code",
   "execution_count": null,
   "id": "a3d9db37",
   "metadata": {},
   "outputs": [],
   "source": []
  },
  {
   "cell_type": "code",
   "execution_count": null,
   "id": "a966b2db",
   "metadata": {},
   "outputs": [],
   "source": []
  },
  {
   "cell_type": "code",
   "execution_count": 61,
   "id": "c1c93feb",
   "metadata": {},
   "outputs": [
    {
     "data": {
      "text/plain": [
       "((87,),\n",
       " array(['./data/segmentations/1.2.826.0.1.3680043.30487.nii',\n",
       "        './data/segmentations/1.2.826.0.1.3680043.24617.nii',\n",
       "        './data/segmentations/1.2.826.0.1.3680043.26498.nii',\n",
       "        './data/segmentations/1.2.826.0.1.3680043.6376.nii',\n",
       "        './data/segmentations/1.2.826.0.1.3680043.21321.nii'], dtype='<U50'))"
      ]
     },
     "execution_count": 61,
     "metadata": {},
     "output_type": "execute_result"
    }
   ],
   "source": [
    "segmentation_files = np.array(glob('./data/segmentations/*.nii'))\n",
    "segmentation_files.shape, segmentation_files[:5]"
   ]
  },
  {
   "cell_type": "code",
   "execution_count": null,
   "id": "75e7b5c0",
   "metadata": {},
   "outputs": [],
   "source": []
  },
  {
   "cell_type": "code",
   "execution_count": 144,
   "id": "7ee7a62d",
   "metadata": {},
   "outputs": [
    {
     "name": "stderr",
     "output_type": "stream",
     "text": [
      "100%|██████████| 87/87 [01:56<00:00,  1.33s/it]\n"
     ]
    }
   ],
   "source": [
    "OUTPUT_FOLDER = 'train_masks_npy'\n",
    "os.makedirs(f\"./data/{OUTPUT_FOLDER}\", exist_ok=1)\n",
    "\n",
    "for file in tqdm(segmentation_files):\n",
    "    mask_volume = nib.load(file).get_fdata().T[::-1, ::-1]\n",
    "    \n",
    "    folder_name = file.split('/')[-1].split('.nii')[0]\n",
    "    image_files = sorted(glob(f'./data/train_images_npy/{folder_name}/*'), key=lambda x: int(x.split('/')[-1].split('.')[0]))\n",
    "    \n",
    "    assert len(image_files) == mask_volume.shape[0]\n",
    "    \n",
    "    for mask, file in zip(mask_volume, image_files):\n",
    "        mask = np.clip(mask, 0, 8)\n",
    "        mask_ = np.zeros((mask.shape[0], mask.shape[1], 8), dtype=np.uint8)\n",
    "        for i in range(1, 9):\n",
    "            mask_[:, :, i-1][mask==i] = 1\n",
    "        mask = mask_\n",
    "        \n",
    "        base_path = f'./data/{OUTPUT_FOLDER}/{folder_name}/'\n",
    "        filename = file.split('/')[-1]\n",
    "        \n",
    "        os.makedirs(f\"{base_path}/\", exist_ok=1)\n",
    "        \n",
    "        np.save(f\"{base_path}/{filename}\", mask)\n",
    "        \n",
    "        #break\n",
    "    \n",
    "    #break"
   ]
  },
  {
   "cell_type": "code",
   "execution_count": null,
   "id": "b37c1125",
   "metadata": {},
   "outputs": [],
   "source": []
  },
  {
   "cell_type": "code",
   "execution_count": 145,
   "id": "1e3530e7",
   "metadata": {},
   "outputs": [],
   "source": [
    "mask_volume = nib.load(\"./data/segmentations/1.2.826.0.1.3680043.24617.nii\").get_fdata().T[::-1, ::-1]"
   ]
  },
  {
   "cell_type": "code",
   "execution_count": 148,
   "id": "5b5bf877",
   "metadata": {},
   "outputs": [
    {
     "data": {
      "text/plain": [
       "<matplotlib.image.AxesImage at 0x71d536c31790>"
      ]
     },
     "execution_count": 148,
     "metadata": {},
     "output_type": "execute_result"
    },
    {
     "data": {
      "image/png": "[encoded data removed]",
      "text/plain": [
       "<Figure size 432x288 with 1 Axes>"
      ]
     },
     "metadata": {
      "needs_background": "light"
     },
     "output_type": "display_data"
    }
   ],
   "source": [
    "plt.imshow(mask_volume[80])"
   ]
  },
  {
   "cell_type": "code",
   "execution_count": null,
   "id": "0a277174",
   "metadata": {},
   "outputs": [],
   "source": []
  },
  {
   "cell_type": "code",
   "execution_count": null,
   "id": "023f0a23",
   "metadata": {},
   "outputs": [],
   "source": []
  },
  {
   "cell_type": "code",
   "execution_count": null,
   "id": "b16767f8",
   "metadata": {},
   "outputs": [],
   "source": []
  },
  {
   "cell_type": "code",
   "execution_count": 124,
   "id": "a9d1eb18",
   "metadata": {},
   "outputs": [
    {
     "data": {
      "text/plain": [
       "['./data/train_images_npy/1.2.826.0.1.3680043.30487/1.npy',\n",
       " './data/train_images_npy/1.2.826.0.1.3680043.30487/2.npy',\n",
       " './data/train_images_npy/1.2.826.0.1.3680043.30487/3.npy',\n",
       " './data/train_images_npy/1.2.826.0.1.3680043.30487/4.npy',\n",
       " './data/train_images_npy/1.2.826.0.1.3680043.30487/5.npy',\n",
       " './data/train_images_npy/1.2.826.0.1.3680043.30487/6.npy',\n",
       " './data/train_images_npy/1.2.826.0.1.3680043.30487/7.npy',\n",
       " './data/train_images_npy/1.2.826.0.1.3680043.30487/8.npy',\n",
       " './data/train_images_npy/1.2.826.0.1.3680043.30487/9.npy',\n",
       " './data/train_images_npy/1.2.826.0.1.3680043.30487/10.npy',\n",
       " './data/train_images_npy/1.2.826.0.1.3680043.30487/11.npy',\n",
       " './data/train_images_npy/1.2.826.0.1.3680043.30487/12.npy',\n",
       " './data/train_images_npy/1.2.826.0.1.3680043.30487/13.npy',\n",
       " './data/train_images_npy/1.2.826.0.1.3680043.30487/14.npy',\n",
       " './data/train_images_npy/1.2.826.0.1.3680043.30487/15.npy',\n",
       " './data/train_images_npy/1.2.826.0.1.3680043.30487/16.npy',\n",
       " './data/train_images_npy/1.2.826.0.1.3680043.30487/17.npy',\n",
       " './data/train_images_npy/1.2.826.0.1.3680043.30487/18.npy',\n",
       " './data/train_images_npy/1.2.826.0.1.3680043.30487/19.npy',\n",
       " './data/train_images_npy/1.2.826.0.1.3680043.30487/20.npy',\n",
       " './data/train_images_npy/1.2.826.0.1.3680043.30487/21.npy',\n",
       " './data/train_images_npy/1.2.826.0.1.3680043.30487/22.npy',\n",
       " './data/train_images_npy/1.2.826.0.1.3680043.30487/23.npy',\n",
       " './data/train_images_npy/1.2.826.0.1.3680043.30487/24.npy',\n",
       " './data/train_images_npy/1.2.826.0.1.3680043.30487/25.npy',\n",
       " './data/train_images_npy/1.2.826.0.1.3680043.30487/26.npy',\n",
       " './data/train_images_npy/1.2.826.0.1.3680043.30487/27.npy',\n",
       " './data/train_images_npy/1.2.826.0.1.3680043.30487/28.npy',\n",
       " './data/train_images_npy/1.2.826.0.1.3680043.30487/29.npy',\n",
       " './data/train_images_npy/1.2.826.0.1.3680043.30487/30.npy',\n",
       " './data/train_images_npy/1.2.826.0.1.3680043.30487/31.npy',\n",
       " './data/train_images_npy/1.2.826.0.1.3680043.30487/32.npy',\n",
       " './data/train_images_npy/1.2.826.0.1.3680043.30487/33.npy',\n",
       " './data/train_images_npy/1.2.826.0.1.3680043.30487/34.npy',\n",
       " './data/train_images_npy/1.2.826.0.1.3680043.30487/35.npy',\n",
       " './data/train_images_npy/1.2.826.0.1.3680043.30487/36.npy',\n",
       " './data/train_images_npy/1.2.826.0.1.3680043.30487/37.npy',\n",
       " './data/train_images_npy/1.2.826.0.1.3680043.30487/38.npy',\n",
       " './data/train_images_npy/1.2.826.0.1.3680043.30487/39.npy',\n",
       " './data/train_images_npy/1.2.826.0.1.3680043.30487/40.npy',\n",
       " './data/train_images_npy/1.2.826.0.1.3680043.30487/41.npy',\n",
       " './data/train_images_npy/1.2.826.0.1.3680043.30487/42.npy',\n",
       " './data/train_images_npy/1.2.826.0.1.3680043.30487/43.npy',\n",
       " './data/train_images_npy/1.2.826.0.1.3680043.30487/44.npy',\n",
       " './data/train_images_npy/1.2.826.0.1.3680043.30487/45.npy',\n",
       " './data/train_images_npy/1.2.826.0.1.3680043.30487/46.npy',\n",
       " './data/train_images_npy/1.2.826.0.1.3680043.30487/47.npy',\n",
       " './data/train_images_npy/1.2.826.0.1.3680043.30487/48.npy',\n",
       " './data/train_images_npy/1.2.826.0.1.3680043.30487/49.npy',\n",
       " './data/train_images_npy/1.2.826.0.1.3680043.30487/50.npy',\n",
       " './data/train_images_npy/1.2.826.0.1.3680043.30487/51.npy',\n",
       " './data/train_images_npy/1.2.826.0.1.3680043.30487/52.npy',\n",
       " './data/train_images_npy/1.2.826.0.1.3680043.30487/53.npy',\n",
       " './data/train_images_npy/1.2.826.0.1.3680043.30487/54.npy',\n",
       " './data/train_images_npy/1.2.826.0.1.3680043.30487/55.npy',\n",
       " './data/train_images_npy/1.2.826.0.1.3680043.30487/56.npy',\n",
       " './data/train_images_npy/1.2.826.0.1.3680043.30487/57.npy',\n",
       " './data/train_images_npy/1.2.826.0.1.3680043.30487/58.npy',\n",
       " './data/train_images_npy/1.2.826.0.1.3680043.30487/59.npy',\n",
       " './data/train_images_npy/1.2.826.0.1.3680043.30487/60.npy',\n",
       " './data/train_images_npy/1.2.826.0.1.3680043.30487/61.npy',\n",
       " './data/train_images_npy/1.2.826.0.1.3680043.30487/62.npy',\n",
       " './data/train_images_npy/1.2.826.0.1.3680043.30487/63.npy',\n",
       " './data/train_images_npy/1.2.826.0.1.3680043.30487/64.npy',\n",
       " './data/train_images_npy/1.2.826.0.1.3680043.30487/65.npy',\n",
       " './data/train_images_npy/1.2.826.0.1.3680043.30487/66.npy',\n",
       " './data/train_images_npy/1.2.826.0.1.3680043.30487/67.npy',\n",
       " './data/train_images_npy/1.2.826.0.1.3680043.30487/68.npy',\n",
       " './data/train_images_npy/1.2.826.0.1.3680043.30487/69.npy',\n",
       " './data/train_images_npy/1.2.826.0.1.3680043.30487/70.npy',\n",
       " './data/train_images_npy/1.2.826.0.1.3680043.30487/71.npy',\n",
       " './data/train_images_npy/1.2.826.0.1.3680043.30487/72.npy',\n",
       " './data/train_images_npy/1.2.826.0.1.3680043.30487/73.npy',\n",
       " './data/train_images_npy/1.2.826.0.1.3680043.30487/74.npy',\n",
       " './data/train_images_npy/1.2.826.0.1.3680043.30487/75.npy',\n",
       " './data/train_images_npy/1.2.826.0.1.3680043.30487/76.npy',\n",
       " './data/train_images_npy/1.2.826.0.1.3680043.30487/77.npy',\n",
       " './data/train_images_npy/1.2.826.0.1.3680043.30487/78.npy',\n",
       " './data/train_images_npy/1.2.826.0.1.3680043.30487/79.npy',\n",
       " './data/train_images_npy/1.2.826.0.1.3680043.30487/80.npy',\n",
       " './data/train_images_npy/1.2.826.0.1.3680043.30487/81.npy',\n",
       " './data/train_images_npy/1.2.826.0.1.3680043.30487/82.npy',\n",
       " './data/train_images_npy/1.2.826.0.1.3680043.30487/83.npy',\n",
       " './data/train_images_npy/1.2.826.0.1.3680043.30487/84.npy',\n",
       " './data/train_images_npy/1.2.826.0.1.3680043.30487/85.npy',\n",
       " './data/train_images_npy/1.2.826.0.1.3680043.30487/86.npy',\n",
       " './data/train_images_npy/1.2.826.0.1.3680043.30487/87.npy',\n",
       " './data/train_images_npy/1.2.826.0.1.3680043.30487/88.npy',\n",
       " './data/train_images_npy/1.2.826.0.1.3680043.30487/89.npy',\n",
       " './data/train_images_npy/1.2.826.0.1.3680043.30487/90.npy',\n",
       " './data/train_images_npy/1.2.826.0.1.3680043.30487/91.npy',\n",
       " './data/train_images_npy/1.2.826.0.1.3680043.30487/92.npy',\n",
       " './data/train_images_npy/1.2.826.0.1.3680043.30487/93.npy',\n",
       " './data/train_images_npy/1.2.826.0.1.3680043.30487/94.npy',\n",
       " './data/train_images_npy/1.2.826.0.1.3680043.30487/95.npy',\n",
       " './data/train_images_npy/1.2.826.0.1.3680043.30487/96.npy',\n",
       " './data/train_images_npy/1.2.826.0.1.3680043.30487/97.npy',\n",
       " './data/train_images_npy/1.2.826.0.1.3680043.30487/98.npy',\n",
       " './data/train_images_npy/1.2.826.0.1.3680043.30487/99.npy',\n",
       " './data/train_images_npy/1.2.826.0.1.3680043.30487/100.npy',\n",
       " './data/train_images_npy/1.2.826.0.1.3680043.30487/101.npy',\n",
       " './data/train_images_npy/1.2.826.0.1.3680043.30487/102.npy',\n",
       " './data/train_images_npy/1.2.826.0.1.3680043.30487/103.npy',\n",
       " './data/train_images_npy/1.2.826.0.1.3680043.30487/104.npy',\n",
       " './data/train_images_npy/1.2.826.0.1.3680043.30487/105.npy',\n",
       " './data/train_images_npy/1.2.826.0.1.3680043.30487/106.npy',\n",
       " './data/train_images_npy/1.2.826.0.1.3680043.30487/107.npy',\n",
       " './data/train_images_npy/1.2.826.0.1.3680043.30487/108.npy',\n",
       " './data/train_images_npy/1.2.826.0.1.3680043.30487/109.npy',\n",
       " './data/train_images_npy/1.2.826.0.1.3680043.30487/110.npy',\n",
       " './data/train_images_npy/1.2.826.0.1.3680043.30487/111.npy',\n",
       " './data/train_images_npy/1.2.826.0.1.3680043.30487/112.npy',\n",
       " './data/train_images_npy/1.2.826.0.1.3680043.30487/113.npy',\n",
       " './data/train_images_npy/1.2.826.0.1.3680043.30487/114.npy',\n",
       " './data/train_images_npy/1.2.826.0.1.3680043.30487/115.npy',\n",
       " './data/train_images_npy/1.2.826.0.1.3680043.30487/116.npy',\n",
       " './data/train_images_npy/1.2.826.0.1.3680043.30487/117.npy',\n",
       " './data/train_images_npy/1.2.826.0.1.3680043.30487/118.npy',\n",
       " './data/train_images_npy/1.2.826.0.1.3680043.30487/119.npy',\n",
       " './data/train_images_npy/1.2.826.0.1.3680043.30487/120.npy',\n",
       " './data/train_images_npy/1.2.826.0.1.3680043.30487/121.npy',\n",
       " './data/train_images_npy/1.2.826.0.1.3680043.30487/122.npy',\n",
       " './data/train_images_npy/1.2.826.0.1.3680043.30487/123.npy',\n",
       " './data/train_images_npy/1.2.826.0.1.3680043.30487/124.npy',\n",
       " './data/train_images_npy/1.2.826.0.1.3680043.30487/125.npy',\n",
       " './data/train_images_npy/1.2.826.0.1.3680043.30487/126.npy',\n",
       " './data/train_images_npy/1.2.826.0.1.3680043.30487/127.npy',\n",
       " './data/train_images_npy/1.2.826.0.1.3680043.30487/128.npy',\n",
       " './data/train_images_npy/1.2.826.0.1.3680043.30487/129.npy',\n",
       " './data/train_images_npy/1.2.826.0.1.3680043.30487/130.npy',\n",
       " './data/train_images_npy/1.2.826.0.1.3680043.30487/131.npy',\n",
       " './data/train_images_npy/1.2.826.0.1.3680043.30487/132.npy',\n",
       " './data/train_images_npy/1.2.826.0.1.3680043.30487/133.npy',\n",
       " './data/train_images_npy/1.2.826.0.1.3680043.30487/134.npy',\n",
       " './data/train_images_npy/1.2.826.0.1.3680043.30487/135.npy',\n",
       " './data/train_images_npy/1.2.826.0.1.3680043.30487/136.npy',\n",
       " './data/train_images_npy/1.2.826.0.1.3680043.30487/137.npy',\n",
       " './data/train_images_npy/1.2.826.0.1.3680043.30487/138.npy',\n",
       " './data/train_images_npy/1.2.826.0.1.3680043.30487/139.npy',\n",
       " './data/train_images_npy/1.2.826.0.1.3680043.30487/140.npy',\n",
       " './data/train_images_npy/1.2.826.0.1.3680043.30487/141.npy',\n",
       " './data/train_images_npy/1.2.826.0.1.3680043.30487/142.npy',\n",
       " './data/train_images_npy/1.2.826.0.1.3680043.30487/143.npy',\n",
       " './data/train_images_npy/1.2.826.0.1.3680043.30487/144.npy',\n",
       " './data/train_images_npy/1.2.826.0.1.3680043.30487/145.npy',\n",
       " './data/train_images_npy/1.2.826.0.1.3680043.30487/146.npy',\n",
       " './data/train_images_npy/1.2.826.0.1.3680043.30487/147.npy',\n",
       " './data/train_images_npy/1.2.826.0.1.3680043.30487/148.npy',\n",
       " './data/train_images_npy/1.2.826.0.1.3680043.30487/149.npy',\n",
       " './data/train_images_npy/1.2.826.0.1.3680043.30487/150.npy',\n",
       " './data/train_images_npy/1.2.826.0.1.3680043.30487/151.npy',\n",
       " './data/train_images_npy/1.2.826.0.1.3680043.30487/152.npy',\n",
       " './data/train_images_npy/1.2.826.0.1.3680043.30487/153.npy',\n",
       " './data/train_images_npy/1.2.826.0.1.3680043.30487/154.npy',\n",
       " './data/train_images_npy/1.2.826.0.1.3680043.30487/155.npy',\n",
       " './data/train_images_npy/1.2.826.0.1.3680043.30487/156.npy',\n",
       " './data/train_images_npy/1.2.826.0.1.3680043.30487/157.npy',\n",
       " './data/train_images_npy/1.2.826.0.1.3680043.30487/158.npy',\n",
       " './data/train_images_npy/1.2.826.0.1.3680043.30487/159.npy',\n",
       " './data/train_images_npy/1.2.826.0.1.3680043.30487/160.npy',\n",
       " './data/train_images_npy/1.2.826.0.1.3680043.30487/161.npy',\n",
       " './data/train_images_npy/1.2.826.0.1.3680043.30487/162.npy',\n",
       " './data/train_images_npy/1.2.826.0.1.3680043.30487/163.npy',\n",
       " './data/train_images_npy/1.2.826.0.1.3680043.30487/164.npy',\n",
       " './data/train_images_npy/1.2.826.0.1.3680043.30487/165.npy',\n",
       " './data/train_images_npy/1.2.826.0.1.3680043.30487/166.npy',\n",
       " './data/train_images_npy/1.2.826.0.1.3680043.30487/167.npy',\n",
       " './data/train_images_npy/1.2.826.0.1.3680043.30487/168.npy',\n",
       " './data/train_images_npy/1.2.826.0.1.3680043.30487/169.npy',\n",
       " './data/train_images_npy/1.2.826.0.1.3680043.30487/170.npy',\n",
       " './data/train_images_npy/1.2.826.0.1.3680043.30487/171.npy',\n",
       " './data/train_images_npy/1.2.826.0.1.3680043.30487/172.npy',\n",
       " './data/train_images_npy/1.2.826.0.1.3680043.30487/173.npy',\n",
       " './data/train_images_npy/1.2.826.0.1.3680043.30487/174.npy',\n",
       " './data/train_images_npy/1.2.826.0.1.3680043.30487/175.npy',\n",
       " './data/train_images_npy/1.2.826.0.1.3680043.30487/176.npy',\n",
       " './data/train_images_npy/1.2.826.0.1.3680043.30487/177.npy',\n",
       " './data/train_images_npy/1.2.826.0.1.3680043.30487/178.npy',\n",
       " './data/train_images_npy/1.2.826.0.1.3680043.30487/179.npy',\n",
       " './data/train_images_npy/1.2.826.0.1.3680043.30487/180.npy',\n",
       " './data/train_images_npy/1.2.826.0.1.3680043.30487/181.npy',\n",
       " './data/train_images_npy/1.2.826.0.1.3680043.30487/182.npy',\n",
       " './data/train_images_npy/1.2.826.0.1.3680043.30487/183.npy',\n",
       " './data/train_images_npy/1.2.826.0.1.3680043.30487/184.npy',\n",
       " './data/train_images_npy/1.2.826.0.1.3680043.30487/185.npy',\n",
       " './data/train_images_npy/1.2.826.0.1.3680043.30487/186.npy',\n",
       " './data/train_images_npy/1.2.826.0.1.3680043.30487/187.npy',\n",
       " './data/train_images_npy/1.2.826.0.1.3680043.30487/188.npy',\n",
       " './data/train_images_npy/1.2.826.0.1.3680043.30487/189.npy',\n",
       " './data/train_images_npy/1.2.826.0.1.3680043.30487/190.npy',\n",
       " './data/train_images_npy/1.2.826.0.1.3680043.30487/191.npy',\n",
       " './data/train_images_npy/1.2.826.0.1.3680043.30487/192.npy',\n",
       " './data/train_images_npy/1.2.826.0.1.3680043.30487/193.npy',\n",
       " './data/train_images_npy/1.2.826.0.1.3680043.30487/194.npy',\n",
       " './data/train_images_npy/1.2.826.0.1.3680043.30487/195.npy',\n",
       " './data/train_images_npy/1.2.826.0.1.3680043.30487/196.npy',\n",
       " './data/train_images_npy/1.2.826.0.1.3680043.30487/197.npy',\n",
       " './data/train_images_npy/1.2.826.0.1.3680043.30487/198.npy',\n",
       " './data/train_images_npy/1.2.826.0.1.3680043.30487/199.npy',\n",
       " './data/train_images_npy/1.2.826.0.1.3680043.30487/200.npy',\n",
       " './data/train_images_npy/1.2.826.0.1.3680043.30487/201.npy',\n",
       " './data/train_images_npy/1.2.826.0.1.3680043.30487/202.npy',\n",
       " './data/train_images_npy/1.2.826.0.1.3680043.30487/203.npy',\n",
       " './data/train_images_npy/1.2.826.0.1.3680043.30487/204.npy',\n",
       " './data/train_images_npy/1.2.826.0.1.3680043.30487/205.npy',\n",
       " './data/train_images_npy/1.2.826.0.1.3680043.30487/206.npy',\n",
       " './data/train_images_npy/1.2.826.0.1.3680043.30487/207.npy',\n",
       " './data/train_images_npy/1.2.826.0.1.3680043.30487/208.npy',\n",
       " './data/train_images_npy/1.2.826.0.1.3680043.30487/209.npy',\n",
       " './data/train_images_npy/1.2.826.0.1.3680043.30487/210.npy',\n",
       " './data/train_images_npy/1.2.826.0.1.3680043.30487/211.npy',\n",
       " './data/train_images_npy/1.2.826.0.1.3680043.30487/212.npy',\n",
       " './data/train_images_npy/1.2.826.0.1.3680043.30487/213.npy',\n",
       " './data/train_images_npy/1.2.826.0.1.3680043.30487/214.npy',\n",
       " './data/train_images_npy/1.2.826.0.1.3680043.30487/215.npy',\n",
       " './data/train_images_npy/1.2.826.0.1.3680043.30487/216.npy',\n",
       " './data/train_images_npy/1.2.826.0.1.3680043.30487/217.npy',\n",
       " './data/train_images_npy/1.2.826.0.1.3680043.30487/218.npy',\n",
       " './data/train_images_npy/1.2.826.0.1.3680043.30487/219.npy',\n",
       " './data/train_images_npy/1.2.826.0.1.3680043.30487/220.npy',\n",
       " './data/train_images_npy/1.2.826.0.1.3680043.30487/221.npy',\n",
       " './data/train_images_npy/1.2.826.0.1.3680043.30487/222.npy',\n",
       " './data/train_images_npy/1.2.826.0.1.3680043.30487/223.npy',\n",
       " './data/train_images_npy/1.2.826.0.1.3680043.30487/224.npy',\n",
       " './data/train_images_npy/1.2.826.0.1.3680043.30487/225.npy',\n",
       " './data/train_images_npy/1.2.826.0.1.3680043.30487/226.npy',\n",
       " './data/train_images_npy/1.2.826.0.1.3680043.30487/227.npy',\n",
       " './data/train_images_npy/1.2.826.0.1.3680043.30487/228.npy',\n",
       " './data/train_images_npy/1.2.826.0.1.3680043.30487/229.npy',\n",
       " './data/train_images_npy/1.2.826.0.1.3680043.30487/230.npy',\n",
       " './data/train_images_npy/1.2.826.0.1.3680043.30487/231.npy',\n",
       " './data/train_images_npy/1.2.826.0.1.3680043.30487/232.npy',\n",
       " './data/train_images_npy/1.2.826.0.1.3680043.30487/233.npy',\n",
       " './data/train_images_npy/1.2.826.0.1.3680043.30487/234.npy',\n",
       " './data/train_images_npy/1.2.826.0.1.3680043.30487/235.npy',\n",
       " './data/train_images_npy/1.2.826.0.1.3680043.30487/236.npy',\n",
       " './data/train_images_npy/1.2.826.0.1.3680043.30487/237.npy',\n",
       " './data/train_images_npy/1.2.826.0.1.3680043.30487/238.npy',\n",
       " './data/train_images_npy/1.2.826.0.1.3680043.30487/239.npy',\n",
       " './data/train_images_npy/1.2.826.0.1.3680043.30487/240.npy',\n",
       " './data/train_images_npy/1.2.826.0.1.3680043.30487/241.npy',\n",
       " './data/train_images_npy/1.2.826.0.1.3680043.30487/242.npy',\n",
       " './data/train_images_npy/1.2.826.0.1.3680043.30487/243.npy',\n",
       " './data/train_images_npy/1.2.826.0.1.3680043.30487/244.npy',\n",
       " './data/train_images_npy/1.2.826.0.1.3680043.30487/245.npy',\n",
       " './data/train_images_npy/1.2.826.0.1.3680043.30487/246.npy',\n",
       " './data/train_images_npy/1.2.826.0.1.3680043.30487/247.npy',\n",
       " './data/train_images_npy/1.2.826.0.1.3680043.30487/248.npy',\n",
       " './data/train_images_npy/1.2.826.0.1.3680043.30487/249.npy',\n",
       " './data/train_images_npy/1.2.826.0.1.3680043.30487/250.npy',\n",
       " './data/train_images_npy/1.2.826.0.1.3680043.30487/251.npy',\n",
       " './data/train_images_npy/1.2.826.0.1.3680043.30487/252.npy',\n",
       " './data/train_images_npy/1.2.826.0.1.3680043.30487/253.npy',\n",
       " './data/train_images_npy/1.2.826.0.1.3680043.30487/254.npy',\n",
       " './data/train_images_npy/1.2.826.0.1.3680043.30487/255.npy',\n",
       " './data/train_images_npy/1.2.826.0.1.3680043.30487/256.npy',\n",
       " './data/train_images_npy/1.2.826.0.1.3680043.30487/257.npy',\n",
       " './data/train_images_npy/1.2.826.0.1.3680043.30487/258.npy',\n",
       " './data/train_images_npy/1.2.826.0.1.3680043.30487/259.npy',\n",
       " './data/train_images_npy/1.2.826.0.1.3680043.30487/260.npy',\n",
       " './data/train_images_npy/1.2.826.0.1.3680043.30487/261.npy',\n",
       " './data/train_images_npy/1.2.826.0.1.3680043.30487/262.npy',\n",
       " './data/train_images_npy/1.2.826.0.1.3680043.30487/263.npy',\n",
       " './data/train_images_npy/1.2.826.0.1.3680043.30487/264.npy',\n",
       " './data/train_images_npy/1.2.826.0.1.3680043.30487/265.npy',\n",
       " './data/train_images_npy/1.2.826.0.1.3680043.30487/266.npy',\n",
       " './data/train_images_npy/1.2.826.0.1.3680043.30487/267.npy',\n",
       " './data/train_images_npy/1.2.826.0.1.3680043.30487/268.npy',\n",
       " './data/train_images_npy/1.2.826.0.1.3680043.30487/269.npy',\n",
       " './data/train_images_npy/1.2.826.0.1.3680043.30487/270.npy',\n",
       " './data/train_images_npy/1.2.826.0.1.3680043.30487/271.npy',\n",
       " './data/train_images_npy/1.2.826.0.1.3680043.30487/272.npy',\n",
       " './data/train_images_npy/1.2.826.0.1.3680043.30487/273.npy',\n",
       " './data/train_images_npy/1.2.826.0.1.3680043.30487/274.npy',\n",
       " './data/train_images_npy/1.2.826.0.1.3680043.30487/275.npy',\n",
       " './data/train_images_npy/1.2.826.0.1.3680043.30487/276.npy',\n",
       " './data/train_images_npy/1.2.826.0.1.3680043.30487/277.npy',\n",
       " './data/train_images_npy/1.2.826.0.1.3680043.30487/278.npy',\n",
       " './data/train_images_npy/1.2.826.0.1.3680043.30487/279.npy',\n",
       " './data/train_images_npy/1.2.826.0.1.3680043.30487/280.npy',\n",
       " './data/train_images_npy/1.2.826.0.1.3680043.30487/281.npy',\n",
       " './data/train_images_npy/1.2.826.0.1.3680043.30487/282.npy',\n",
       " './data/train_images_npy/1.2.826.0.1.3680043.30487/283.npy',\n",
       " './data/train_images_npy/1.2.826.0.1.3680043.30487/284.npy',\n",
       " './data/train_images_npy/1.2.826.0.1.3680043.30487/285.npy',\n",
       " './data/train_images_npy/1.2.826.0.1.3680043.30487/286.npy',\n",
       " './data/train_images_npy/1.2.826.0.1.3680043.30487/287.npy',\n",
       " './data/train_images_npy/1.2.826.0.1.3680043.30487/288.npy',\n",
       " './data/train_images_npy/1.2.826.0.1.3680043.30487/289.npy',\n",
       " './data/train_images_npy/1.2.826.0.1.3680043.30487/290.npy',\n",
       " './data/train_images_npy/1.2.826.0.1.3680043.30487/291.npy',\n",
       " './data/train_images_npy/1.2.826.0.1.3680043.30487/292.npy',\n",
       " './data/train_images_npy/1.2.826.0.1.3680043.30487/293.npy',\n",
       " './data/train_images_npy/1.2.826.0.1.3680043.30487/294.npy',\n",
       " './data/train_images_npy/1.2.826.0.1.3680043.30487/295.npy',\n",
       " './data/train_images_npy/1.2.826.0.1.3680043.30487/296.npy',\n",
       " './data/train_images_npy/1.2.826.0.1.3680043.30487/297.npy',\n",
       " './data/train_images_npy/1.2.826.0.1.3680043.30487/298.npy',\n",
       " './data/train_images_npy/1.2.826.0.1.3680043.30487/299.npy',\n",
       " './data/train_images_npy/1.2.826.0.1.3680043.30487/300.npy',\n",
       " './data/train_images_npy/1.2.826.0.1.3680043.30487/301.npy',\n",
       " './data/train_images_npy/1.2.826.0.1.3680043.30487/302.npy',\n",
       " './data/train_images_npy/1.2.826.0.1.3680043.30487/303.npy',\n",
       " './data/train_images_npy/1.2.826.0.1.3680043.30487/304.npy',\n",
       " './data/train_images_npy/1.2.826.0.1.3680043.30487/305.npy',\n",
       " './data/train_images_npy/1.2.826.0.1.3680043.30487/306.npy',\n",
       " './data/train_images_npy/1.2.826.0.1.3680043.30487/307.npy',\n",
       " './data/train_images_npy/1.2.826.0.1.3680043.30487/308.npy',\n",
       " './data/train_images_npy/1.2.826.0.1.3680043.30487/309.npy',\n",
       " './data/train_images_npy/1.2.826.0.1.3680043.30487/310.npy',\n",
       " './data/train_images_npy/1.2.826.0.1.3680043.30487/311.npy',\n",
       " './data/train_images_npy/1.2.826.0.1.3680043.30487/312.npy',\n",
       " './data/train_images_npy/1.2.826.0.1.3680043.30487/313.npy',\n",
       " './data/train_images_npy/1.2.826.0.1.3680043.30487/314.npy',\n",
       " './data/train_images_npy/1.2.826.0.1.3680043.30487/315.npy',\n",
       " './data/train_images_npy/1.2.826.0.1.3680043.30487/316.npy',\n",
       " './data/train_images_npy/1.2.826.0.1.3680043.30487/317.npy',\n",
       " './data/train_images_npy/1.2.826.0.1.3680043.30487/318.npy',\n",
       " './data/train_images_npy/1.2.826.0.1.3680043.30487/319.npy',\n",
       " './data/train_images_npy/1.2.826.0.1.3680043.30487/320.npy',\n",
       " './data/train_images_npy/1.2.826.0.1.3680043.30487/321.npy',\n",
       " './data/train_images_npy/1.2.826.0.1.3680043.30487/322.npy',\n",
       " './data/train_images_npy/1.2.826.0.1.3680043.30487/323.npy',\n",
       " './data/train_images_npy/1.2.826.0.1.3680043.30487/324.npy',\n",
       " './data/train_images_npy/1.2.826.0.1.3680043.30487/325.npy',\n",
       " './data/train_images_npy/1.2.826.0.1.3680043.30487/326.npy',\n",
       " './data/train_images_npy/1.2.826.0.1.3680043.30487/327.npy',\n",
       " './data/train_images_npy/1.2.826.0.1.3680043.30487/328.npy',\n",
       " './data/train_images_npy/1.2.826.0.1.3680043.30487/329.npy',\n",
       " './data/train_images_npy/1.2.826.0.1.3680043.30487/330.npy',\n",
       " './data/train_images_npy/1.2.826.0.1.3680043.30487/331.npy',\n",
       " './data/train_images_npy/1.2.826.0.1.3680043.30487/332.npy',\n",
       " './data/train_images_npy/1.2.826.0.1.3680043.30487/333.npy',\n",
       " './data/train_images_npy/1.2.826.0.1.3680043.30487/334.npy',\n",
       " './data/train_images_npy/1.2.826.0.1.3680043.30487/335.npy',\n",
       " './data/train_images_npy/1.2.826.0.1.3680043.30487/336.npy',\n",
       " './data/train_images_npy/1.2.826.0.1.3680043.30487/337.npy',\n",
       " './data/train_images_npy/1.2.826.0.1.3680043.30487/338.npy',\n",
       " './data/train_images_npy/1.2.826.0.1.3680043.30487/339.npy',\n",
       " './data/train_images_npy/1.2.826.0.1.3680043.30487/340.npy',\n",
       " './data/train_images_npy/1.2.826.0.1.3680043.30487/341.npy',\n",
       " './data/train_images_npy/1.2.826.0.1.3680043.30487/342.npy',\n",
       " './data/train_images_npy/1.2.826.0.1.3680043.30487/343.npy',\n",
       " './data/train_images_npy/1.2.826.0.1.3680043.30487/344.npy',\n",
       " './data/train_images_npy/1.2.826.0.1.3680043.30487/345.npy',\n",
       " './data/train_images_npy/1.2.826.0.1.3680043.30487/346.npy',\n",
       " './data/train_images_npy/1.2.826.0.1.3680043.30487/347.npy',\n",
       " './data/train_images_npy/1.2.826.0.1.3680043.30487/348.npy']"
      ]
     },
     "execution_count": 124,
     "metadata": {},
     "output_type": "execute_result"
    }
   ],
   "source": [
    "image_files"
   ]
  },
  {
   "cell_type": "code",
   "execution_count": null,
   "id": "39f51fd2",
   "metadata": {},
   "outputs": [],
   "source": []
  },
  {
   "cell_type": "code",
   "execution_count": 118,
   "id": "31ef8cc5",
   "metadata": {},
   "outputs": [
    {
     "data": {
      "text/plain": [
       "'./data/segmentations/1.2.826.0.1.3680043.30487.nii'"
      ]
     },
     "execution_count": 118,
     "metadata": {},
     "output_type": "execute_result"
    }
   ],
   "source": [
    "file"
   ]
  },
  {
   "cell_type": "code",
   "execution_count": 119,
   "id": "13c19124",
   "metadata": {},
   "outputs": [],
   "source": []
  },
  {
   "cell_type": "code",
   "execution_count": 120,
   "id": "3d269c42",
   "metadata": {},
   "outputs": [
    {
     "data": {
      "text/plain": [
       "'1.2.826.0.1.3680043.30487'"
      ]
     },
     "execution_count": 120,
     "metadata": {},
     "output_type": "execute_result"
    }
   ],
   "source": [
    "folder_name"
   ]
  },
  {
   "cell_type": "code",
   "execution_count": null,
   "id": "480426ac",
   "metadata": {},
   "outputs": [],
   "source": []
  },
  {
   "cell_type": "code",
   "execution_count": 115,
   "id": "f745981f",
   "metadata": {},
   "outputs": [
    {
     "data": {
      "text/plain": [
       "<matplotlib.image.AxesImage at 0x71d537291220>"
      ]
     },
     "execution_count": 115,
     "metadata": {},
     "output_type": "execute_result"
    },
    {
     "data": {
      "image/png": "[encoded data removed]",
      "text/plain": [
       "<Figure size 432x288 with 1 Axes>"
      ]
     },
     "metadata": {
      "needs_background": "light"
     },
     "output_type": "display_data"
    }
   ],
   "source": [
    "image = np.load('./data/train_images_npy/1.2.826.0.1.3680043.30487/300.npy')\n",
    "plt.imshow(image)"
   ]
  },
  {
   "cell_type": "code",
   "execution_count": 116,
   "id": "66237da4",
   "metadata": {},
   "outputs": [
    {
     "data": {
      "text/plain": [
       "(348, 512, 512)"
      ]
     },
     "execution_count": 116,
     "metadata": {},
     "output_type": "execute_result"
    }
   ],
   "source": [
    "volume.shape"
   ]
  },
  {
   "cell_type": "code",
   "execution_count": 117,
   "id": "d0d9c915",
   "metadata": {},
   "outputs": [
    {
     "data": {
      "text/plain": [
       "<matplotlib.image.AxesImage at 0x71d53728aa00>"
      ]
     },
     "execution_count": 117,
     "metadata": {},
     "output_type": "execute_result"
    },
    {
     "data": {
      "image/png": "[encoded data removed]",
      "text/plain": [
       "<Figure size 432x288 with 1 Axes>"
      ]
     },
     "metadata": {
      "needs_background": "light"
     },
     "output_type": "display_data"
    }
   ],
   "source": [
    "plt.imshow(volume[300, ::-1, :])"
   ]
  },
  {
   "cell_type": "code",
   "execution_count": null,
   "id": "bb828c4b",
   "metadata": {},
   "outputs": [],
   "source": []
  },
  {
   "cell_type": "code",
   "execution_count": null,
   "id": "8f5d8130",
   "metadata": {},
   "outputs": [],
   "source": []
  },
  {
   "cell_type": "code",
   "execution_count": null,
   "id": "e78b7c7b",
   "metadata": {},
   "outputs": [],
   "source": []
  },
  {
   "cell_type": "code",
   "execution_count": 78,
   "id": "8c4f87e8",
   "metadata": {
    "scrolled": true
   },
   "outputs": [
    {
     "data": {
      "text/plain": [
       "array([[[0., 0., 0., ..., 0., 0., 0.],\n",
       "        [0., 0., 0., ..., 0., 0., 0.],\n",
       "        [0., 0., 0., ..., 0., 0., 0.],\n",
       "        ...,\n",
       "        [0., 0., 0., ..., 0., 0., 0.],\n",
       "        [0., 0., 0., ..., 0., 0., 0.],\n",
       "        [0., 0., 0., ..., 0., 0., 0.]],\n",
       "\n",
       "       [[0., 0., 0., ..., 0., 0., 0.],\n",
       "        [0., 0., 0., ..., 0., 0., 0.],\n",
       "        [0., 0., 0., ..., 0., 0., 0.],\n",
       "        ...,\n",
       "        [0., 0., 0., ..., 0., 0., 0.],\n",
       "        [0., 0., 0., ..., 0., 0., 0.],\n",
       "        [0., 0., 0., ..., 0., 0., 0.]],\n",
       "\n",
       "       [[0., 0., 0., ..., 0., 0., 0.],\n",
       "        [0., 0., 0., ..., 0., 0., 0.],\n",
       "        [0., 0., 0., ..., 0., 0., 0.],\n",
       "        ...,\n",
       "        [0., 0., 0., ..., 0., 0., 0.],\n",
       "        [0., 0., 0., ..., 0., 0., 0.],\n",
       "        [0., 0., 0., ..., 0., 0., 0.]],\n",
       "\n",
       "       ...,\n",
       "\n",
       "       [[0., 0., 0., ..., 0., 0., 0.],\n",
       "        [0., 0., 0., ..., 0., 0., 0.],\n",
       "        [0., 0., 0., ..., 0., 0., 0.],\n",
       "        ...,\n",
       "        [0., 0., 0., ..., 0., 0., 0.],\n",
       "        [0., 0., 0., ..., 0., 0., 0.],\n",
       "        [0., 0., 0., ..., 0., 0., 0.]],\n",
       "\n",
       "       [[0., 0., 0., ..., 0., 0., 0.],\n",
       "        [0., 0., 0., ..., 0., 0., 0.],\n",
       "        [0., 0., 0., ..., 0., 0., 0.],\n",
       "        ...,\n",
       "        [0., 0., 0., ..., 0., 0., 0.],\n",
       "        [0., 0., 0., ..., 0., 0., 0.],\n",
       "        [0., 0., 0., ..., 0., 0., 0.]],\n",
       "\n",
       "       [[0., 0., 0., ..., 0., 0., 0.],\n",
       "        [0., 0., 0., ..., 0., 0., 0.],\n",
       "        [0., 0., 0., ..., 0., 0., 0.],\n",
       "        ...,\n",
       "        [0., 0., 0., ..., 0., 0., 0.],\n",
       "        [0., 0., 0., ..., 0., 0., 0.],\n",
       "        [0., 0., 0., ..., 0., 0., 0.]]])"
      ]
     },
     "execution_count": 78,
     "metadata": {},
     "output_type": "execute_result"
    }
   ],
   "source": [
    "volume"
   ]
  },
  {
   "cell_type": "code",
   "execution_count": null,
   "id": "ad748c24",
   "metadata": {},
   "outputs": [],
   "source": []
  },
  {
   "cell_type": "code",
   "execution_count": null,
   "id": "1156aad0",
   "metadata": {},
   "outputs": [],
   "source": []
  },
  {
   "cell_type": "code",
   "execution_count": null,
   "id": "ba731558",
   "metadata": {},
   "outputs": [],
   "source": []
  },
  {
   "cell_type": "code",
   "execution_count": null,
   "id": "ac4fc068",
   "metadata": {},
   "outputs": [],
   "source": [
    "'./data/train_images_npy/'"
   ]
  },
  {
   "cell_type": "code",
   "execution_count": null,
   "id": "c0901d50",
   "metadata": {},
   "outputs": [],
   "source": []
  },
  {
   "cell_type": "code",
   "execution_count": null,
   "id": "ebfc75af",
   "metadata": {},
   "outputs": [],
   "source": []
  },
  {
   "cell_type": "code",
   "execution_count": null,
   "id": "e4688edc",
   "metadata": {},
   "outputs": [],
   "source": []
  },
  {
   "cell_type": "code",
   "execution_count": null,
   "id": "2b52a99d",
   "metadata": {},
   "outputs": [],
   "source": []
  }
 ],
 "metadata": {
  "kernelspec": {
   "display_name": "Python 3 (ipykernel)",
   "language": "python",
   "name": "python3"
  },
  "language_info": {
   "codemirror_mode": {
    "name": "ipython",
    "version": 3
   },
   "file_extension": ".py",
   "mimetype": "text/x-python",
   "name": "python",
   "nbconvert_exporter": "python",
   "pygments_lexer": "ipython3",
   "version": "3.9.12"
  }
 },
 "nbformat": 4,
 "nbformat_minor": 5
}
