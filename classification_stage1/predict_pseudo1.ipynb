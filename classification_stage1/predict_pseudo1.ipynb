{
 "cells": [
  {
   "cell_type": "code",
   "execution_count": 296,
   "id": "781713f9",
   "metadata": {},
   "outputs": [],
   "source": [
    "def is_dist_avail_and_initialized():\n",
    "    if not dist.is_available():\n",
    "        return False\n",
    "    if not dist.is_initialized():\n",
    "        return False\n",
    "    return True\n",
    "\n",
    "\n",
    "def get_world_size():\n",
    "    if not is_dist_avail_and_initialized():\n",
    "        return 1\n",
    "    return dist.get_world_size()\n",
    "\n",
    "\n",
    "def get_rank():\n",
    "    if not is_dist_avail_and_initialized():\n",
    "        return 0\n",
    "    return dist.get_rank()\n",
    "\n",
    "\n",
    "def is_main_process():\n",
    "    return get_rank() == 0\n",
    "\n",
    "\n",
    "def save_on_master(*args, **kwargs):\n",
    "    if is_main_process():\n",
    "        torch.save(*args, **kwargs)\n",
    "\n",
    "\n",
    "def setup_for_distributed(is_master):\n",
    "    \"\"\"\n",
    "    This function disables printing when not in master process\n",
    "    \"\"\"\n",
    "    import builtins as __builtin__\n",
    "    builtin_print = __builtin__.print\n",
    "\n",
    "    def print(*args, **kwargs):\n",
    "        force = kwargs.pop('force', False)\n",
    "        if is_master or force:\n",
    "            builtin_print(*args, **kwargs)\n",
    "\n",
    "    __builtin__.print = print\n",
    "    \n",
    "def init_distributed():\n",
    "\n",
    "    # Initializes the distributed backend which will take care of sychronizing nodes/GPUs\n",
    "    dist_url = \"env://\" # default\n",
    "    # only works with torch.distributed.launch // torch.run\n",
    "    rank = int(os.environ[\"RANK\"])\n",
    "    world_size = int(os.environ['WORLD_SIZE'])\n",
    "    local_rank = int(os.environ['LOCAL_RANK'])\n",
    "\n",
    "    dist.init_process_group(\n",
    "            backend=\"nccl\",\n",
    "            init_method=dist_url,\n",
    "            world_size=world_size,\n",
    "            rank=rank)\n",
    "\n",
    "    # this will make all .cuda() calls work properly\n",
    "    try:\n",
    "        torch.cuda.set_device(local_rank)\n",
    "    except:\n",
    "        print(\"error at\", local_rank)\n",
    "    # synchronizes all the threads to reach this point before moving on\n",
    "    dist.barrier()\n",
    "    setup_for_distributed(rank == 0)\n",
    "\n",
    "def seed_everything(seed=1234):\n",
    "    random.seed(seed)\n",
    "    os.environ['PYTHONHASHSEED'] = str(seed)\n",
    "    np.random.seed(seed)\n",
    "    torch.manual_seed(seed)\n",
    "    torch.cuda.manual_seed(seed)\n",
    "    torch.backends.cudnn.deterministic = True\n",
    "\n",
    "import warnings\n",
    "warnings.filterwarnings('ignore')\n",
    "\n",
    "import numpy as np\n",
    "import pandas as pd\n",
    "from tqdm import tqdm\n",
    "import os\n",
    "from glob import glob\n",
    "import copy\n",
    "import time\n",
    "import math\n",
    "import command\n",
    "import random\n",
    "import sys\n",
    "import h5py\n",
    "\n",
    "#os.environ['CUDA_VISIBLE_DEVICES'] = '1,2'\n",
    "os.environ['NO_ALBUMENTATIONS_UPDATE'] = '1'\n",
    "\n",
    "import cv2\n",
    "from PIL import Image\n",
    "import matplotlib as mpl\n",
    "import matplotlib.pyplot as plt\n",
    "mpl.rcParams['figure.figsize'] = 12, 8\n",
    "\n",
    "from skimage import img_as_ubyte\n",
    "import albumentations as A\n",
    "from albumentations.pytorch import ToTensorV2\n",
    "\n",
    "from sklearn.model_selection import *\n",
    "from sklearn.metrics import *\n",
    "\n",
    "import torch\n",
    "from torch import nn, optim\n",
    "from torch.utils.data import Dataset, DataLoader\n",
    "import segmentation_models_pytorch as smp\n",
    "#import segmentation_models_pytorch_3d as smp\n",
    "import timm\n",
    "from torchtoolbox.tools import mixup_data, mixup_criterion\n",
    "import torchvision as tv\n",
    "from torch_ema import ExponentialMovingAverage\n",
    "\n",
    "from transformers import get_cosine_schedule_with_warmup\n",
    "\n",
    "import torch.distributed as dist\n",
    "\n",
    "import logging\n",
    "logging.getLogger('timm').setLevel(logging.WARNING)\n",
    "\n",
    "#import redis\n",
    "#import pickle\n",
    "#redis_cache = redis.StrictRedis(host='localhost', port=6379, db=0)\n",
    "#redis_cache.flushdb()"
   ]
  },
  {
   "cell_type": "code",
   "execution_count": null,
   "id": "bc54e23e",
   "metadata": {},
   "outputs": [],
   "source": []
  },
  {
   "cell_type": "code",
   "execution_count": 297,
   "id": "c7202ffe",
   "metadata": {},
   "outputs": [],
   "source": [
    "class CFG:\n",
    "    DDP = 1\n",
    "    DDP_INIT_DONE = 0\n",
    "    N_GPUS = 2\n",
    "    FOLD = 0\n",
    "    FULLDATA = 0\n",
    "    \n",
    "    model_name = -1\n",
    "    V = -1\n",
    "    \n",
    "    OUTPUT_FOLDER = f\"./data/classification_stage1/{model_name}_v{V}\"\n",
    "    \n",
    "    seed = 3407\n",
    "    \n",
    "    device = torch.device('cuda')\n",
    "    \n",
    "    n_folds = 4\n",
    "    \n",
    "    image_size = [512, 512]\n",
    "    \n",
    "    train_batch_size = 32\n",
    "    valid_batch_size = 32\n",
    "    acc_steps = 1\n",
    "    \n",
    "    lr = 3e-4\n",
    "    wd = 1e-5\n",
    "    ema_decay_per_epoch = 0.3\n",
    "    freeze_epochs = 0\n",
    "    n_epochs = 10\n",
    "    n_warmup_steps = 0\n",
    "    upscale_steps = 1.3\n",
    "    validate_every = 1\n",
    "    \n",
    "    epoch = 0\n",
    "    global_step = 0\n",
    "    literal_step = 0\n",
    "    \n",
    "    autocast = True\n",
    "    \n",
    "    workers = 4\n",
    "\n",
    "if CFG.FULLDATA:\n",
    "    CFG.seed = CFG.FOLD\n",
    "    \n",
    "OUTPUT_FOLDER = CFG.OUTPUT_FOLDER\n",
    "        \n",
    "CFG.cache_dir = CFG.OUTPUT_FOLDER + f'/cache/'\n",
    "os.makedirs(CFG.cache_dir, exist_ok=1)\n",
    "\n",
    "seed_everything(CFG.seed)"
   ]
  },
  {
   "cell_type": "code",
   "execution_count": null,
   "id": "89d2c669",
   "metadata": {},
   "outputs": [],
   "source": []
  },
  {
   "cell_type": "code",
   "execution_count": 368,
   "id": "0b922049",
   "metadata": {},
   "outputs": [],
   "source": [
    "def rle_encode(mask):\n",
    "    pixels = mask.flatten()\n",
    "    pixels = np.concatenate([[0], pixels, [0]])\n",
    "    changes = np.where(pixels[1:] != pixels[:-1])[0]\n",
    "    starts = changes[::2]\n",
    "    lengths = changes[1::2] - starts\n",
    "    return list(zip(starts, lengths))\n",
    "\n",
    "\n",
    "def rle_decode(rle, shape):\n",
    "    mask = np.zeros(shape[0] * shape[1], dtype=np.uint8)\n",
    "    \n",
    "    if not len(rle): return mask.reshape(shape)\n",
    "    \n",
    "    for start, length in rle:\n",
    "        mask[start:start + length] = 1\n",
    "    return mask.reshape(shape)\n",
    "\n",
    "def crop_mask_with_quantile(mask, quantile=0.99):\n",
    "    y_indices, x_indices = np.where(mask == 1)\n",
    "\n",
    "    if len(x_indices) == 0 or len(y_indices) == 0:\n",
    "        return None, None, None, None\n",
    "\n",
    "    x1 = np.quantile(x_indices, 1 - quantile)\n",
    "    x2 = np.quantile(x_indices, quantile)\n",
    "    y1 = np.quantile(y_indices, 1 - quantile)\n",
    "    y2 = np.quantile(y_indices, quantile)\n",
    "    \n",
    "    x1, x2, y1, y2 = int(x1)/255, int(x2)/255, int(y1)/255, int(y2)/255\n",
    "    \n",
    "    return x1, y1, x2, y2"
   ]
  },
  {
   "cell_type": "code",
   "execution_count": null,
   "id": "a1b52498",
   "metadata": {},
   "outputs": [],
   "source": []
  },
  {
   "cell_type": "code",
   "execution_count": 374,
   "id": "1d0eab38",
   "metadata": {},
   "outputs": [],
   "source": [
    "CFG.n_classes = 1\n",
    "\n",
    "class SMPModel(nn.Module):\n",
    "    def __init__(self, pretrained=True, drop=0.):\n",
    "        super(SMPModel, self).__init__()\n",
    "        \n",
    "        segmentor = smp.Unet(encoder_name=f\"tu-{CFG.model_name}\", encoder_weights='imagenet', in_channels=3, classes=CFG.n_classes, aux_params={'classes': CFG.n_classes})\n",
    "        self.segmentor = segmentor\n",
    "        \n",
    "        self.encoder = segmentor.encoder\n",
    "        self.decoder = segmentor.decoder\n",
    "        self.segmentation_head = segmentor.segmentation_head\n",
    "        \n",
    "        self.bridge = nn.Conv2d(256, 1280, kernel_size=(3, 3))\n",
    "        \n",
    "        feats = 1280#self.encoder.num_features\n",
    "        \n",
    "        self.avgpool = nn.AdaptiveAvgPool2d(1)\n",
    "        \n",
    "        lstm_embed = feats\n",
    "        \n",
    "        self.lstm = nn.LSTM(lstm_embed, lstm_embed//2, num_layers=2, dropout=drop, bidirectional=True, batch_first=True)\n",
    "        \n",
    "        self.head = nn.Linear(lstm_embed, CFG.n_classes)\n",
    "        \n",
    "    def forward(self, inp):\n",
    "        inp = torch.nan_to_num(inp, 0, 0, 0)\n",
    "\n",
    "        bs, n_slice_per_c, in_chans, image_size, _ = inp.shape\n",
    "\n",
    "        inp = inp.view(bs * n_slice_per_c, in_chans, image_size, image_size)\n",
    "\n",
    "        encoded_features = self.encoder(inp)\n",
    "        decoded_features = self.decoder(*encoded_features)\n",
    "        masks = self.segmentation_head(decoded_features)\n",
    "        \n",
    "        features = encoded_features[-1]\n",
    "        features = self.bridge(features)\n",
    "        \n",
    "        features = self.avgpool(features)\n",
    "        features = features.view(bs, n_slice_per_c, -1)\n",
    "\n",
    "        features, _ = self.lstm(features)\n",
    "        features = features.contiguous().view(bs * n_slice_per_c, -1)\n",
    "\n",
    "        logits = self.head(features)\n",
    "        logits = logits.view(bs, n_slice_per_c, -1).contiguous()\n",
    "        \n",
    "        masks = nn.functional.interpolate(masks, (256, 256))\n",
    "        \n",
    "        logits = torch.nan_to_num(logits, 0, 0, 0)\n",
    "        masks = torch.nan_to_num(masks, 0, 0, 0)\n",
    "        \n",
    "        return logits, masks\n",
    "    \n",
    "class TimmModel(nn.Module):\n",
    "    def __init__(self, pretrained=True):\n",
    "        super(TimmModel, self).__init__()\n",
    "        \n",
    "        drop = 0.\n",
    "        self.encoder = timm.create_model(CFG.model_name, pretrained=pretrained, in_chans=3, global_pool='', num_classes=0, drop_rate=drop, drop_path_rate=drop)\n",
    "        feats = self.encoder.num_features\n",
    "        \n",
    "        self.avgpool = nn.AdaptiveAvgPool2d(1)\n",
    "        \n",
    "        self.head = nn.Linear(feats, CFG.n_classes)\n",
    "    \n",
    "    def forward(self, inp):\n",
    "        inp = torch.nan_to_num(inp, 0, 0, 0)\n",
    "        \n",
    "        bs, in_chans, image_size, _ = inp.shape\n",
    "        \n",
    "        features = self.encoder(inp)\n",
    "        \n",
    "        features = self.avgpool(features).flatten(1, 3)\n",
    "        \n",
    "        logits = self.head(features)\n",
    "        \n",
    "        logits = torch.nan_to_num(logits, 0, 0, 0)\n",
    "        \n",
    "        return logits, None\n",
    "    \n",
    "Model = TimmModel"
   ]
  },
  {
   "cell_type": "code",
   "execution_count": null,
   "id": "8666986f",
   "metadata": {},
   "outputs": [],
   "source": []
  },
  {
   "cell_type": "code",
   "execution_count": 378,
   "id": "ac5e430b",
   "metadata": {},
   "outputs": [
    {
     "data": {
      "text/plain": [
       "8"
      ]
     },
     "execution_count": 378,
     "metadata": {},
     "output_type": "execute_result"
    }
   ],
   "source": [
    "models = []\n",
    "\n",
    "for F in range(4):\n",
    "    CFG.model_name = 'tf_efficientnetv2_s.in21k_ft_in1k'\n",
    "    model = Model()\n",
    "    model.eval()\n",
    "    model.cuda()\n",
    "    st = torch.load(f'./data/classification_stage1/tf_efficientnetv2_s.in21k_ft_in1k_v6/{F}_best.pth', map_location='cpu')\n",
    "    model.load_state_dict(st)\n",
    "    models.append(copy.deepcopy(model))\n",
    "\n",
    "for F in range(4):\n",
    "    CFG.model_name = 'tf_efficientnet_b3.ns_jft_in1k'\n",
    "    model = Model()\n",
    "    model.eval()\n",
    "    model.cuda()\n",
    "    st = torch.load(f'./data/classification_stage1/tf_efficientnet_b3.ns_jft_in1k_v1/{F}_best.pth', map_location='cpu')\n",
    "    model.load_state_dict(st)\n",
    "    models.append(copy.deepcopy(model))\n",
    "\n",
    "len(models)"
   ]
  },
  {
   "cell_type": "code",
   "execution_count": null,
   "id": "bbdc0f76",
   "metadata": {},
   "outputs": [],
   "source": []
  },
  {
   "cell_type": "code",
   "execution_count": 375,
   "id": "4100fe44",
   "metadata": {},
   "outputs": [],
   "source": [
    "valid_transforms = A.Compose([\n",
    "        A.Resize(*CFG.image_size),\n",
    "        #A.LongestMaxSize(CFG.image_size[0]),\n",
    "        #A.PadIfNeeded(*CFG.image_size, border_mode=0),\n",
    "        ToTensorV2()\n",
    "    ])"
   ]
  },
  {
   "cell_type": "code",
   "execution_count": null,
   "id": "31939e0a",
   "metadata": {},
   "outputs": [],
   "source": []
  },
  {
   "cell_type": "code",
   "execution_count": 307,
   "id": "d0ce1c50",
   "metadata": {},
   "outputs": [
    {
     "data": {
      "text/html": [
       "<div>\n",
       "<style scoped>\n",
       "    .dataframe tbody tr th:only-of-type {\n",
       "        vertical-align: middle;\n",
       "    }\n",
       "\n",
       "    .dataframe tbody tr th {\n",
       "        vertical-align: top;\n",
       "    }\n",
       "\n",
       "    .dataframe thead th {\n",
       "        text-align: right;\n",
       "    }\n",
       "</style>\n",
       "<table border=\"1\" class=\"dataframe\">\n",
       "  <thead>\n",
       "    <tr style=\"text-align: right;\">\n",
       "      <th></th>\n",
       "      <th>StudyInstanceUID</th>\n",
       "      <th>patient_overall</th>\n",
       "      <th>C1</th>\n",
       "      <th>C2</th>\n",
       "      <th>C3</th>\n",
       "      <th>C4</th>\n",
       "      <th>C5</th>\n",
       "      <th>C6</th>\n",
       "      <th>C7</th>\n",
       "    </tr>\n",
       "  </thead>\n",
       "  <tbody>\n",
       "    <tr>\n",
       "      <th>0</th>\n",
       "      <td>1.2.826.0.1.3680043.6200</td>\n",
       "      <td>1</td>\n",
       "      <td>1</td>\n",
       "      <td>1</td>\n",
       "      <td>0</td>\n",
       "      <td>0</td>\n",
       "      <td>0</td>\n",
       "      <td>0</td>\n",
       "      <td>0</td>\n",
       "    </tr>\n",
       "    <tr>\n",
       "      <th>1</th>\n",
       "      <td>1.2.826.0.1.3680043.27262</td>\n",
       "      <td>1</td>\n",
       "      <td>0</td>\n",
       "      <td>1</td>\n",
       "      <td>0</td>\n",
       "      <td>0</td>\n",
       "      <td>0</td>\n",
       "      <td>0</td>\n",
       "      <td>0</td>\n",
       "    </tr>\n",
       "    <tr>\n",
       "      <th>2</th>\n",
       "      <td>1.2.826.0.1.3680043.21561</td>\n",
       "      <td>1</td>\n",
       "      <td>0</td>\n",
       "      <td>1</td>\n",
       "      <td>0</td>\n",
       "      <td>0</td>\n",
       "      <td>0</td>\n",
       "      <td>0</td>\n",
       "      <td>0</td>\n",
       "    </tr>\n",
       "    <tr>\n",
       "      <th>3</th>\n",
       "      <td>1.2.826.0.1.3680043.1363</td>\n",
       "      <td>1</td>\n",
       "      <td>0</td>\n",
       "      <td>0</td>\n",
       "      <td>0</td>\n",
       "      <td>0</td>\n",
       "      <td>1</td>\n",
       "      <td>0</td>\n",
       "      <td>0</td>\n",
       "    </tr>\n",
       "    <tr>\n",
       "      <th>4</th>\n",
       "      <td>1.2.826.0.1.3680043.4859</td>\n",
       "      <td>1</td>\n",
       "      <td>0</td>\n",
       "      <td>0</td>\n",
       "      <td>0</td>\n",
       "      <td>0</td>\n",
       "      <td>0</td>\n",
       "      <td>1</td>\n",
       "      <td>0</td>\n",
       "    </tr>\n",
       "    <tr>\n",
       "      <th>...</th>\n",
       "      <td>...</td>\n",
       "      <td>...</td>\n",
       "      <td>...</td>\n",
       "      <td>...</td>\n",
       "      <td>...</td>\n",
       "      <td>...</td>\n",
       "      <td>...</td>\n",
       "      <td>...</td>\n",
       "      <td>...</td>\n",
       "    </tr>\n",
       "    <tr>\n",
       "      <th>956</th>\n",
       "      <td>1.2.826.0.1.3680043.17052</td>\n",
       "      <td>1</td>\n",
       "      <td>0</td>\n",
       "      <td>0</td>\n",
       "      <td>0</td>\n",
       "      <td>1</td>\n",
       "      <td>0</td>\n",
       "      <td>0</td>\n",
       "      <td>0</td>\n",
       "    </tr>\n",
       "    <tr>\n",
       "      <th>957</th>\n",
       "      <td>1.2.826.0.1.3680043.14464</td>\n",
       "      <td>1</td>\n",
       "      <td>0</td>\n",
       "      <td>0</td>\n",
       "      <td>0</td>\n",
       "      <td>0</td>\n",
       "      <td>0</td>\n",
       "      <td>0</td>\n",
       "      <td>1</td>\n",
       "    </tr>\n",
       "    <tr>\n",
       "      <th>958</th>\n",
       "      <td>1.2.826.0.1.3680043.21684</td>\n",
       "      <td>1</td>\n",
       "      <td>0</td>\n",
       "      <td>1</td>\n",
       "      <td>0</td>\n",
       "      <td>0</td>\n",
       "      <td>0</td>\n",
       "      <td>1</td>\n",
       "      <td>1</td>\n",
       "    </tr>\n",
       "    <tr>\n",
       "      <th>959</th>\n",
       "      <td>1.2.826.0.1.3680043.4786</td>\n",
       "      <td>1</td>\n",
       "      <td>0</td>\n",
       "      <td>0</td>\n",
       "      <td>0</td>\n",
       "      <td>0</td>\n",
       "      <td>0</td>\n",
       "      <td>0</td>\n",
       "      <td>1</td>\n",
       "    </tr>\n",
       "    <tr>\n",
       "      <th>960</th>\n",
       "      <td>1.2.826.0.1.3680043.18786</td>\n",
       "      <td>1</td>\n",
       "      <td>0</td>\n",
       "      <td>0</td>\n",
       "      <td>0</td>\n",
       "      <td>0</td>\n",
       "      <td>0</td>\n",
       "      <td>0</td>\n",
       "      <td>1</td>\n",
       "    </tr>\n",
       "  </tbody>\n",
       "</table>\n",
       "<p>961 rows × 9 columns</p>\n",
       "</div>"
      ],
      "text/plain": [
       "              StudyInstanceUID  patient_overall  C1  C2  C3  C4  C5  C6  C7\n",
       "0     1.2.826.0.1.3680043.6200                1   1   1   0   0   0   0   0\n",
       "1    1.2.826.0.1.3680043.27262                1   0   1   0   0   0   0   0\n",
       "2    1.2.826.0.1.3680043.21561                1   0   1   0   0   0   0   0\n",
       "3     1.2.826.0.1.3680043.1363                1   0   0   0   0   1   0   0\n",
       "4     1.2.826.0.1.3680043.4859                1   0   0   0   0   0   1   0\n",
       "..                         ...              ...  ..  ..  ..  ..  ..  ..  ..\n",
       "956  1.2.826.0.1.3680043.17052                1   0   0   0   1   0   0   0\n",
       "957  1.2.826.0.1.3680043.14464                1   0   0   0   0   0   0   1\n",
       "958  1.2.826.0.1.3680043.21684                1   0   1   0   0   0   1   1\n",
       "959   1.2.826.0.1.3680043.4786                1   0   0   0   0   0   0   1\n",
       "960  1.2.826.0.1.3680043.18786                1   0   0   0   0   0   0   1\n",
       "\n",
       "[961 rows x 9 columns]"
      ]
     },
     "execution_count": 307,
     "metadata": {},
     "output_type": "execute_result"
    }
   ],
   "source": [
    "train_master = pd.read_csv('./data/train.csv')\n",
    "train_master = train_master[train_master.patient_overall==1].reset_index(drop=1)\n",
    "\n",
    "train_master"
   ]
  },
  {
   "cell_type": "code",
   "execution_count": 302,
   "id": "7c9967b7",
   "metadata": {},
   "outputs": [
    {
     "data": {
      "text/html": [
       "<div>\n",
       "<style scoped>\n",
       "    .dataframe tbody tr th:only-of-type {\n",
       "        vertical-align: middle;\n",
       "    }\n",
       "\n",
       "    .dataframe tbody tr th {\n",
       "        vertical-align: top;\n",
       "    }\n",
       "\n",
       "    .dataframe thead th {\n",
       "        text-align: right;\n",
       "    }\n",
       "</style>\n",
       "<table border=\"1\" class=\"dataframe\">\n",
       "  <thead>\n",
       "    <tr style=\"text-align: right;\">\n",
       "      <th></th>\n",
       "      <th>image_path</th>\n",
       "      <th>rle_c1</th>\n",
       "      <th>rle_c2</th>\n",
       "      <th>rle_c3</th>\n",
       "      <th>rle_c4</th>\n",
       "      <th>rle_c5</th>\n",
       "      <th>rle_c6</th>\n",
       "      <th>rle_c7</th>\n",
       "      <th>rle_c8</th>\n",
       "      <th>folder</th>\n",
       "    </tr>\n",
       "  </thead>\n",
       "  <tbody>\n",
       "    <tr>\n",
       "      <th>0</th>\n",
       "      <td>./data/train_images_npy/1.2.826.0.1.3680043.33...</td>\n",
       "      <td>[]</td>\n",
       "      <td>[]</td>\n",
       "      <td>[]</td>\n",
       "      <td>[]</td>\n",
       "      <td>[]</td>\n",
       "      <td>[]</td>\n",
       "      <td>[]</td>\n",
       "      <td>[]</td>\n",
       "      <td>1.2.826.0.1.3680043.3306</td>\n",
       "    </tr>\n",
       "    <tr>\n",
       "      <th>1</th>\n",
       "      <td>./data/train_images_npy/1.2.826.0.1.3680043.33...</td>\n",
       "      <td>[]</td>\n",
       "      <td>[]</td>\n",
       "      <td>[]</td>\n",
       "      <td>[]</td>\n",
       "      <td>[]</td>\n",
       "      <td>[]</td>\n",
       "      <td>[]</td>\n",
       "      <td>[]</td>\n",
       "      <td>1.2.826.0.1.3680043.3306</td>\n",
       "    </tr>\n",
       "    <tr>\n",
       "      <th>2</th>\n",
       "      <td>./data/train_images_npy/1.2.826.0.1.3680043.33...</td>\n",
       "      <td>[]</td>\n",
       "      <td>[]</td>\n",
       "      <td>[]</td>\n",
       "      <td>[]</td>\n",
       "      <td>[]</td>\n",
       "      <td>[]</td>\n",
       "      <td>[]</td>\n",
       "      <td>[]</td>\n",
       "      <td>1.2.826.0.1.3680043.3306</td>\n",
       "    </tr>\n",
       "    <tr>\n",
       "      <th>3</th>\n",
       "      <td>./data/train_images_npy/1.2.826.0.1.3680043.33...</td>\n",
       "      <td>[]</td>\n",
       "      <td>[]</td>\n",
       "      <td>[]</td>\n",
       "      <td>[]</td>\n",
       "      <td>[]</td>\n",
       "      <td>[]</td>\n",
       "      <td>[]</td>\n",
       "      <td>[]</td>\n",
       "      <td>1.2.826.0.1.3680043.3306</td>\n",
       "    </tr>\n",
       "    <tr>\n",
       "      <th>4</th>\n",
       "      <td>./data/train_images_npy/1.2.826.0.1.3680043.33...</td>\n",
       "      <td>[]</td>\n",
       "      <td>[]</td>\n",
       "      <td>[]</td>\n",
       "      <td>[]</td>\n",
       "      <td>[]</td>\n",
       "      <td>[]</td>\n",
       "      <td>[]</td>\n",
       "      <td>[]</td>\n",
       "      <td>1.2.826.0.1.3680043.3306</td>\n",
       "    </tr>\n",
       "    <tr>\n",
       "      <th>...</th>\n",
       "      <td>...</td>\n",
       "      <td>...</td>\n",
       "      <td>...</td>\n",
       "      <td>...</td>\n",
       "      <td>...</td>\n",
       "      <td>...</td>\n",
       "      <td>...</td>\n",
       "      <td>...</td>\n",
       "      <td>...</td>\n",
       "      <td>...</td>\n",
       "    </tr>\n",
       "    <tr>\n",
       "      <th>711596</th>\n",
       "      <td>./data/train_images_npy/1.2.826.0.1.3680043.23...</td>\n",
       "      <td>[]</td>\n",
       "      <td>[]</td>\n",
       "      <td>[]</td>\n",
       "      <td>[]</td>\n",
       "      <td>[]</td>\n",
       "      <td>[]</td>\n",
       "      <td>[]</td>\n",
       "      <td>[(42870, 4), (43125, 8), (43379, 12), (43633, ...</td>\n",
       "      <td>1.2.826.0.1.3680043.23957</td>\n",
       "    </tr>\n",
       "    <tr>\n",
       "      <th>711597</th>\n",
       "      <td>./data/train_images_npy/1.2.826.0.1.3680043.23...</td>\n",
       "      <td>[]</td>\n",
       "      <td>[]</td>\n",
       "      <td>[]</td>\n",
       "      <td>[]</td>\n",
       "      <td>[]</td>\n",
       "      <td>[]</td>\n",
       "      <td>[]</td>\n",
       "      <td>[(42871, 2), (43124, 9), (43379, 11), (43633, ...</td>\n",
       "      <td>1.2.826.0.1.3680043.23957</td>\n",
       "    </tr>\n",
       "    <tr>\n",
       "      <th>711598</th>\n",
       "      <td>./data/train_images_npy/1.2.826.0.1.3680043.23...</td>\n",
       "      <td>[]</td>\n",
       "      <td>[]</td>\n",
       "      <td>[]</td>\n",
       "      <td>[]</td>\n",
       "      <td>[]</td>\n",
       "      <td>[]</td>\n",
       "      <td>[]</td>\n",
       "      <td>[(43125, 7), (43379, 11), (43633, 15), (43888,...</td>\n",
       "      <td>1.2.826.0.1.3680043.23957</td>\n",
       "    </tr>\n",
       "    <tr>\n",
       "      <th>711599</th>\n",
       "      <td>./data/train_images_npy/1.2.826.0.1.3680043.23...</td>\n",
       "      <td>[]</td>\n",
       "      <td>[]</td>\n",
       "      <td>[]</td>\n",
       "      <td>[]</td>\n",
       "      <td>[]</td>\n",
       "      <td>[]</td>\n",
       "      <td>[]</td>\n",
       "      <td>[(43891, 3), (44146, 3), (44400, 4), (44654, 6...</td>\n",
       "      <td>1.2.826.0.1.3680043.23957</td>\n",
       "    </tr>\n",
       "    <tr>\n",
       "      <th>711600</th>\n",
       "      <td>./data/train_images_npy/1.2.826.0.1.3680043.23...</td>\n",
       "      <td>[]</td>\n",
       "      <td>[]</td>\n",
       "      <td>[]</td>\n",
       "      <td>[]</td>\n",
       "      <td>[]</td>\n",
       "      <td>[]</td>\n",
       "      <td>[]</td>\n",
       "      <td>[(45171, 11), (45424, 5), (45434, 6), (45678, ...</td>\n",
       "      <td>1.2.826.0.1.3680043.23957</td>\n",
       "    </tr>\n",
       "  </tbody>\n",
       "</table>\n",
       "<p>711601 rows × 10 columns</p>\n",
       "</div>"
      ],
      "text/plain": [
       "                                               image_path rle_c1 rle_c2  \\\n",
       "0       ./data/train_images_npy/1.2.826.0.1.3680043.33...     []     []   \n",
       "1       ./data/train_images_npy/1.2.826.0.1.3680043.33...     []     []   \n",
       "2       ./data/train_images_npy/1.2.826.0.1.3680043.33...     []     []   \n",
       "3       ./data/train_images_npy/1.2.826.0.1.3680043.33...     []     []   \n",
       "4       ./data/train_images_npy/1.2.826.0.1.3680043.33...     []     []   \n",
       "...                                                   ...    ...    ...   \n",
       "711596  ./data/train_images_npy/1.2.826.0.1.3680043.23...     []     []   \n",
       "711597  ./data/train_images_npy/1.2.826.0.1.3680043.23...     []     []   \n",
       "711598  ./data/train_images_npy/1.2.826.0.1.3680043.23...     []     []   \n",
       "711599  ./data/train_images_npy/1.2.826.0.1.3680043.23...     []     []   \n",
       "711600  ./data/train_images_npy/1.2.826.0.1.3680043.23...     []     []   \n",
       "\n",
       "       rle_c3 rle_c4 rle_c5 rle_c6 rle_c7  \\\n",
       "0          []     []     []     []     []   \n",
       "1          []     []     []     []     []   \n",
       "2          []     []     []     []     []   \n",
       "3          []     []     []     []     []   \n",
       "4          []     []     []     []     []   \n",
       "...       ...    ...    ...    ...    ...   \n",
       "711596     []     []     []     []     []   \n",
       "711597     []     []     []     []     []   \n",
       "711598     []     []     []     []     []   \n",
       "711599     []     []     []     []     []   \n",
       "711600     []     []     []     []     []   \n",
       "\n",
       "                                                   rle_c8  \\\n",
       "0                                                      []   \n",
       "1                                                      []   \n",
       "2                                                      []   \n",
       "3                                                      []   \n",
       "4                                                      []   \n",
       "...                                                   ...   \n",
       "711596  [(42870, 4), (43125, 8), (43379, 12), (43633, ...   \n",
       "711597  [(42871, 2), (43124, 9), (43379, 11), (43633, ...   \n",
       "711598  [(43125, 7), (43379, 11), (43633, 15), (43888,...   \n",
       "711599  [(43891, 3), (44146, 3), (44400, 4), (44654, 6...   \n",
       "711600  [(45171, 11), (45424, 5), (45434, 6), (45678, ...   \n",
       "\n",
       "                           folder  \n",
       "0        1.2.826.0.1.3680043.3306  \n",
       "1        1.2.826.0.1.3680043.3306  \n",
       "2        1.2.826.0.1.3680043.3306  \n",
       "3        1.2.826.0.1.3680043.3306  \n",
       "4        1.2.826.0.1.3680043.3306  \n",
       "...                           ...  \n",
       "711596  1.2.826.0.1.3680043.23957  \n",
       "711597  1.2.826.0.1.3680043.23957  \n",
       "711598  1.2.826.0.1.3680043.23957  \n",
       "711599  1.2.826.0.1.3680043.23957  \n",
       "711600  1.2.826.0.1.3680043.23957  \n",
       "\n",
       "[711601 rows x 10 columns]"
      ]
     },
     "execution_count": 302,
     "metadata": {},
     "output_type": "execute_result"
    }
   ],
   "source": [
    "data = pd.read_csv('./data/train_segmentations.csv')\n",
    "\n",
    "data['folder'] = data.image_path.apply(lambda x: x.split('/')[-2])\n",
    "\n",
    "data"
   ]
  },
  {
   "cell_type": "code",
   "execution_count": 497,
   "id": "ee813054",
   "metadata": {},
   "outputs": [
    {
     "name": "stderr",
     "output_type": "stream",
     "text": [
      "100%|██████████| 2019/2019 [00:52<00:00, 38.24it/s]\n"
     ]
    }
   ],
   "source": [
    "DAT = []\n",
    "\n",
    "for gri, grd in tqdm(data.groupby('folder')):\n",
    "    if gri not in train_master.StudyInstanceUID.unique():\n",
    "        continue\n",
    "    \n",
    "    Cs = train_master[train_master.StudyInstanceUID==gri].values[0, 2:].astype(np.float32)\n",
    "    \n",
    "    for C, is_c in enumerate(Cs):\n",
    "        C += 1\n",
    "        if is_c:\n",
    "            idxs = np.array([idx for idx, rle in enumerate(grd[f'rle_c{C}'].values) if len(eval(rle))])\n",
    "            filt = grd.iloc[idxs]\n",
    "            \n",
    "            if not len(filt): continue\n",
    "            \n",
    "            maxed_rle = sum([sum([eval(x) for x in row.values[1:8]], []) for i, row in filt.iterrows()], [])\n",
    "            maxed_mask = rle_decode(maxed_rle, (256, 256))\n",
    "            box = crop_mask_with_quantile(maxed_mask)\n",
    "            \n",
    "            #'''\n",
    "            images = []\n",
    "            for idx in range(len(idxs)):\n",
    "                row = filt.iloc[idx]\n",
    "                image = np.load(row.image_path)\n",
    "\n",
    "                #try:\n",
    "                row_prev = filt.iloc[np.clip(idx-2, 0, len(filt)-1)]\n",
    "                row_next = filt.iloc[np.clip(idx+2, 0, len(filt)-1)]\n",
    "                #except:\n",
    "                    #row_prev = row\n",
    "                    #row_next = row\n",
    "\n",
    "                if row_prev.folder!=row.folder:\n",
    "                    row_prev = row\n",
    "                if row_next.folder!=row.folder:\n",
    "                    row_next = row\n",
    "\n",
    "                try: image_prev = np.load(row_prev.image_path)\n",
    "                except: image_prev = image\n",
    "                try: image_next = np.load(row_next.image_path)\n",
    "                except: image_next = image\n",
    "\n",
    "                image = np.stack([image_prev, image, image_next], -1)\n",
    "\n",
    "                height, width = image.shape[:2]\n",
    "                x1, y1, x2, y2 = copy.deepcopy(box)\n",
    "                y1, y2, x1, x2 = int(height*y1), int(height*y2), int(width*x1), int(width*x2)\n",
    "\n",
    "                image = image[y1:y2, x1:x2]\n",
    "\n",
    "                transformed = valid_transforms(image=image)\n",
    "                image = transformed['image']\n",
    "\n",
    "                if image.dtype==torch.uint8: image = image.float() / image.max()\n",
    "\n",
    "                images.append(image)\n",
    "\n",
    "            images = torch.stack(images)\n",
    "            \n",
    "            with torch.no_grad():\n",
    "                OUTPUTS = []\n",
    "                for model in models[:]:\n",
    "                    with torch.cuda.amp.autocast(enabled=True):\n",
    "                        logits, logits_mask = model(images.cuda())\n",
    "                    outputs = logits.float().sigmoid().detach().cpu().numpy()\n",
    "                    OUTPUTS.append(outputs)\n",
    "            \n",
    "            OUTPUTS = np.stack(OUTPUTS).mean(0)\n",
    "            #'''\n",
    "            \n",
    "            filt['patient_crop_x1'] = box[0]\n",
    "            filt['patient_crop_y1'] = box[1]\n",
    "            filt['patient_crop_x2'] = box[2]\n",
    "            filt['patient_crop_y2'] = box[3]\n",
    "            \n",
    "            #filt['prediction'] = OUTPUTS\n",
    "            DAT.append(filt)\n",
    "    \n",
    "    #break\n",
    "    \n",
    "DAT = pd.concat(DAT)"
   ]
  },
  {
   "cell_type": "code",
   "execution_count": null,
   "id": "13f46116",
   "metadata": {},
   "outputs": [],
   "source": []
  },
  {
   "cell_type": "code",
   "execution_count": 508,
   "id": "6fee4454",
   "metadata": {},
   "outputs": [
    {
     "data": {
      "text/html": [
       "<div>\n",
       "<style scoped>\n",
       "    .dataframe tbody tr th:only-of-type {\n",
       "        vertical-align: middle;\n",
       "    }\n",
       "\n",
       "    .dataframe tbody tr th {\n",
       "        vertical-align: top;\n",
       "    }\n",
       "\n",
       "    .dataframe thead th {\n",
       "        text-align: right;\n",
       "    }\n",
       "</style>\n",
       "<table border=\"1\" class=\"dataframe\">\n",
       "  <thead>\n",
       "    <tr style=\"text-align: right;\">\n",
       "      <th></th>\n",
       "      <th>image_path</th>\n",
       "      <th>rle_c1</th>\n",
       "      <th>rle_c2</th>\n",
       "      <th>rle_c3</th>\n",
       "      <th>rle_c4</th>\n",
       "      <th>rle_c5</th>\n",
       "      <th>rle_c6</th>\n",
       "      <th>rle_c7</th>\n",
       "      <th>rle_c8</th>\n",
       "      <th>folder</th>\n",
       "      <th>patient_crop_x1</th>\n",
       "      <th>patient_crop_y1</th>\n",
       "      <th>patient_crop_x2</th>\n",
       "      <th>patient_crop_y2</th>\n",
       "      <th>prediction</th>\n",
       "    </tr>\n",
       "  </thead>\n",
       "  <tbody>\n",
       "    <tr>\n",
       "      <th>472284</th>\n",
       "      <td>./data/train_images_npy/1.2.826.0.1.3680043.10...</td>\n",
       "      <td>[(9083, 4), (9339, 5), (9596, 4), (9835, 3), (...</td>\n",
       "      <td>[(12680, 2), (12685, 1), (12936, 1)]</td>\n",
       "      <td>[]</td>\n",
       "      <td>[]</td>\n",
       "      <td>[]</td>\n",
       "      <td>[]</td>\n",
       "      <td>[]</td>\n",
       "      <td>[]</td>\n",
       "      <td>1.2.826.0.1.3680043.10016</td>\n",
       "      <td>0.262745</td>\n",
       "      <td>0.141176</td>\n",
       "      <td>0.811765</td>\n",
       "      <td>0.556863</td>\n",
       "      <td>0.001847</td>\n",
       "    </tr>\n",
       "    <tr>\n",
       "      <th>472285</th>\n",
       "      <td>./data/train_images_npy/1.2.826.0.1.3680043.10...</td>\n",
       "      <td>[(9083, 4), (9339, 5), (9595, 5), (9836, 4), (...</td>\n",
       "      <td>[(12169, 5), (12423, 8), (12679, 8), (12935, 8...</td>\n",
       "      <td>[]</td>\n",
       "      <td>[]</td>\n",
       "      <td>[]</td>\n",
       "      <td>[]</td>\n",
       "      <td>[]</td>\n",
       "      <td>[]</td>\n",
       "      <td>1.2.826.0.1.3680043.10016</td>\n",
       "      <td>0.262745</td>\n",
       "      <td>0.141176</td>\n",
       "      <td>0.811765</td>\n",
       "      <td>0.556863</td>\n",
       "      <td>0.003659</td>\n",
       "    </tr>\n",
       "    <tr>\n",
       "      <th>472286</th>\n",
       "      <td>./data/train_images_npy/1.2.826.0.1.3680043.10...</td>\n",
       "      <td>[(9339, 4), (9596, 4), (9852, 4), (10084, 2), ...</td>\n",
       "      <td>[(11913, 4), (12167, 7), (12423, 8), (12678, 1...</td>\n",
       "      <td>[]</td>\n",
       "      <td>[]</td>\n",
       "      <td>[]</td>\n",
       "      <td>[]</td>\n",
       "      <td>[]</td>\n",
       "      <td>[]</td>\n",
       "      <td>1.2.826.0.1.3680043.10016</td>\n",
       "      <td>0.262745</td>\n",
       "      <td>0.141176</td>\n",
       "      <td>0.811765</td>\n",
       "      <td>0.556863</td>\n",
       "      <td>0.004688</td>\n",
       "    </tr>\n",
       "    <tr>\n",
       "      <th>472287</th>\n",
       "      <td>./data/train_images_npy/1.2.826.0.1.3680043.10...</td>\n",
       "      <td>[(9597, 1), (9853, 1), (10084, 4), (10337, 7),...</td>\n",
       "      <td>[(11912, 5), (12167, 7), (12422, 10), (12678, ...</td>\n",
       "      <td>[]</td>\n",
       "      <td>[]</td>\n",
       "      <td>[]</td>\n",
       "      <td>[]</td>\n",
       "      <td>[]</td>\n",
       "      <td>[]</td>\n",
       "      <td>1.2.826.0.1.3680043.10016</td>\n",
       "      <td>0.262745</td>\n",
       "      <td>0.141176</td>\n",
       "      <td>0.811765</td>\n",
       "      <td>0.556863</td>\n",
       "      <td>0.007001</td>\n",
       "    </tr>\n",
       "    <tr>\n",
       "      <th>472288</th>\n",
       "      <td>./data/train_images_npy/1.2.826.0.1.3680043.10...</td>\n",
       "      <td>[(9839, 1), (10083, 6), (10337, 8), (10591, 9)...</td>\n",
       "      <td>[(11658, 1), (11912, 6), (12167, 9), (12422, 1...</td>\n",
       "      <td>[]</td>\n",
       "      <td>[]</td>\n",
       "      <td>[]</td>\n",
       "      <td>[]</td>\n",
       "      <td>[]</td>\n",
       "      <td>[]</td>\n",
       "      <td>1.2.826.0.1.3680043.10016</td>\n",
       "      <td>0.262745</td>\n",
       "      <td>0.141176</td>\n",
       "      <td>0.811765</td>\n",
       "      <td>0.556863</td>\n",
       "      <td>0.038332</td>\n",
       "    </tr>\n",
       "    <tr>\n",
       "      <th>...</th>\n",
       "      <td>...</td>\n",
       "      <td>...</td>\n",
       "      <td>...</td>\n",
       "      <td>...</td>\n",
       "      <td>...</td>\n",
       "      <td>...</td>\n",
       "      <td>...</td>\n",
       "      <td>...</td>\n",
       "      <td>...</td>\n",
       "      <td>...</td>\n",
       "      <td>...</td>\n",
       "      <td>...</td>\n",
       "      <td>...</td>\n",
       "      <td>...</td>\n",
       "      <td>...</td>\n",
       "    </tr>\n",
       "    <tr>\n",
       "      <th>458585</th>\n",
       "      <td>./data/train_images_npy/1.2.826.0.1.3680043.99...</td>\n",
       "      <td>[]</td>\n",
       "      <td>[(6264, 17), (6519, 19), (6774, 21), (7029, 22...</td>\n",
       "      <td>[(7822, 2), (8077, 5), (8333, 6), (8560, 3), (...</td>\n",
       "      <td>[]</td>\n",
       "      <td>[]</td>\n",
       "      <td>[]</td>\n",
       "      <td>[]</td>\n",
       "      <td>[]</td>\n",
       "      <td>1.2.826.0.1.3680043.9996</td>\n",
       "      <td>0.258824</td>\n",
       "      <td>0.078431</td>\n",
       "      <td>0.709804</td>\n",
       "      <td>0.384314</td>\n",
       "      <td>0.029934</td>\n",
       "    </tr>\n",
       "    <tr>\n",
       "      <th>458586</th>\n",
       "      <td>./data/train_images_npy/1.2.826.0.1.3680043.99...</td>\n",
       "      <td>[]</td>\n",
       "      <td>[(6265, 16), (6519, 19), (6774, 20), (7030, 20...</td>\n",
       "      <td>[(7566, 2), (7821, 4), (8077, 5), (8305, 2), (...</td>\n",
       "      <td>[]</td>\n",
       "      <td>[]</td>\n",
       "      <td>[]</td>\n",
       "      <td>[]</td>\n",
       "      <td>[]</td>\n",
       "      <td>1.2.826.0.1.3680043.9996</td>\n",
       "      <td>0.258824</td>\n",
       "      <td>0.078431</td>\n",
       "      <td>0.709804</td>\n",
       "      <td>0.384314</td>\n",
       "      <td>0.012875</td>\n",
       "    </tr>\n",
       "    <tr>\n",
       "      <th>458587</th>\n",
       "      <td>./data/train_images_npy/1.2.826.0.1.3680043.99...</td>\n",
       "      <td>[]</td>\n",
       "      <td>[(6275, 5), (6520, 17), (6775, 18), (7030, 19)...</td>\n",
       "      <td>[(7566, 2), (7821, 5), (8076, 7), (8305, 3), (...</td>\n",
       "      <td>[]</td>\n",
       "      <td>[]</td>\n",
       "      <td>[]</td>\n",
       "      <td>[]</td>\n",
       "      <td>[]</td>\n",
       "      <td>1.2.826.0.1.3680043.9996</td>\n",
       "      <td>0.258824</td>\n",
       "      <td>0.078431</td>\n",
       "      <td>0.709804</td>\n",
       "      <td>0.384314</td>\n",
       "      <td>0.017681</td>\n",
       "    </tr>\n",
       "    <tr>\n",
       "      <th>458588</th>\n",
       "      <td>./data/train_images_npy/1.2.826.0.1.3680043.99...</td>\n",
       "      <td>[]</td>\n",
       "      <td>[(6520, 7), (6530, 5), (6775, 17), (7031, 17),...</td>\n",
       "      <td>[(7565, 3), (7820, 6), (8050, 2), (8076, 7), (...</td>\n",
       "      <td>[]</td>\n",
       "      <td>[]</td>\n",
       "      <td>[]</td>\n",
       "      <td>[]</td>\n",
       "      <td>[]</td>\n",
       "      <td>1.2.826.0.1.3680043.9996</td>\n",
       "      <td>0.258824</td>\n",
       "      <td>0.078431</td>\n",
       "      <td>0.709804</td>\n",
       "      <td>0.384314</td>\n",
       "      <td>0.007745</td>\n",
       "    </tr>\n",
       "    <tr>\n",
       "      <th>458589</th>\n",
       "      <td>./data/train_images_npy/1.2.826.0.1.3680043.99...</td>\n",
       "      <td>[]</td>\n",
       "      <td>[(6522, 1), (6776, 6), (7032, 9), (7289, 8), (...</td>\n",
       "      <td>[(7565, 3), (7794, 3), (7820, 5), (8050, 3), (...</td>\n",
       "      <td>[]</td>\n",
       "      <td>[]</td>\n",
       "      <td>[]</td>\n",
       "      <td>[]</td>\n",
       "      <td>[]</td>\n",
       "      <td>1.2.826.0.1.3680043.9996</td>\n",
       "      <td>0.258824</td>\n",
       "      <td>0.078431</td>\n",
       "      <td>0.709804</td>\n",
       "      <td>0.384314</td>\n",
       "      <td>0.004754</td>\n",
       "    </tr>\n",
       "  </tbody>\n",
       "</table>\n",
       "<p>80715 rows × 15 columns</p>\n",
       "</div>"
      ],
      "text/plain": [
       "                                               image_path  \\\n",
       "472284  ./data/train_images_npy/1.2.826.0.1.3680043.10...   \n",
       "472285  ./data/train_images_npy/1.2.826.0.1.3680043.10...   \n",
       "472286  ./data/train_images_npy/1.2.826.0.1.3680043.10...   \n",
       "472287  ./data/train_images_npy/1.2.826.0.1.3680043.10...   \n",
       "472288  ./data/train_images_npy/1.2.826.0.1.3680043.10...   \n",
       "...                                                   ...   \n",
       "458585  ./data/train_images_npy/1.2.826.0.1.3680043.99...   \n",
       "458586  ./data/train_images_npy/1.2.826.0.1.3680043.99...   \n",
       "458587  ./data/train_images_npy/1.2.826.0.1.3680043.99...   \n",
       "458588  ./data/train_images_npy/1.2.826.0.1.3680043.99...   \n",
       "458589  ./data/train_images_npy/1.2.826.0.1.3680043.99...   \n",
       "\n",
       "                                                   rle_c1  \\\n",
       "472284  [(9083, 4), (9339, 5), (9596, 4), (9835, 3), (...   \n",
       "472285  [(9083, 4), (9339, 5), (9595, 5), (9836, 4), (...   \n",
       "472286  [(9339, 4), (9596, 4), (9852, 4), (10084, 2), ...   \n",
       "472287  [(9597, 1), (9853, 1), (10084, 4), (10337, 7),...   \n",
       "472288  [(9839, 1), (10083, 6), (10337, 8), (10591, 9)...   \n",
       "...                                                   ...   \n",
       "458585                                                 []   \n",
       "458586                                                 []   \n",
       "458587                                                 []   \n",
       "458588                                                 []   \n",
       "458589                                                 []   \n",
       "\n",
       "                                                   rle_c2  \\\n",
       "472284               [(12680, 2), (12685, 1), (12936, 1)]   \n",
       "472285  [(12169, 5), (12423, 8), (12679, 8), (12935, 8...   \n",
       "472286  [(11913, 4), (12167, 7), (12423, 8), (12678, 1...   \n",
       "472287  [(11912, 5), (12167, 7), (12422, 10), (12678, ...   \n",
       "472288  [(11658, 1), (11912, 6), (12167, 9), (12422, 1...   \n",
       "...                                                   ...   \n",
       "458585  [(6264, 17), (6519, 19), (6774, 21), (7029, 22...   \n",
       "458586  [(6265, 16), (6519, 19), (6774, 20), (7030, 20...   \n",
       "458587  [(6275, 5), (6520, 17), (6775, 18), (7030, 19)...   \n",
       "458588  [(6520, 7), (6530, 5), (6775, 17), (7031, 17),...   \n",
       "458589  [(6522, 1), (6776, 6), (7032, 9), (7289, 8), (...   \n",
       "\n",
       "                                                   rle_c3 rle_c4 rle_c5  \\\n",
       "472284                                                 []     []     []   \n",
       "472285                                                 []     []     []   \n",
       "472286                                                 []     []     []   \n",
       "472287                                                 []     []     []   \n",
       "472288                                                 []     []     []   \n",
       "...                                                   ...    ...    ...   \n",
       "458585  [(7822, 2), (8077, 5), (8333, 6), (8560, 3), (...     []     []   \n",
       "458586  [(7566, 2), (7821, 4), (8077, 5), (8305, 2), (...     []     []   \n",
       "458587  [(7566, 2), (7821, 5), (8076, 7), (8305, 3), (...     []     []   \n",
       "458588  [(7565, 3), (7820, 6), (8050, 2), (8076, 7), (...     []     []   \n",
       "458589  [(7565, 3), (7794, 3), (7820, 5), (8050, 3), (...     []     []   \n",
       "\n",
       "       rle_c6 rle_c7 rle_c8                     folder  patient_crop_x1  \\\n",
       "472284     []     []     []  1.2.826.0.1.3680043.10016         0.262745   \n",
       "472285     []     []     []  1.2.826.0.1.3680043.10016         0.262745   \n",
       "472286     []     []     []  1.2.826.0.1.3680043.10016         0.262745   \n",
       "472287     []     []     []  1.2.826.0.1.3680043.10016         0.262745   \n",
       "472288     []     []     []  1.2.826.0.1.3680043.10016         0.262745   \n",
       "...       ...    ...    ...                        ...              ...   \n",
       "458585     []     []     []   1.2.826.0.1.3680043.9996         0.258824   \n",
       "458586     []     []     []   1.2.826.0.1.3680043.9996         0.258824   \n",
       "458587     []     []     []   1.2.826.0.1.3680043.9996         0.258824   \n",
       "458588     []     []     []   1.2.826.0.1.3680043.9996         0.258824   \n",
       "458589     []     []     []   1.2.826.0.1.3680043.9996         0.258824   \n",
       "\n",
       "        patient_crop_y1  patient_crop_x2  patient_crop_y2  prediction  \n",
       "472284         0.141176         0.811765         0.556863    0.001847  \n",
       "472285         0.141176         0.811765         0.556863    0.003659  \n",
       "472286         0.141176         0.811765         0.556863    0.004688  \n",
       "472287         0.141176         0.811765         0.556863    0.007001  \n",
       "472288         0.141176         0.811765         0.556863    0.038332  \n",
       "...                 ...              ...              ...         ...  \n",
       "458585         0.078431         0.709804         0.384314    0.029934  \n",
       "458586         0.078431         0.709804         0.384314    0.012875  \n",
       "458587         0.078431         0.709804         0.384314    0.017681  \n",
       "458588         0.078431         0.709804         0.384314    0.007745  \n",
       "458589         0.078431         0.709804         0.384314    0.004754  \n",
       "\n",
       "[80715 rows x 15 columns]"
      ]
     },
     "execution_count": 508,
     "metadata": {},
     "output_type": "execute_result"
    }
   ],
   "source": [
    "DAT"
   ]
  },
  {
   "cell_type": "code",
   "execution_count": null,
   "id": "8502db81",
   "metadata": {},
   "outputs": [],
   "source": []
  },
  {
   "cell_type": "code",
   "execution_count": 507,
   "id": "7e58650e",
   "metadata": {},
   "outputs": [],
   "source": [
    "DAT.to_csv('./data/train_stage1_pseudo1.csv', index=False)"
   ]
  },
  {
   "cell_type": "code",
   "execution_count": null,
   "id": "d3850caa",
   "metadata": {},
   "outputs": [],
   "source": []
  },
  {
   "cell_type": "code",
   "execution_count": null,
   "id": "ac1ebd4b",
   "metadata": {},
   "outputs": [],
   "source": []
  },
  {
   "cell_type": "code",
   "execution_count": null,
   "id": "4435e0e7",
   "metadata": {},
   "outputs": [],
   "source": []
  },
  {
   "cell_type": "code",
   "execution_count": 468,
   "id": "5d9a57b2",
   "metadata": {},
   "outputs": [
    {
     "data": {
      "text/html": [
       "<div>\n",
       "<style scoped>\n",
       "    .dataframe tbody tr th:only-of-type {\n",
       "        vertical-align: middle;\n",
       "    }\n",
       "\n",
       "    .dataframe tbody tr th {\n",
       "        vertical-align: top;\n",
       "    }\n",
       "\n",
       "    .dataframe thead th {\n",
       "        text-align: right;\n",
       "    }\n",
       "</style>\n",
       "<table border=\"1\" class=\"dataframe\">\n",
       "  <thead>\n",
       "    <tr style=\"text-align: right;\">\n",
       "      <th></th>\n",
       "      <th>image_path</th>\n",
       "      <th>rle_c1</th>\n",
       "      <th>rle_c2</th>\n",
       "      <th>rle_c3</th>\n",
       "      <th>rle_c4</th>\n",
       "      <th>rle_c5</th>\n",
       "      <th>rle_c6</th>\n",
       "      <th>rle_c7</th>\n",
       "      <th>rle_c8</th>\n",
       "      <th>folder</th>\n",
       "      <th>prediction</th>\n",
       "    </tr>\n",
       "  </thead>\n",
       "  <tbody>\n",
       "    <tr>\n",
       "      <th>570978</th>\n",
       "      <td>./data/train_images_npy/1.2.826.0.1.3680043.10...</td>\n",
       "      <td>[]</td>\n",
       "      <td>[]</td>\n",
       "      <td>[]</td>\n",
       "      <td>[]</td>\n",
       "      <td>[(20864, 2), (21119, 2), (22139, 10), (22384, ...</td>\n",
       "      <td>[(23653, 1), (27807, 6), (28062, 11), (28315, ...</td>\n",
       "      <td>[]</td>\n",
       "      <td>[]</td>\n",
       "      <td>1.2.826.0.1.3680043.10041</td>\n",
       "      <td>0.300478</td>\n",
       "    </tr>\n",
       "    <tr>\n",
       "      <th>570979</th>\n",
       "      <td>./data/train_images_npy/1.2.826.0.1.3680043.10...</td>\n",
       "      <td>[]</td>\n",
       "      <td>[]</td>\n",
       "      <td>[]</td>\n",
       "      <td>[]</td>\n",
       "      <td>[(21886, 5), (22132, 20), (22384, 29), (22639,...</td>\n",
       "      <td>[(28073, 2), (28328, 2), (28583, 2), (28838, 2...</td>\n",
       "      <td>[]</td>\n",
       "      <td>[]</td>\n",
       "      <td>1.2.826.0.1.3680043.10041</td>\n",
       "      <td>0.340028</td>\n",
       "    </tr>\n",
       "    <tr>\n",
       "      <th>570980</th>\n",
       "      <td>./data/train_images_npy/1.2.826.0.1.3680043.10...</td>\n",
       "      <td>[]</td>\n",
       "      <td>[]</td>\n",
       "      <td>[]</td>\n",
       "      <td>[]</td>\n",
       "      <td>[(21631, 2), (21880, 12), (22133, 18), (22374,...</td>\n",
       "      <td>[(26970, 2), (27041, 2), (27227, 2), (27297, 2...</td>\n",
       "      <td>[]</td>\n",
       "      <td>[]</td>\n",
       "      <td>1.2.826.0.1.3680043.10041</td>\n",
       "      <td>0.508889</td>\n",
       "    </tr>\n",
       "    <tr>\n",
       "      <th>570982</th>\n",
       "      <td>./data/train_images_npy/1.2.826.0.1.3680043.10...</td>\n",
       "      <td>[]</td>\n",
       "      <td>[]</td>\n",
       "      <td>[]</td>\n",
       "      <td>[]</td>\n",
       "      <td>[(21884, 10), (22118, 4), (22135, 17), (22373,...</td>\n",
       "      <td>[(27223, 2), (27477, 6), (27493, 1), (27732, 7...</td>\n",
       "      <td>[]</td>\n",
       "      <td>[]</td>\n",
       "      <td>1.2.826.0.1.3680043.10041</td>\n",
       "      <td>0.353702</td>\n",
       "    </tr>\n",
       "    <tr>\n",
       "      <th>570988</th>\n",
       "      <td>./data/train_images_npy/1.2.826.0.1.3680043.10...</td>\n",
       "      <td>[]</td>\n",
       "      <td>[]</td>\n",
       "      <td>[]</td>\n",
       "      <td>[]</td>\n",
       "      <td>[(20596, 4), (20850, 8), (21104, 11), (21357, ...</td>\n",
       "      <td>[(22361, 3), (22376, 2), (22617, 5), (22631, 4...</td>\n",
       "      <td>[]</td>\n",
       "      <td>[]</td>\n",
       "      <td>1.2.826.0.1.3680043.10041</td>\n",
       "      <td>0.464424</td>\n",
       "    </tr>\n",
       "    <tr>\n",
       "      <th>...</th>\n",
       "      <td>...</td>\n",
       "      <td>...</td>\n",
       "      <td>...</td>\n",
       "      <td>...</td>\n",
       "      <td>...</td>\n",
       "      <td>...</td>\n",
       "      <td>...</td>\n",
       "      <td>...</td>\n",
       "      <td>...</td>\n",
       "      <td>...</td>\n",
       "      <td>...</td>\n",
       "    </tr>\n",
       "    <tr>\n",
       "      <th>138531</th>\n",
       "      <td>./data/train_images_npy/1.2.826.0.1.3680043.99...</td>\n",
       "      <td>[]</td>\n",
       "      <td>[]</td>\n",
       "      <td>[]</td>\n",
       "      <td>[(14974, 19), (15228, 23), (15483, 25), (15738...</td>\n",
       "      <td>[(20916, 1), (21166, 10), (21421, 12), (21675,...</td>\n",
       "      <td>[]</td>\n",
       "      <td>[]</td>\n",
       "      <td>[]</td>\n",
       "      <td>1.2.826.0.1.3680043.9940</td>\n",
       "      <td>0.697753</td>\n",
       "    </tr>\n",
       "    <tr>\n",
       "      <th>138532</th>\n",
       "      <td>./data/train_images_npy/1.2.826.0.1.3680043.99...</td>\n",
       "      <td>[]</td>\n",
       "      <td>[]</td>\n",
       "      <td>[]</td>\n",
       "      <td>[(14975, 18), (15229, 22), (15483, 25), (15738...</td>\n",
       "      <td>[(21166, 9), (21420, 12), (21675, 14), (21930,...</td>\n",
       "      <td>[]</td>\n",
       "      <td>[]</td>\n",
       "      <td>[]</td>\n",
       "      <td>1.2.826.0.1.3680043.9940</td>\n",
       "      <td>0.634407</td>\n",
       "    </tr>\n",
       "    <tr>\n",
       "      <th>138533</th>\n",
       "      <td>./data/train_images_npy/1.2.826.0.1.3680043.99...</td>\n",
       "      <td>[]</td>\n",
       "      <td>[]</td>\n",
       "      <td>[]</td>\n",
       "      <td>[(14976, 16), (15229, 22), (15484, 25), (15738...</td>\n",
       "      <td>[(21166, 6), (21420, 11), (21674, 14), (21929,...</td>\n",
       "      <td>[]</td>\n",
       "      <td>[]</td>\n",
       "      <td>[]</td>\n",
       "      <td>1.2.826.0.1.3680043.9940</td>\n",
       "      <td>0.384131</td>\n",
       "    </tr>\n",
       "    <tr>\n",
       "      <th>458541</th>\n",
       "      <td>./data/train_images_npy/1.2.826.0.1.3680043.99...</td>\n",
       "      <td>[(3961, 2), (4216, 6), (4471, 9), (4727, 10), ...</td>\n",
       "      <td>[(6266, 4), (6519, 9), (6775, 9), (7030, 10), ...</td>\n",
       "      <td>[]</td>\n",
       "      <td>[]</td>\n",
       "      <td>[]</td>\n",
       "      <td>[]</td>\n",
       "      <td>[]</td>\n",
       "      <td>[]</td>\n",
       "      <td>1.2.826.0.1.3680043.9996</td>\n",
       "      <td>0.450701</td>\n",
       "    </tr>\n",
       "    <tr>\n",
       "      <th>458542</th>\n",
       "      <td>./data/train_images_npy/1.2.826.0.1.3680043.99...</td>\n",
       "      <td>[(4216, 6), (4471, 9), (4727, 10), (4983, 10),...</td>\n",
       "      <td>[(6266, 4), (6520, 7), (6775, 9), (7030, 10), ...</td>\n",
       "      <td>[]</td>\n",
       "      <td>[]</td>\n",
       "      <td>[]</td>\n",
       "      <td>[]</td>\n",
       "      <td>[]</td>\n",
       "      <td>[]</td>\n",
       "      <td>1.2.826.0.1.3680043.9996</td>\n",
       "      <td>0.490847</td>\n",
       "    </tr>\n",
       "  </tbody>\n",
       "</table>\n",
       "<p>24236 rows × 11 columns</p>\n",
       "</div>"
      ],
      "text/plain": [
       "                                               image_path  \\\n",
       "570978  ./data/train_images_npy/1.2.826.0.1.3680043.10...   \n",
       "570979  ./data/train_images_npy/1.2.826.0.1.3680043.10...   \n",
       "570980  ./data/train_images_npy/1.2.826.0.1.3680043.10...   \n",
       "570982  ./data/train_images_npy/1.2.826.0.1.3680043.10...   \n",
       "570988  ./data/train_images_npy/1.2.826.0.1.3680043.10...   \n",
       "...                                                   ...   \n",
       "138531  ./data/train_images_npy/1.2.826.0.1.3680043.99...   \n",
       "138532  ./data/train_images_npy/1.2.826.0.1.3680043.99...   \n",
       "138533  ./data/train_images_npy/1.2.826.0.1.3680043.99...   \n",
       "458541  ./data/train_images_npy/1.2.826.0.1.3680043.99...   \n",
       "458542  ./data/train_images_npy/1.2.826.0.1.3680043.99...   \n",
       "\n",
       "                                                   rle_c1  \\\n",
       "570978                                                 []   \n",
       "570979                                                 []   \n",
       "570980                                                 []   \n",
       "570982                                                 []   \n",
       "570988                                                 []   \n",
       "...                                                   ...   \n",
       "138531                                                 []   \n",
       "138532                                                 []   \n",
       "138533                                                 []   \n",
       "458541  [(3961, 2), (4216, 6), (4471, 9), (4727, 10), ...   \n",
       "458542  [(4216, 6), (4471, 9), (4727, 10), (4983, 10),...   \n",
       "\n",
       "                                                   rle_c2 rle_c3  \\\n",
       "570978                                                 []     []   \n",
       "570979                                                 []     []   \n",
       "570980                                                 []     []   \n",
       "570982                                                 []     []   \n",
       "570988                                                 []     []   \n",
       "...                                                   ...    ...   \n",
       "138531                                                 []     []   \n",
       "138532                                                 []     []   \n",
       "138533                                                 []     []   \n",
       "458541  [(6266, 4), (6519, 9), (6775, 9), (7030, 10), ...     []   \n",
       "458542  [(6266, 4), (6520, 7), (6775, 9), (7030, 10), ...     []   \n",
       "\n",
       "                                                   rle_c4  \\\n",
       "570978                                                 []   \n",
       "570979                                                 []   \n",
       "570980                                                 []   \n",
       "570982                                                 []   \n",
       "570988                                                 []   \n",
       "...                                                   ...   \n",
       "138531  [(14974, 19), (15228, 23), (15483, 25), (15738...   \n",
       "138532  [(14975, 18), (15229, 22), (15483, 25), (15738...   \n",
       "138533  [(14976, 16), (15229, 22), (15484, 25), (15738...   \n",
       "458541                                                 []   \n",
       "458542                                                 []   \n",
       "\n",
       "                                                   rle_c5  \\\n",
       "570978  [(20864, 2), (21119, 2), (22139, 10), (22384, ...   \n",
       "570979  [(21886, 5), (22132, 20), (22384, 29), (22639,...   \n",
       "570980  [(21631, 2), (21880, 12), (22133, 18), (22374,...   \n",
       "570982  [(21884, 10), (22118, 4), (22135, 17), (22373,...   \n",
       "570988  [(20596, 4), (20850, 8), (21104, 11), (21357, ...   \n",
       "...                                                   ...   \n",
       "138531  [(20916, 1), (21166, 10), (21421, 12), (21675,...   \n",
       "138532  [(21166, 9), (21420, 12), (21675, 14), (21930,...   \n",
       "138533  [(21166, 6), (21420, 11), (21674, 14), (21929,...   \n",
       "458541                                                 []   \n",
       "458542                                                 []   \n",
       "\n",
       "                                                   rle_c6 rle_c7 rle_c8  \\\n",
       "570978  [(23653, 1), (27807, 6), (28062, 11), (28315, ...     []     []   \n",
       "570979  [(28073, 2), (28328, 2), (28583, 2), (28838, 2...     []     []   \n",
       "570980  [(26970, 2), (27041, 2), (27227, 2), (27297, 2...     []     []   \n",
       "570982  [(27223, 2), (27477, 6), (27493, 1), (27732, 7...     []     []   \n",
       "570988  [(22361, 3), (22376, 2), (22617, 5), (22631, 4...     []     []   \n",
       "...                                                   ...    ...    ...   \n",
       "138531                                                 []     []     []   \n",
       "138532                                                 []     []     []   \n",
       "138533                                                 []     []     []   \n",
       "458541                                                 []     []     []   \n",
       "458542                                                 []     []     []   \n",
       "\n",
       "                           folder  prediction  \n",
       "570978  1.2.826.0.1.3680043.10041    0.300478  \n",
       "570979  1.2.826.0.1.3680043.10041    0.340028  \n",
       "570980  1.2.826.0.1.3680043.10041    0.508889  \n",
       "570982  1.2.826.0.1.3680043.10041    0.353702  \n",
       "570988  1.2.826.0.1.3680043.10041    0.464424  \n",
       "...                           ...         ...  \n",
       "138531   1.2.826.0.1.3680043.9940    0.697753  \n",
       "138532   1.2.826.0.1.3680043.9940    0.634407  \n",
       "138533   1.2.826.0.1.3680043.9940    0.384131  \n",
       "458541   1.2.826.0.1.3680043.9996    0.450701  \n",
       "458542   1.2.826.0.1.3680043.9996    0.490847  \n",
       "\n",
       "[24236 rows x 11 columns]"
      ]
     },
     "execution_count": 468,
     "metadata": {},
     "output_type": "execute_result"
    }
   ],
   "source": [
    "DAT[DAT.prediction>0.3]"
   ]
  },
  {
   "cell_type": "code",
   "execution_count": null,
   "id": "17ace5e1",
   "metadata": {},
   "outputs": [],
   "source": []
  },
  {
   "cell_type": "code",
   "execution_count": 459,
   "id": "8c80574d",
   "metadata": {},
   "outputs": [
    {
     "data": {
      "text/plain": [
       "(70267,)"
      ]
     },
     "execution_count": 459,
     "metadata": {},
     "output_type": "execute_result"
    }
   ],
   "source": [
    "DAT.index.unique().shape"
   ]
  },
  {
   "cell_type": "code",
   "execution_count": null,
   "id": "a820a045",
   "metadata": {},
   "outputs": [],
   "source": []
  },
  {
   "cell_type": "code",
   "execution_count": null,
   "id": "bfcbf52d",
   "metadata": {},
   "outputs": [],
   "source": []
  },
  {
   "cell_type": "code",
   "execution_count": null,
   "id": "db9ccc25",
   "metadata": {},
   "outputs": [],
   "source": []
  },
  {
   "cell_type": "code",
   "execution_count": 1053,
   "id": "42aed19e",
   "metadata": {},
   "outputs": [
    {
     "data": {
      "text/plain": [
       "<All keys matched successfully>"
      ]
     },
     "execution_count": 1053,
     "metadata": {},
     "output_type": "execute_result"
    }
   ],
   "source": [
    "model = Model()\n",
    "st = torch.load('./data/classification_model/tf_efficientnetv2_s.in21k_ft_in1k_v10/1_best.pth')\n",
    "model.load_state_dict(st)"
   ]
  },
  {
   "cell_type": "code",
   "execution_count": null,
   "id": "d1594f68",
   "metadata": {},
   "outputs": [],
   "source": []
  },
  {
   "cell_type": "code",
   "execution_count": 1475,
   "id": "a831e8b9",
   "metadata": {},
   "outputs": [
    {
     "name": "stderr",
     "output_type": "stream",
     "text": [
      "442/442 01:27<00:00 \n"
     ]
    },
    {
     "name": "stdout",
     "output_type": "stream",
     "text": [
      "EPOCH 1 | AUC 0.8849403197402309 LOSS 0.3542587161064148\n"
     ]
    },
    {
     "name": "stderr",
     "output_type": "stream",
     "text": [
      "442/442 01:23<00:00 \n"
     ]
    },
    {
     "name": "stdout",
     "output_type": "stream",
     "text": [
      "EPOCH 1 | AUC 0.8689828919409538 LOSS 0.37006819248199463\n"
     ]
    },
    {
     "name": "stderr",
     "output_type": "stream",
     "text": [
      "442/442 01:25<00:00 \n"
     ]
    },
    {
     "name": "stdout",
     "output_type": "stream",
     "text": [
      "EPOCH 1 | AUC 0.9019505700425723 LOSS 0.3344306945800781\n"
     ]
    },
    {
     "name": "stderr",
     "output_type": "stream",
     "text": [
      "441/441 01:22<00:00 \n"
     ]
    },
    {
     "name": "stdout",
     "output_type": "stream",
     "text": [
      "EPOCH 1 | AUC 0.8780951605300242 LOSS 0.3816220760345459\n"
     ]
    },
    {
     "data": {
      "text/plain": [
       "((14130, 8, 2), (14130, 8, 2), (14130,))"
      ]
     },
     "execution_count": 1475,
     "metadata": {},
     "output_type": "execute_result"
    }
   ],
   "source": [
    "OUTPUTS, TARGETS, IDS = [], [], []\n",
    "\n",
    "for F in range(4):\n",
    "    CFG.FOLD = F\n",
    "    \n",
    "    model = Model()\n",
    "    st = torch.load(f'./data/classification_model/tf_efficientnetv2_s.in21k_ft_in1k_v12/{F}_best.pth')\n",
    "    model.load_state_dict(st)\n",
    "    \n",
    "    train_loader, valid_loader = get_loaders(n_workers=4)\n",
    "    score, outputs, targets, ids = valid_one_epoch('', valid_loader, running_dist=False, do_ema=False, debug=True)\n",
    "    \n",
    "    OUTPUTS.extend(outputs)\n",
    "    TARGETS.extend(targets)\n",
    "    IDS.extend(ids)\n",
    "\n",
    "OUTPUTS, TARGETS, IDS = np.stack(OUTPUTS), np.stack(TARGETS), np.stack(IDS)\n",
    "OUTPUTS.shape, TARGETS.shape, IDS.shape"
   ]
  },
  {
   "cell_type": "code",
   "execution_count": null,
   "id": "5fef5037",
   "metadata": {},
   "outputs": [],
   "source": []
  },
  {
   "cell_type": "code",
   "execution_count": 1476,
   "id": "080951d4",
   "metadata": {
    "scrolled": true
   },
   "outputs": [],
   "source": [
    "groups = np.array([x.split('_')[0] for x in IDS])\n",
    "unqs = np.unique(groups)\n",
    "\n",
    "gt_df = {col: [] for col in ['StudyInstanceUID'] + [f\"C{c}\" for c in range(1,8)]}\n",
    "pred_df = {col: [] for col in ['StudyInstanceUID'] + [f\"C{c}\" for c in range(1,8)]}\n",
    "\n",
    "predictions, labels = [], []\n",
    "for group in unqs:\n",
    "    \n",
    "    #prediction = np.concatenate(OUTPUTS3[groups==group])[:, 1].max(0)\n",
    "    #label = data_master[data_master.StudyInstanceUID==group].values[0][-7:].astype(np.float32)\n",
    "    prediction = OUTPUTS[groups==group].max(1)[:, 1]\n",
    "    label = TARGETS[groups==group].max(1)[:, 1]#np.concatenate(TARGETS3[groups==group])[:, 1].max(0)\n",
    "    \n",
    "    predictions.append(prediction)\n",
    "    labels.append(label)\n",
    "    \n",
    "    gt_df['StudyInstanceUID'].append(group)\n",
    "    for C in range(1,8):\n",
    "        try:\n",
    "            gt_df[f'C{C}'].append(label[C-1])\n",
    "        except:\n",
    "            gt_df[f'C{C}'].append(label[0])\n",
    "    \n",
    "    pred_df['StudyInstanceUID'].append(group)\n",
    "    for C in range(1,8):\n",
    "        try:\n",
    "            pred_df[f'C{C}'].append(prediction[C-1])\n",
    "        except:\n",
    "            pred_df[f'C{C}'].append(prediction.mean())\n",
    "        \n",
    "    #break\n",
    "\n",
    "pred_df, gt_df = pd.DataFrame(pred_df), pd.DataFrame(gt_df)\n",
    "pred_df['patient_overall'] = pred_df.values[:, 1:].max(1)\n",
    "gt_df['patient_overall'] = gt_df.values[:, 1:].max(1)"
   ]
  },
  {
   "cell_type": "code",
   "execution_count": 1477,
   "id": "188574d8",
   "metadata": {},
   "outputs": [
    {
     "data": {
      "text/html": [
       "<div>\n",
       "<style scoped>\n",
       "    .dataframe tbody tr th:only-of-type {\n",
       "        vertical-align: middle;\n",
       "    }\n",
       "\n",
       "    .dataframe tbody tr th {\n",
       "        vertical-align: top;\n",
       "    }\n",
       "\n",
       "    .dataframe thead th {\n",
       "        text-align: right;\n",
       "    }\n",
       "</style>\n",
       "<table border=\"1\" class=\"dataframe\">\n",
       "  <thead>\n",
       "    <tr style=\"text-align: right;\">\n",
       "      <th></th>\n",
       "      <th>StudyInstanceUID</th>\n",
       "      <th>C1</th>\n",
       "      <th>C2</th>\n",
       "      <th>C3</th>\n",
       "      <th>C4</th>\n",
       "      <th>C5</th>\n",
       "      <th>C6</th>\n",
       "      <th>C7</th>\n",
       "      <th>patient_overall</th>\n",
       "    </tr>\n",
       "  </thead>\n",
       "  <tbody>\n",
       "    <tr>\n",
       "      <th>0</th>\n",
       "      <td>1.2.826.0.1.3680043.10001</td>\n",
       "      <td>0.014118</td>\n",
       "      <td>0.023331</td>\n",
       "      <td>0.168036</td>\n",
       "      <td>0.027066</td>\n",
       "      <td>0.090574</td>\n",
       "      <td>0.046725</td>\n",
       "      <td>0.390127</td>\n",
       "      <td>0.390127</td>\n",
       "    </tr>\n",
       "    <tr>\n",
       "      <th>1</th>\n",
       "      <td>1.2.826.0.1.3680043.10005</td>\n",
       "      <td>0.248170</td>\n",
       "      <td>0.061876</td>\n",
       "      <td>0.040922</td>\n",
       "      <td>0.093182</td>\n",
       "      <td>0.341692</td>\n",
       "      <td>0.203708</td>\n",
       "      <td>0.192236</td>\n",
       "      <td>0.341692</td>\n",
       "    </tr>\n",
       "    <tr>\n",
       "      <th>2</th>\n",
       "      <td>1.2.826.0.1.3680043.10014</td>\n",
       "      <td>0.012147</td>\n",
       "      <td>0.024054</td>\n",
       "      <td>0.023109</td>\n",
       "      <td>0.100348</td>\n",
       "      <td>0.507434</td>\n",
       "      <td>0.028653</td>\n",
       "      <td>0.066085</td>\n",
       "      <td>0.507434</td>\n",
       "    </tr>\n",
       "    <tr>\n",
       "      <th>3</th>\n",
       "      <td>1.2.826.0.1.3680043.10016</td>\n",
       "      <td>0.021698</td>\n",
       "      <td>0.024423</td>\n",
       "      <td>0.013172</td>\n",
       "      <td>0.023065</td>\n",
       "      <td>0.041618</td>\n",
       "      <td>0.034294</td>\n",
       "      <td>0.052328</td>\n",
       "      <td>0.052328</td>\n",
       "    </tr>\n",
       "    <tr>\n",
       "      <th>4</th>\n",
       "      <td>1.2.826.0.1.3680043.10032</td>\n",
       "      <td>0.014337</td>\n",
       "      <td>0.016091</td>\n",
       "      <td>0.017442</td>\n",
       "      <td>0.038683</td>\n",
       "      <td>0.269422</td>\n",
       "      <td>0.119923</td>\n",
       "      <td>0.178383</td>\n",
       "      <td>0.269422</td>\n",
       "    </tr>\n",
       "    <tr>\n",
       "      <th>...</th>\n",
       "      <td>...</td>\n",
       "      <td>...</td>\n",
       "      <td>...</td>\n",
       "      <td>...</td>\n",
       "      <td>...</td>\n",
       "      <td>...</td>\n",
       "      <td>...</td>\n",
       "      <td>...</td>\n",
       "      <td>...</td>\n",
       "    </tr>\n",
       "    <tr>\n",
       "      <th>2014</th>\n",
       "      <td>1.2.826.0.1.3680043.9926</td>\n",
       "      <td>0.238107</td>\n",
       "      <td>0.948632</td>\n",
       "      <td>0.049405</td>\n",
       "      <td>0.067670</td>\n",
       "      <td>0.174270</td>\n",
       "      <td>0.070560</td>\n",
       "      <td>0.103205</td>\n",
       "      <td>0.948632</td>\n",
       "    </tr>\n",
       "    <tr>\n",
       "      <th>2015</th>\n",
       "      <td>1.2.826.0.1.3680043.9940</td>\n",
       "      <td>0.016785</td>\n",
       "      <td>0.051654</td>\n",
       "      <td>0.017712</td>\n",
       "      <td>0.053601</td>\n",
       "      <td>0.032101</td>\n",
       "      <td>0.074500</td>\n",
       "      <td>0.124001</td>\n",
       "      <td>0.124001</td>\n",
       "    </tr>\n",
       "    <tr>\n",
       "      <th>2016</th>\n",
       "      <td>1.2.826.0.1.3680043.9994</td>\n",
       "      <td>0.019124</td>\n",
       "      <td>0.015845</td>\n",
       "      <td>0.018090</td>\n",
       "      <td>0.038178</td>\n",
       "      <td>0.091058</td>\n",
       "      <td>0.135690</td>\n",
       "      <td>0.086323</td>\n",
       "      <td>0.13569</td>\n",
       "    </tr>\n",
       "    <tr>\n",
       "      <th>2017</th>\n",
       "      <td>1.2.826.0.1.3680043.9996</td>\n",
       "      <td>0.651355</td>\n",
       "      <td>0.122418</td>\n",
       "      <td>0.016593</td>\n",
       "      <td>0.156491</td>\n",
       "      <td>0.021085</td>\n",
       "      <td>0.033972</td>\n",
       "      <td>0.064653</td>\n",
       "      <td>0.651355</td>\n",
       "    </tr>\n",
       "    <tr>\n",
       "      <th>2018</th>\n",
       "      <td>1.2.826.0.1.3680043.9997</td>\n",
       "      <td>0.024145</td>\n",
       "      <td>0.031380</td>\n",
       "      <td>0.035411</td>\n",
       "      <td>0.035079</td>\n",
       "      <td>0.040999</td>\n",
       "      <td>0.173148</td>\n",
       "      <td>0.311951</td>\n",
       "      <td>0.311951</td>\n",
       "    </tr>\n",
       "  </tbody>\n",
       "</table>\n",
       "<p>2019 rows × 9 columns</p>\n",
       "</div>"
      ],
      "text/plain": [
       "               StudyInstanceUID        C1        C2        C3        C4  \\\n",
       "0     1.2.826.0.1.3680043.10001  0.014118  0.023331  0.168036  0.027066   \n",
       "1     1.2.826.0.1.3680043.10005  0.248170  0.061876  0.040922  0.093182   \n",
       "2     1.2.826.0.1.3680043.10014  0.012147  0.024054  0.023109  0.100348   \n",
       "3     1.2.826.0.1.3680043.10016  0.021698  0.024423  0.013172  0.023065   \n",
       "4     1.2.826.0.1.3680043.10032  0.014337  0.016091  0.017442  0.038683   \n",
       "...                         ...       ...       ...       ...       ...   \n",
       "2014   1.2.826.0.1.3680043.9926  0.238107  0.948632  0.049405  0.067670   \n",
       "2015   1.2.826.0.1.3680043.9940  0.016785  0.051654  0.017712  0.053601   \n",
       "2016   1.2.826.0.1.3680043.9994  0.019124  0.015845  0.018090  0.038178   \n",
       "2017   1.2.826.0.1.3680043.9996  0.651355  0.122418  0.016593  0.156491   \n",
       "2018   1.2.826.0.1.3680043.9997  0.024145  0.031380  0.035411  0.035079   \n",
       "\n",
       "            C5        C6        C7 patient_overall  \n",
       "0     0.090574  0.046725  0.390127        0.390127  \n",
       "1     0.341692  0.203708  0.192236        0.341692  \n",
       "2     0.507434  0.028653  0.066085        0.507434  \n",
       "3     0.041618  0.034294  0.052328        0.052328  \n",
       "4     0.269422  0.119923  0.178383        0.269422  \n",
       "...        ...       ...       ...             ...  \n",
       "2014  0.174270  0.070560  0.103205        0.948632  \n",
       "2015  0.032101  0.074500  0.124001        0.124001  \n",
       "2016  0.091058  0.135690  0.086323         0.13569  \n",
       "2017  0.021085  0.033972  0.064653        0.651355  \n",
       "2018  0.040999  0.173148  0.311951        0.311951  \n",
       "\n",
       "[2019 rows x 9 columns]"
      ]
     },
     "execution_count": 1477,
     "metadata": {},
     "output_type": "execute_result"
    }
   ],
   "source": [
    "pred_df"
   ]
  },
  {
   "cell_type": "code",
   "execution_count": 1478,
   "id": "b2189fbd",
   "metadata": {},
   "outputs": [
    {
     "data": {
      "text/html": [
       "<div>\n",
       "<style scoped>\n",
       "    .dataframe tbody tr th:only-of-type {\n",
       "        vertical-align: middle;\n",
       "    }\n",
       "\n",
       "    .dataframe tbody tr th {\n",
       "        vertical-align: top;\n",
       "    }\n",
       "\n",
       "    .dataframe thead th {\n",
       "        text-align: right;\n",
       "    }\n",
       "</style>\n",
       "<table border=\"1\" class=\"dataframe\">\n",
       "  <thead>\n",
       "    <tr style=\"text-align: right;\">\n",
       "      <th></th>\n",
       "      <th>StudyInstanceUID</th>\n",
       "      <th>C1</th>\n",
       "      <th>C2</th>\n",
       "      <th>C3</th>\n",
       "      <th>C4</th>\n",
       "      <th>C5</th>\n",
       "      <th>C6</th>\n",
       "      <th>C7</th>\n",
       "      <th>patient_overall</th>\n",
       "    </tr>\n",
       "  </thead>\n",
       "  <tbody>\n",
       "    <tr>\n",
       "      <th>0</th>\n",
       "      <td>1.2.826.0.1.3680043.10001</td>\n",
       "      <td>0.0</td>\n",
       "      <td>0.0</td>\n",
       "      <td>0.0</td>\n",
       "      <td>0.0</td>\n",
       "      <td>0.0</td>\n",
       "      <td>0.0</td>\n",
       "      <td>0.0</td>\n",
       "      <td>0.0</td>\n",
       "    </tr>\n",
       "    <tr>\n",
       "      <th>1</th>\n",
       "      <td>1.2.826.0.1.3680043.10005</td>\n",
       "      <td>0.0</td>\n",
       "      <td>0.0</td>\n",
       "      <td>0.0</td>\n",
       "      <td>0.0</td>\n",
       "      <td>0.0</td>\n",
       "      <td>0.0</td>\n",
       "      <td>0.0</td>\n",
       "      <td>0.0</td>\n",
       "    </tr>\n",
       "    <tr>\n",
       "      <th>2</th>\n",
       "      <td>1.2.826.0.1.3680043.10014</td>\n",
       "      <td>0.0</td>\n",
       "      <td>0.0</td>\n",
       "      <td>0.0</td>\n",
       "      <td>0.0</td>\n",
       "      <td>0.0</td>\n",
       "      <td>0.0</td>\n",
       "      <td>0.0</td>\n",
       "      <td>0.0</td>\n",
       "    </tr>\n",
       "    <tr>\n",
       "      <th>3</th>\n",
       "      <td>1.2.826.0.1.3680043.10016</td>\n",
       "      <td>0.0</td>\n",
       "      <td>1.0</td>\n",
       "      <td>0.0</td>\n",
       "      <td>0.0</td>\n",
       "      <td>0.0</td>\n",
       "      <td>0.0</td>\n",
       "      <td>0.0</td>\n",
       "      <td>1.0</td>\n",
       "    </tr>\n",
       "    <tr>\n",
       "      <th>4</th>\n",
       "      <td>1.2.826.0.1.3680043.10032</td>\n",
       "      <td>0.0</td>\n",
       "      <td>0.0</td>\n",
       "      <td>0.0</td>\n",
       "      <td>0.0</td>\n",
       "      <td>0.0</td>\n",
       "      <td>0.0</td>\n",
       "      <td>0.0</td>\n",
       "      <td>0.0</td>\n",
       "    </tr>\n",
       "    <tr>\n",
       "      <th>...</th>\n",
       "      <td>...</td>\n",
       "      <td>...</td>\n",
       "      <td>...</td>\n",
       "      <td>...</td>\n",
       "      <td>...</td>\n",
       "      <td>...</td>\n",
       "      <td>...</td>\n",
       "      <td>...</td>\n",
       "      <td>...</td>\n",
       "    </tr>\n",
       "    <tr>\n",
       "      <th>2014</th>\n",
       "      <td>1.2.826.0.1.3680043.9926</td>\n",
       "      <td>0.0</td>\n",
       "      <td>1.0</td>\n",
       "      <td>0.0</td>\n",
       "      <td>0.0</td>\n",
       "      <td>0.0</td>\n",
       "      <td>0.0</td>\n",
       "      <td>0.0</td>\n",
       "      <td>1.0</td>\n",
       "    </tr>\n",
       "    <tr>\n",
       "      <th>2015</th>\n",
       "      <td>1.2.826.0.1.3680043.9940</td>\n",
       "      <td>0.0</td>\n",
       "      <td>0.0</td>\n",
       "      <td>0.0</td>\n",
       "      <td>1.0</td>\n",
       "      <td>1.0</td>\n",
       "      <td>0.0</td>\n",
       "      <td>0.0</td>\n",
       "      <td>1.0</td>\n",
       "    </tr>\n",
       "    <tr>\n",
       "      <th>2016</th>\n",
       "      <td>1.2.826.0.1.3680043.9994</td>\n",
       "      <td>0.0</td>\n",
       "      <td>0.0</td>\n",
       "      <td>0.0</td>\n",
       "      <td>0.0</td>\n",
       "      <td>0.0</td>\n",
       "      <td>0.0</td>\n",
       "      <td>0.0</td>\n",
       "      <td>0.0</td>\n",
       "    </tr>\n",
       "    <tr>\n",
       "      <th>2017</th>\n",
       "      <td>1.2.826.0.1.3680043.9996</td>\n",
       "      <td>0.0</td>\n",
       "      <td>1.0</td>\n",
       "      <td>0.0</td>\n",
       "      <td>0.0</td>\n",
       "      <td>0.0</td>\n",
       "      <td>0.0</td>\n",
       "      <td>0.0</td>\n",
       "      <td>1.0</td>\n",
       "    </tr>\n",
       "    <tr>\n",
       "      <th>2018</th>\n",
       "      <td>1.2.826.0.1.3680043.9997</td>\n",
       "      <td>0.0</td>\n",
       "      <td>0.0</td>\n",
       "      <td>0.0</td>\n",
       "      <td>0.0</td>\n",
       "      <td>0.0</td>\n",
       "      <td>0.0</td>\n",
       "      <td>0.0</td>\n",
       "      <td>0.0</td>\n",
       "    </tr>\n",
       "  </tbody>\n",
       "</table>\n",
       "<p>2019 rows × 9 columns</p>\n",
       "</div>"
      ],
      "text/plain": [
       "               StudyInstanceUID   C1   C2   C3   C4   C5   C6   C7  \\\n",
       "0     1.2.826.0.1.3680043.10001  0.0  0.0  0.0  0.0  0.0  0.0  0.0   \n",
       "1     1.2.826.0.1.3680043.10005  0.0  0.0  0.0  0.0  0.0  0.0  0.0   \n",
       "2     1.2.826.0.1.3680043.10014  0.0  0.0  0.0  0.0  0.0  0.0  0.0   \n",
       "3     1.2.826.0.1.3680043.10016  0.0  1.0  0.0  0.0  0.0  0.0  0.0   \n",
       "4     1.2.826.0.1.3680043.10032  0.0  0.0  0.0  0.0  0.0  0.0  0.0   \n",
       "...                         ...  ...  ...  ...  ...  ...  ...  ...   \n",
       "2014   1.2.826.0.1.3680043.9926  0.0  1.0  0.0  0.0  0.0  0.0  0.0   \n",
       "2015   1.2.826.0.1.3680043.9940  0.0  0.0  0.0  1.0  1.0  0.0  0.0   \n",
       "2016   1.2.826.0.1.3680043.9994  0.0  0.0  0.0  0.0  0.0  0.0  0.0   \n",
       "2017   1.2.826.0.1.3680043.9996  0.0  1.0  0.0  0.0  0.0  0.0  0.0   \n",
       "2018   1.2.826.0.1.3680043.9997  0.0  0.0  0.0  0.0  0.0  0.0  0.0   \n",
       "\n",
       "     patient_overall  \n",
       "0                0.0  \n",
       "1                0.0  \n",
       "2                0.0  \n",
       "3                1.0  \n",
       "4                0.0  \n",
       "...              ...  \n",
       "2014             1.0  \n",
       "2015             1.0  \n",
       "2016             0.0  \n",
       "2017             1.0  \n",
       "2018             0.0  \n",
       "\n",
       "[2019 rows x 9 columns]"
      ]
     },
     "execution_count": 1478,
     "metadata": {},
     "output_type": "execute_result"
    }
   ],
   "source": [
    "gt_df"
   ]
  },
  {
   "cell_type": "code",
   "execution_count": 1479,
   "id": "f164febf",
   "metadata": {
    "scrolled": true
   },
   "outputs": [
    {
     "name": "stdout",
     "output_type": "stream",
     "text": [
      "1 0.66991603 0.091509424\n",
      "2 0.69023275 0.09471284\n",
      "3 0.35932362 0.059247844\n",
      "4 0.47487321 0.070726685\n",
      "5 0.48910898 0.09777032\n",
      "6 0.5575611 0.1452752\n",
      "7 0.62278986 0.18636699\n"
     ]
    }
   ],
   "source": [
    "for C in range(1,8):\n",
    "    print(C, pred_df[gt_df[f'C{C}']==1][f\"C{C}\"].mean(), pred_df[gt_df[f'C{C}']==0][f\"C{C}\"].mean())"
   ]
  },
  {
   "cell_type": "code",
   "execution_count": null,
   "id": "70325b57",
   "metadata": {},
   "outputs": [],
   "source": []
  },
  {
   "cell_type": "code",
   "execution_count": 1480,
   "id": "e3d05dfb",
   "metadata": {},
   "outputs": [],
   "source": [
    "device = torch.device('cpu')\n",
    "# change it to nn.BCELoss(reduction='none') if you have sigmoid activation in last layer\n",
    "loss_fn = nn.BCELoss(reduction=\"none\") \n",
    "\n",
    "competition_weights = {\n",
    "    '-' : torch.tensor([1, 1, 1, 1, 1, 1, 1, 7], dtype=torch.float, device=device),\n",
    "    '+' : torch.tensor([2, 2, 2, 2, 2, 2, 2, 14], dtype=torch.float, device=device),\n",
    "}\n",
    "\n",
    "def competiton_loss(y_hat, y):\n",
    "    loss = loss_fn(y_hat, y)\n",
    "    weights = y * competition_weights['+'] + (1 - y) * competition_weights['-']\n",
    "    loss = (loss * weights).sum(axis=1).mean()\n",
    "\n",
    "    return loss / weights.sum()\n",
    "\n",
    "def competiton_loss_row_norm(y_hat, y):\n",
    "    y_hat, y = torch.as_tensor(y_hat.astype(np.float32)), torch.as_tensor(y.astype(np.float32))\n",
    "    loss = loss_fn(y_hat, y)\n",
    "    weights = y * competition_weights['+'] + (1 - y) * competition_weights['-']\n",
    "    loss = (loss * weights).sum(axis=1)\n",
    "    w_sum = weights.sum(axis=1)\n",
    "    loss = torch.div(loss, w_sum)\n",
    "    return loss.mean()"
   ]
  },
  {
   "cell_type": "code",
   "execution_count": 1483,
   "id": "74082171",
   "metadata": {},
   "outputs": [
    {
     "data": {
      "text/plain": [
       "tensor(0.3601)"
      ]
     },
     "execution_count": 1483,
     "metadata": {},
     "output_type": "execute_result"
    }
   ],
   "source": [
    "preds = pred_df.values[:, 1:].copy()\n",
    "labels = gt_df.values[:, 1:].copy()\n",
    "\n",
    "preds[:, :7] = np.clip(preds[:, :7] * 1., 0., 0.99)\n",
    "preds[:, -1] = np.clip(preds[:, -1] * 1., 0., 0.99)\n",
    "\n",
    "competiton_loss_row_norm(preds, labels)"
   ]
  },
  {
   "cell_type": "code",
   "execution_count": null,
   "id": "194a8fe7",
   "metadata": {},
   "outputs": [],
   "source": []
  },
  {
   "cell_type": "code",
   "execution_count": null,
   "id": "d8241439",
   "metadata": {},
   "outputs": [],
   "source": []
  },
  {
   "cell_type": "code",
   "execution_count": null,
   "id": "fd11a0cf",
   "metadata": {},
   "outputs": [],
   "source": []
  },
  {
   "cell_type": "code",
   "execution_count": 1217,
   "id": "7503fbae",
   "metadata": {
    "scrolled": true
   },
   "outputs": [
    {
     "data": {
      "text/plain": [
       "tensor(0.3684)"
      ]
     },
     "execution_count": 1217,
     "metadata": {},
     "output_type": "execute_result"
    }
   ],
   "source": [
    "preds = pred_df.values[:, 1:].copy()\n",
    "labels = gt_df.values[:, 1:].copy()\n",
    "\n",
    "preds[:, :7] = np.clip(preds[:, :7] * 1., 0., 0.99)\n",
    "preds[:, -1] = np.clip(preds[:, -1] * 1., 0., 1.)\n",
    "\n",
    "competiton_loss_row_norm(preds, labels)"
   ]
  },
  {
   "cell_type": "code",
   "execution_count": null,
   "id": "d82dade1",
   "metadata": {},
   "outputs": [],
   "source": []
  },
  {
   "cell_type": "code",
   "execution_count": null,
   "id": "f94d7e2b",
   "metadata": {},
   "outputs": [],
   "source": []
  },
  {
   "cell_type": "code",
   "execution_count": null,
   "id": "4d72d055",
   "metadata": {},
   "outputs": [],
   "source": []
  },
  {
   "cell_type": "code",
   "execution_count": null,
   "id": "69f2a806",
   "metadata": {},
   "outputs": [],
   "source": []
  },
  {
   "cell_type": "code",
   "execution_count": null,
   "id": "4fbff6a6",
   "metadata": {},
   "outputs": [],
   "source": []
  },
  {
   "cell_type": "code",
   "execution_count": 832,
   "id": "40cf2bf8",
   "metadata": {},
   "outputs": [
    {
     "data": {
      "text/plain": [
       "0.7465346534653465"
      ]
     },
     "execution_count": 832,
     "metadata": {},
     "output_type": "execute_result"
    }
   ],
   "source": [
    "np.sum(gt_df.patient_overall==(pred_df.patient_overall>0.2)) / len(gt_df)"
   ]
  },
  {
   "cell_type": "code",
   "execution_count": null,
   "id": "b6d32c7a",
   "metadata": {},
   "outputs": [],
   "source": []
  },
  {
   "cell_type": "code",
   "execution_count": null,
   "id": "d28295f6",
   "metadata": {},
   "outputs": [],
   "source": []
  },
  {
   "cell_type": "code",
   "execution_count": 730,
   "id": "7c602610",
   "metadata": {
    "scrolled": true
   },
   "outputs": [
    {
     "data": {
      "text/plain": [
       "0.7915564582152528"
      ]
     },
     "execution_count": 730,
     "metadata": {},
     "output_type": "execute_result"
    }
   ],
   "source": [
    "roc_auc_score(labels, predictions)"
   ]
  },
  {
   "cell_type": "code",
   "execution_count": null,
   "id": "046c95ba",
   "metadata": {},
   "outputs": [],
   "source": []
  },
  {
   "cell_type": "code",
   "execution_count": 736,
   "id": "741d75ef",
   "metadata": {},
   "outputs": [
    {
     "data": {
      "text/plain": [
       "(0.4405179, 0.09554876)"
      ]
     },
     "execution_count": 736,
     "metadata": {},
     "output_type": "execute_result"
    }
   ],
   "source": [
    "predictions[labels==1].mean(), predictions[labels==0].mean()"
   ]
  },
  {
   "cell_type": "code",
   "execution_count": 582,
   "id": "7afab72f",
   "metadata": {
    "scrolled": true
   },
   "outputs": [
    {
     "data": {
      "text/plain": [
       "(0.4506426, 0.07378038)"
      ]
     },
     "execution_count": 582,
     "metadata": {},
     "output_type": "execute_result"
    }
   ],
   "source": [
    "predictions[labels==1].mean(), predictions[labels==0].mean()"
   ]
  },
  {
   "cell_type": "code",
   "execution_count": null,
   "id": "ad8965d9",
   "metadata": {},
   "outputs": [],
   "source": []
  },
  {
   "cell_type": "code",
   "execution_count": 611,
   "id": "d6560b64",
   "metadata": {},
   "outputs": [
    {
     "data": {
      "text/plain": [
       "0.80471444927764"
      ]
     },
     "execution_count": 611,
     "metadata": {},
     "output_type": "execute_result"
    }
   ],
   "source": [
    "roc_auc_score(labels, predictions)"
   ]
  },
  {
   "cell_type": "code",
   "execution_count": 574,
   "id": "c300aca5",
   "metadata": {},
   "outputs": [
    {
     "data": {
      "text/plain": [
       "0.8574629579364652"
      ]
     },
     "execution_count": 574,
     "metadata": {},
     "output_type": "execute_result"
    }
   ],
   "source": [
    "roc_auc_score(labels, predictions)"
   ]
  },
  {
   "cell_type": "code",
   "execution_count": 563,
   "id": "9d92137c",
   "metadata": {
    "scrolled": true
   },
   "outputs": [
    {
     "data": {
      "text/plain": [
       "0.7654954586267344"
      ]
     },
     "execution_count": 563,
     "metadata": {},
     "output_type": "execute_result"
    }
   ],
   "source": [
    "roc_auc_score(labels, predictions)"
   ]
  },
  {
   "cell_type": "code",
   "execution_count": 433,
   "id": "557e518f",
   "metadata": {},
   "outputs": [
    {
     "data": {
      "text/plain": [
       "0.749659303394289"
      ]
     },
     "execution_count": 433,
     "metadata": {},
     "output_type": "execute_result"
    }
   ],
   "source": [
    "roc_auc_score(labels, predictions)"
   ]
  },
  {
   "cell_type": "code",
   "execution_count": null,
   "id": "4dc6b98e",
   "metadata": {},
   "outputs": [],
   "source": []
  },
  {
   "cell_type": "code",
   "execution_count": null,
   "id": "9984e90c",
   "metadata": {},
   "outputs": [],
   "source": []
  },
  {
   "cell_type": "code",
   "execution_count": null,
   "id": "4fb92ea0",
   "metadata": {},
   "outputs": [],
   "source": []
  },
  {
   "cell_type": "code",
   "execution_count": 202,
   "id": "bb46c96b",
   "metadata": {},
   "outputs": [
    {
     "name": "stderr",
     "output_type": "stream",
     "text": [
      "866/866 02:28<00:00 "
     ]
    },
    {
     "name": "stdout",
     "output_type": "stream",
     "text": [
      "EPOCH 1 | DICE 0.9007179995048279\n",
      "[0.90814558 0.90554593 0.89890237 0.90063547 0.89861352 0.89688042\n",
      " 0.89630272]\n"
     ]
    },
    {
     "name": "stderr",
     "output_type": "stream",
     "text": [
      "\n"
     ]
    }
   ],
   "source": [
    "_ = valid_one_epoch('', valid_loader, running_dist=False, do_ema=False, debug=True)"
   ]
  },
  {
   "cell_type": "code",
   "execution_count": 207,
   "id": "a7e88785",
   "metadata": {},
   "outputs": [
    {
     "data": {
      "text/plain": [
       "((3462, 32, 7), (3462, 32, 7), (3462,))"
      ]
     },
     "execution_count": 207,
     "metadata": {},
     "output_type": "execute_result"
    }
   ],
   "source": [
    "score, OUTPUTS, TARGETS, IDS = _\n",
    "OUTPUTS = np.stack(OUTPUTS)\n",
    "TARGETS = np.stack(TARGETS)\n",
    "IDS = np.array(IDS)\n",
    "OUTPUTS.shape, TARGETS.shape, IDS.shape"
   ]
  },
  {
   "cell_type": "code",
   "execution_count": null,
   "id": "bacfccac",
   "metadata": {},
   "outputs": [],
   "source": []
  },
  {
   "cell_type": "code",
   "execution_count": 209,
   "id": "34d28bc1",
   "metadata": {},
   "outputs": [
    {
     "data": {
      "text/html": [
       "<div>\n",
       "<style scoped>\n",
       "    .dataframe tbody tr th:only-of-type {\n",
       "        vertical-align: middle;\n",
       "    }\n",
       "\n",
       "    .dataframe tbody tr th {\n",
       "        vertical-align: top;\n",
       "    }\n",
       "\n",
       "    .dataframe thead th {\n",
       "        text-align: right;\n",
       "    }\n",
       "</style>\n",
       "<table border=\"1\" class=\"dataframe\">\n",
       "  <thead>\n",
       "    <tr style=\"text-align: right;\">\n",
       "      <th></th>\n",
       "      <th>StudyInstanceUID</th>\n",
       "      <th>patient_overall</th>\n",
       "      <th>C1</th>\n",
       "      <th>C2</th>\n",
       "      <th>C3</th>\n",
       "      <th>C4</th>\n",
       "      <th>C5</th>\n",
       "      <th>C6</th>\n",
       "      <th>C7</th>\n",
       "    </tr>\n",
       "  </thead>\n",
       "  <tbody>\n",
       "    <tr>\n",
       "      <th>0</th>\n",
       "      <td>1.2.826.0.1.3680043.6200</td>\n",
       "      <td>1</td>\n",
       "      <td>1</td>\n",
       "      <td>1</td>\n",
       "      <td>0</td>\n",
       "      <td>0</td>\n",
       "      <td>0</td>\n",
       "      <td>0</td>\n",
       "      <td>0</td>\n",
       "    </tr>\n",
       "    <tr>\n",
       "      <th>1</th>\n",
       "      <td>1.2.826.0.1.3680043.27262</td>\n",
       "      <td>1</td>\n",
       "      <td>0</td>\n",
       "      <td>1</td>\n",
       "      <td>0</td>\n",
       "      <td>0</td>\n",
       "      <td>0</td>\n",
       "      <td>0</td>\n",
       "      <td>0</td>\n",
       "    </tr>\n",
       "    <tr>\n",
       "      <th>2</th>\n",
       "      <td>1.2.826.0.1.3680043.21561</td>\n",
       "      <td>1</td>\n",
       "      <td>0</td>\n",
       "      <td>1</td>\n",
       "      <td>0</td>\n",
       "      <td>0</td>\n",
       "      <td>0</td>\n",
       "      <td>0</td>\n",
       "      <td>0</td>\n",
       "    </tr>\n",
       "    <tr>\n",
       "      <th>3</th>\n",
       "      <td>1.2.826.0.1.3680043.12351</td>\n",
       "      <td>0</td>\n",
       "      <td>0</td>\n",
       "      <td>0</td>\n",
       "      <td>0</td>\n",
       "      <td>0</td>\n",
       "      <td>0</td>\n",
       "      <td>0</td>\n",
       "      <td>0</td>\n",
       "    </tr>\n",
       "    <tr>\n",
       "      <th>4</th>\n",
       "      <td>1.2.826.0.1.3680043.1363</td>\n",
       "      <td>1</td>\n",
       "      <td>0</td>\n",
       "      <td>0</td>\n",
       "      <td>0</td>\n",
       "      <td>0</td>\n",
       "      <td>1</td>\n",
       "      <td>0</td>\n",
       "      <td>0</td>\n",
       "    </tr>\n",
       "    <tr>\n",
       "      <th>...</th>\n",
       "      <td>...</td>\n",
       "      <td>...</td>\n",
       "      <td>...</td>\n",
       "      <td>...</td>\n",
       "      <td>...</td>\n",
       "      <td>...</td>\n",
       "      <td>...</td>\n",
       "      <td>...</td>\n",
       "      <td>...</td>\n",
       "    </tr>\n",
       "    <tr>\n",
       "      <th>2014</th>\n",
       "      <td>1.2.826.0.1.3680043.21684</td>\n",
       "      <td>1</td>\n",
       "      <td>0</td>\n",
       "      <td>1</td>\n",
       "      <td>0</td>\n",
       "      <td>0</td>\n",
       "      <td>0</td>\n",
       "      <td>1</td>\n",
       "      <td>1</td>\n",
       "    </tr>\n",
       "    <tr>\n",
       "      <th>2015</th>\n",
       "      <td>1.2.826.0.1.3680043.4786</td>\n",
       "      <td>1</td>\n",
       "      <td>0</td>\n",
       "      <td>0</td>\n",
       "      <td>0</td>\n",
       "      <td>0</td>\n",
       "      <td>0</td>\n",
       "      <td>0</td>\n",
       "      <td>1</td>\n",
       "    </tr>\n",
       "    <tr>\n",
       "      <th>2016</th>\n",
       "      <td>1.2.826.0.1.3680043.14341</td>\n",
       "      <td>0</td>\n",
       "      <td>0</td>\n",
       "      <td>0</td>\n",
       "      <td>0</td>\n",
       "      <td>0</td>\n",
       "      <td>0</td>\n",
       "      <td>0</td>\n",
       "      <td>0</td>\n",
       "    </tr>\n",
       "    <tr>\n",
       "      <th>2017</th>\n",
       "      <td>1.2.826.0.1.3680043.12053</td>\n",
       "      <td>0</td>\n",
       "      <td>0</td>\n",
       "      <td>0</td>\n",
       "      <td>0</td>\n",
       "      <td>0</td>\n",
       "      <td>0</td>\n",
       "      <td>0</td>\n",
       "      <td>0</td>\n",
       "    </tr>\n",
       "    <tr>\n",
       "      <th>2018</th>\n",
       "      <td>1.2.826.0.1.3680043.18786</td>\n",
       "      <td>1</td>\n",
       "      <td>0</td>\n",
       "      <td>0</td>\n",
       "      <td>0</td>\n",
       "      <td>0</td>\n",
       "      <td>0</td>\n",
       "      <td>0</td>\n",
       "      <td>1</td>\n",
       "    </tr>\n",
       "  </tbody>\n",
       "</table>\n",
       "<p>2019 rows × 9 columns</p>\n",
       "</div>"
      ],
      "text/plain": [
       "               StudyInstanceUID  patient_overall  C1  C2  C3  C4  C5  C6  C7\n",
       "0      1.2.826.0.1.3680043.6200                1   1   1   0   0   0   0   0\n",
       "1     1.2.826.0.1.3680043.27262                1   0   1   0   0   0   0   0\n",
       "2     1.2.826.0.1.3680043.21561                1   0   1   0   0   0   0   0\n",
       "3     1.2.826.0.1.3680043.12351                0   0   0   0   0   0   0   0\n",
       "4      1.2.826.0.1.3680043.1363                1   0   0   0   0   1   0   0\n",
       "...                         ...              ...  ..  ..  ..  ..  ..  ..  ..\n",
       "2014  1.2.826.0.1.3680043.21684                1   0   1   0   0   0   1   1\n",
       "2015   1.2.826.0.1.3680043.4786                1   0   0   0   0   0   0   1\n",
       "2016  1.2.826.0.1.3680043.14341                0   0   0   0   0   0   0   0\n",
       "2017  1.2.826.0.1.3680043.12053                0   0   0   0   0   0   0   0\n",
       "2018  1.2.826.0.1.3680043.18786                1   0   0   0   0   0   0   1\n",
       "\n",
       "[2019 rows x 9 columns]"
      ]
     },
     "execution_count": 209,
     "metadata": {},
     "output_type": "execute_result"
    }
   ],
   "source": [
    "data_master"
   ]
  },
  {
   "cell_type": "code",
   "execution_count": null,
   "id": "018c5387",
   "metadata": {},
   "outputs": [],
   "source": []
  },
  {
   "cell_type": "code",
   "execution_count": 385,
   "id": "404c12f1",
   "metadata": {},
   "outputs": [],
   "source": [
    "groups = np.array([x.split('_')[0] for x in IDS])\n",
    "unqs = np.unique(groups)\n",
    "\n",
    "predictions, labels = [], []\n",
    "for group in unqs:\n",
    "    \n",
    "    prediction = np.concatenate(OUTPUTS[groups==group]).mean(0)\n",
    "    label = data_master[data_master.StudyInstanceUID==group].values[0][-7:].astype(np.float32)\n",
    "    #label = np.concatenate(TARGETS[groups==group]).max(0)\n",
    "    \n",
    "    predictions.append(prediction)\n",
    "    labels.append(label)\n",
    "    \n",
    "    #break\n",
    "predictions, labels = np.array(predictions), np.array(labels)"
   ]
  },
  {
   "cell_type": "code",
   "execution_count": 386,
   "id": "d7d50a48",
   "metadata": {},
   "outputs": [
    {
     "data": {
      "text/plain": [
       "0.09787835926449788"
      ]
     },
     "execution_count": 386,
     "metadata": {},
     "output_type": "execute_result"
    }
   ],
   "source": [
    "np.sum(labels>0.5) / (len(labels) * 7)"
   ]
  },
  {
   "cell_type": "code",
   "execution_count": null,
   "id": "d2d39315",
   "metadata": {},
   "outputs": [],
   "source": []
  },
  {
   "cell_type": "code",
   "execution_count": 380,
   "id": "50108cd9",
   "metadata": {},
   "outputs": [
    {
     "data": {
      "text/plain": [
       "0.5639357256863808"
      ]
     },
     "execution_count": 380,
     "metadata": {},
     "output_type": "execute_result"
    }
   ],
   "source": [
    "roc_auc_score(labels>0.5, predictions)"
   ]
  },
  {
   "cell_type": "code",
   "execution_count": null,
   "id": "53c95843",
   "metadata": {},
   "outputs": [],
   "source": []
  },
  {
   "cell_type": "code",
   "execution_count": 314,
   "id": "c5b2c700",
   "metadata": {},
   "outputs": [
    {
     "data": {
      "text/plain": [
       "(110784, 7)"
      ]
     },
     "execution_count": 314,
     "metadata": {},
     "output_type": "execute_result"
    }
   ],
   "source": [
    "tgs.shape"
   ]
  },
  {
   "cell_type": "code",
   "execution_count": null,
   "id": "c699e6dc",
   "metadata": {},
   "outputs": [],
   "source": []
  },
  {
   "cell_type": "code",
   "execution_count": 345,
   "id": "7d4b4d61",
   "metadata": {},
   "outputs": [
    {
     "data": {
      "text/html": [
       "<div>\n",
       "<style scoped>\n",
       "    .dataframe tbody tr th:only-of-type {\n",
       "        vertical-align: middle;\n",
       "    }\n",
       "\n",
       "    .dataframe tbody tr th {\n",
       "        vertical-align: top;\n",
       "    }\n",
       "\n",
       "    .dataframe thead th {\n",
       "        text-align: right;\n",
       "    }\n",
       "</style>\n",
       "<table border=\"1\" class=\"dataframe\">\n",
       "  <thead>\n",
       "    <tr style=\"text-align: right;\">\n",
       "      <th></th>\n",
       "      <th>StudyInstanceUID</th>\n",
       "      <th>patient_overall</th>\n",
       "      <th>C1</th>\n",
       "      <th>C2</th>\n",
       "      <th>C3</th>\n",
       "      <th>C4</th>\n",
       "      <th>C5</th>\n",
       "      <th>C6</th>\n",
       "      <th>C7</th>\n",
       "    </tr>\n",
       "  </thead>\n",
       "  <tbody>\n",
       "    <tr>\n",
       "      <th>6</th>\n",
       "      <td>1.2.826.0.1.3680043.18659</td>\n",
       "      <td>1</td>\n",
       "      <td>0</td>\n",
       "      <td>0</td>\n",
       "      <td>0</td>\n",
       "      <td>1</td>\n",
       "      <td>0</td>\n",
       "      <td>0</td>\n",
       "      <td>1</td>\n",
       "    </tr>\n",
       "    <tr>\n",
       "      <th>9</th>\n",
       "      <td>1.2.826.0.1.3680043.24045</td>\n",
       "      <td>1</td>\n",
       "      <td>0</td>\n",
       "      <td>0</td>\n",
       "      <td>0</td>\n",
       "      <td>0</td>\n",
       "      <td>0</td>\n",
       "      <td>0</td>\n",
       "      <td>1</td>\n",
       "    </tr>\n",
       "    <tr>\n",
       "      <th>11</th>\n",
       "      <td>1.2.826.0.1.3680043.15773</td>\n",
       "      <td>1</td>\n",
       "      <td>1</td>\n",
       "      <td>1</td>\n",
       "      <td>0</td>\n",
       "      <td>0</td>\n",
       "      <td>0</td>\n",
       "      <td>0</td>\n",
       "      <td>1</td>\n",
       "    </tr>\n",
       "    <tr>\n",
       "      <th>24</th>\n",
       "      <td>1.2.826.0.1.3680043.7824</td>\n",
       "      <td>1</td>\n",
       "      <td>0</td>\n",
       "      <td>0</td>\n",
       "      <td>0</td>\n",
       "      <td>0</td>\n",
       "      <td>0</td>\n",
       "      <td>1</td>\n",
       "      <td>1</td>\n",
       "    </tr>\n",
       "    <tr>\n",
       "      <th>25</th>\n",
       "      <td>1.2.826.0.1.3680043.4561</td>\n",
       "      <td>1</td>\n",
       "      <td>0</td>\n",
       "      <td>0</td>\n",
       "      <td>0</td>\n",
       "      <td>0</td>\n",
       "      <td>1</td>\n",
       "      <td>1</td>\n",
       "      <td>1</td>\n",
       "    </tr>\n",
       "    <tr>\n",
       "      <th>...</th>\n",
       "      <td>...</td>\n",
       "      <td>...</td>\n",
       "      <td>...</td>\n",
       "      <td>...</td>\n",
       "      <td>...</td>\n",
       "      <td>...</td>\n",
       "      <td>...</td>\n",
       "      <td>...</td>\n",
       "      <td>...</td>\n",
       "    </tr>\n",
       "    <tr>\n",
       "      <th>2001</th>\n",
       "      <td>1.2.826.0.1.3680043.12533</td>\n",
       "      <td>1</td>\n",
       "      <td>0</td>\n",
       "      <td>1</td>\n",
       "      <td>0</td>\n",
       "      <td>0</td>\n",
       "      <td>0</td>\n",
       "      <td>0</td>\n",
       "      <td>1</td>\n",
       "    </tr>\n",
       "    <tr>\n",
       "      <th>2009</th>\n",
       "      <td>1.2.826.0.1.3680043.14464</td>\n",
       "      <td>1</td>\n",
       "      <td>0</td>\n",
       "      <td>0</td>\n",
       "      <td>0</td>\n",
       "      <td>0</td>\n",
       "      <td>0</td>\n",
       "      <td>0</td>\n",
       "      <td>1</td>\n",
       "    </tr>\n",
       "    <tr>\n",
       "      <th>2014</th>\n",
       "      <td>1.2.826.0.1.3680043.21684</td>\n",
       "      <td>1</td>\n",
       "      <td>0</td>\n",
       "      <td>1</td>\n",
       "      <td>0</td>\n",
       "      <td>0</td>\n",
       "      <td>0</td>\n",
       "      <td>1</td>\n",
       "      <td>1</td>\n",
       "    </tr>\n",
       "    <tr>\n",
       "      <th>2015</th>\n",
       "      <td>1.2.826.0.1.3680043.4786</td>\n",
       "      <td>1</td>\n",
       "      <td>0</td>\n",
       "      <td>0</td>\n",
       "      <td>0</td>\n",
       "      <td>0</td>\n",
       "      <td>0</td>\n",
       "      <td>0</td>\n",
       "      <td>1</td>\n",
       "    </tr>\n",
       "    <tr>\n",
       "      <th>2018</th>\n",
       "      <td>1.2.826.0.1.3680043.18786</td>\n",
       "      <td>1</td>\n",
       "      <td>0</td>\n",
       "      <td>0</td>\n",
       "      <td>0</td>\n",
       "      <td>0</td>\n",
       "      <td>0</td>\n",
       "      <td>0</td>\n",
       "      <td>1</td>\n",
       "    </tr>\n",
       "  </tbody>\n",
       "</table>\n",
       "<p>393 rows × 9 columns</p>\n",
       "</div>"
      ],
      "text/plain": [
       "               StudyInstanceUID  patient_overall  C1  C2  C3  C4  C5  C6  C7\n",
       "6     1.2.826.0.1.3680043.18659                1   0   0   0   1   0   0   1\n",
       "9     1.2.826.0.1.3680043.24045                1   0   0   0   0   0   0   1\n",
       "11    1.2.826.0.1.3680043.15773                1   1   1   0   0   0   0   1\n",
       "24     1.2.826.0.1.3680043.7824                1   0   0   0   0   0   1   1\n",
       "25     1.2.826.0.1.3680043.4561                1   0   0   0   0   1   1   1\n",
       "...                         ...              ...  ..  ..  ..  ..  ..  ..  ..\n",
       "2001  1.2.826.0.1.3680043.12533                1   0   1   0   0   0   0   1\n",
       "2009  1.2.826.0.1.3680043.14464                1   0   0   0   0   0   0   1\n",
       "2014  1.2.826.0.1.3680043.21684                1   0   1   0   0   0   1   1\n",
       "2015   1.2.826.0.1.3680043.4786                1   0   0   0   0   0   0   1\n",
       "2018  1.2.826.0.1.3680043.18786                1   0   0   0   0   0   0   1\n",
       "\n",
       "[393 rows x 9 columns]"
      ]
     },
     "execution_count": 345,
     "metadata": {},
     "output_type": "execute_result"
    }
   ],
   "source": [
    "data_master[data_master.C7==1]"
   ]
  },
  {
   "cell_type": "code",
   "execution_count": null,
   "id": "5fb54e55",
   "metadata": {},
   "outputs": [],
   "source": []
  },
  {
   "cell_type": "code",
   "execution_count": 358,
   "id": "54840c24",
   "metadata": {},
   "outputs": [
    {
     "data": {
      "text/plain": [
       "array(['1.2.826.0.1.3680043.7824_0_96', '1.2.826.0.1.3680043.7824_48_144',\n",
       "       '1.2.826.0.1.3680043.7824_96_192',\n",
       "       '1.2.826.0.1.3680043.7824_130_226'], dtype='<U34')"
      ]
     },
     "execution_count": 358,
     "metadata": {},
     "output_type": "execute_result"
    }
   ],
   "source": [
    "IDS[groups=='1.2.826.0.1.3680043.7824']"
   ]
  },
  {
   "cell_type": "code",
   "execution_count": null,
   "id": "7d13256c",
   "metadata": {},
   "outputs": [],
   "source": []
  },
  {
   "cell_type": "code",
   "execution_count": null,
   "id": "df25a9a8",
   "metadata": {},
   "outputs": [],
   "source": []
  },
  {
   "cell_type": "code",
   "execution_count": 369,
   "id": "c27ef317",
   "metadata": {
    "scrolled": false
   },
   "outputs": [
    {
     "data": {
      "text/plain": [
       "array([0.        , 0.        , 0.        , 0.        , 0.        ,\n",
       "       0.        , 0.        , 0.        , 0.        , 0.        ,\n",
       "       0.        , 0.        , 0.        , 0.        , 0.        ,\n",
       "       0.        , 0.        , 0.        , 0.        , 0.        ,\n",
       "       0.        , 0.        , 0.        , 0.        , 0.        ,\n",
       "       0.        , 0.        , 0.        , 0.        , 0.        ,\n",
       "       0.        , 0.        , 0.        , 0.        , 0.        ,\n",
       "       0.        , 0.        , 0.        , 0.        , 0.        ,\n",
       "       0.        , 0.        , 0.        , 0.        , 0.        ,\n",
       "       0.        , 0.        , 0.        , 0.        , 0.        ,\n",
       "       0.        , 0.        , 0.        , 0.        , 0.        ,\n",
       "       0.        , 0.        , 0.        , 0.        , 0.        ,\n",
       "       0.        , 0.        , 0.        , 0.        , 0.        ,\n",
       "       0.        , 0.        , 0.        , 0.        , 0.        ,\n",
       "       0.        , 0.        , 0.        , 0.        , 0.        ,\n",
       "       0.        , 0.        , 0.        , 0.        , 0.        ,\n",
       "       0.        , 0.        , 0.        , 0.        , 0.        ,\n",
       "       0.        , 0.        , 0.        , 0.        , 0.        ,\n",
       "       0.0269393 , 0.09964297, 0.3846154 , 0.5618306 , 0.74131775,\n",
       "       0.9389809 , 0.        , 0.        , 0.        , 0.        ,\n",
       "       0.        , 0.        , 0.        , 0.        , 0.        ,\n",
       "       0.        , 0.        , 0.        , 0.        , 0.        ,\n",
       "       0.01038624, 0.03375527, 0.16553067, 0.47322297, 0.63453424,\n",
       "       0.8059072 , 0.965271  , 0.97825384, 0.85037327, 0.70172024,\n",
       "       0.54722494, 0.40246674, 0.34079844, 0.26712108, 0.17396949,\n",
       "       0.12755598, 0.05874716, 0.        ], dtype=float32)"
      ]
     },
     "execution_count": 369,
     "metadata": {},
     "output_type": "execute_result"
    }
   ],
   "source": [
    "np.concatenate(TARGETS[groups=='1.2.826.0.1.3680043.7824'], 0)[:, -1]"
   ]
  },
  {
   "cell_type": "code",
   "execution_count": null,
   "id": "5b0ec65f",
   "metadata": {},
   "outputs": [],
   "source": []
  },
  {
   "cell_type": "code",
   "execution_count": null,
   "id": "7c957ac5",
   "metadata": {},
   "outputs": [],
   "source": []
  },
  {
   "cell_type": "code",
   "execution_count": null,
   "id": "5c3275f4",
   "metadata": {},
   "outputs": [],
   "source": []
  },
  {
   "cell_type": "code",
   "execution_count": 342,
   "id": "6321e042",
   "metadata": {},
   "outputs": [
    {
     "data": {
      "text/plain": [
       "0.0336962016175621"
      ]
     },
     "execution_count": 342,
     "metadata": {},
     "output_type": "execute_result"
    }
   ],
   "source": [
    "np.sum(tgs[:, -1] > 0.) / len(tgs)"
   ]
  },
  {
   "cell_type": "code",
   "execution_count": 330,
   "id": "8b37f74a",
   "metadata": {},
   "outputs": [
    {
     "data": {
      "text/plain": [
       "0.01674042667326896"
      ]
     },
     "execution_count": 330,
     "metadata": {},
     "output_type": "execute_result"
    }
   ],
   "source": [
    "np.sum(tgs > 0.) / (110784 * 7)"
   ]
  },
  {
   "cell_type": "code",
   "execution_count": 340,
   "id": "1b87cf8a",
   "metadata": {},
   "outputs": [
    {
     "data": {
      "text/plain": [
       "0.10217222104294912"
      ]
     },
     "execution_count": 340,
     "metadata": {},
     "output_type": "execute_result"
    }
   ],
   "source": [
    "data_master.values[:, -7:].sum() / (len(data_master) * 7)"
   ]
  },
  {
   "cell_type": "code",
   "execution_count": null,
   "id": "a7be0320",
   "metadata": {},
   "outputs": [],
   "source": []
  },
  {
   "cell_type": "code",
   "execution_count": 327,
   "id": "e16f87f0",
   "metadata": {},
   "outputs": [
    {
     "data": {
      "text/plain": [
       "0.19465081723625557"
      ]
     },
     "execution_count": 327,
     "metadata": {},
     "output_type": "execute_result"
    }
   ],
   "source": [
    "data_master.C7.sum() / len(data_master)"
   ]
  },
  {
   "cell_type": "code",
   "execution_count": null,
   "id": "104d1ab9",
   "metadata": {},
   "outputs": [],
   "source": []
  },
  {
   "cell_type": "code",
   "execution_count": null,
   "id": "13bb0a31",
   "metadata": {},
   "outputs": [],
   "source": []
  },
  {
   "cell_type": "code",
   "execution_count": 295,
   "id": "da3defe3",
   "metadata": {},
   "outputs": [
    {
     "data": {
      "text/plain": [
       "array([[0., 0., 0., ..., 0., 0., 0.],\n",
       "       [0., 0., 0., ..., 0., 0., 0.],\n",
       "       [0., 0., 0., ..., 0., 1., 0.],\n",
       "       ...,\n",
       "       [0., 0., 0., ..., 0., 1., 1.],\n",
       "       [0., 0., 0., ..., 0., 0., 0.],\n",
       "       [0., 0., 0., ..., 1., 0., 0.]], dtype=float32)"
      ]
     },
     "execution_count": 295,
     "metadata": {},
     "output_type": "execute_result"
    }
   ],
   "source": [
    "labels"
   ]
  },
  {
   "cell_type": "code",
   "execution_count": null,
   "id": "2a114da3",
   "metadata": {},
   "outputs": [],
   "source": []
  },
  {
   "cell_type": "code",
   "execution_count": null,
   "id": "c31e4acd",
   "metadata": {},
   "outputs": [],
   "source": []
  },
  {
   "cell_type": "code",
   "execution_count": 285,
   "id": "8fc61ace",
   "metadata": {
    "scrolled": true
   },
   "outputs": [
    {
     "data": {
      "text/plain": [
       "0.9309734480312868"
      ]
     },
     "execution_count": 285,
     "metadata": {},
     "output_type": "execute_result"
    }
   ],
   "source": [
    "roc_auc_score(np.concatenate(TARGETS) > 0.5, np.concatenate(OUTPUTS))"
   ]
  },
  {
   "cell_type": "code",
   "execution_count": null,
   "id": "52565f0c",
   "metadata": {},
   "outputs": [],
   "source": []
  },
  {
   "cell_type": "code",
   "execution_count": 251,
   "id": "be178206",
   "metadata": {},
   "outputs": [
    {
     "data": {
      "text/plain": [
       "0.060245384"
      ]
     },
     "execution_count": 251,
     "metadata": {},
     "output_type": "execute_result"
    }
   ],
   "source": [
    "predictions[labels==0].mean()"
   ]
  },
  {
   "cell_type": "code",
   "execution_count": 249,
   "id": "96c36f3c",
   "metadata": {},
   "outputs": [
    {
     "data": {
      "text/plain": [
       "0.079923354"
      ]
     },
     "execution_count": 249,
     "metadata": {},
     "output_type": "execute_result"
    }
   ],
   "source": [
    "predictions[labels==1].mean()"
   ]
  },
  {
   "cell_type": "code",
   "execution_count": null,
   "id": "cf66a0cf",
   "metadata": {},
   "outputs": [],
   "source": []
  },
  {
   "cell_type": "code",
   "execution_count": 245,
   "id": "b663f7df",
   "metadata": {},
   "outputs": [
    {
     "data": {
      "text/plain": [
       "array([0.02140977, 0.11596072, 0.01737566, 0.02064593, 0.048496  ,\n",
       "       0.08344117, 0.12874405], dtype=float32)"
      ]
     },
     "execution_count": 245,
     "metadata": {},
     "output_type": "execute_result"
    }
   ],
   "source": [
    "predictions[1]"
   ]
  },
  {
   "cell_type": "code",
   "execution_count": 260,
   "id": "9fc2999c",
   "metadata": {},
   "outputs": [
    {
     "data": {
      "text/plain": [
       "((110784, 7), (110784, 7))"
      ]
     },
     "execution_count": 260,
     "metadata": {},
     "output_type": "execute_result"
    }
   ],
   "source": [
    "tgs = np.concatenate(TARGETS)\n",
    "outs = np.concatenate(OUTPUTS)\n",
    "tgs.shape, outs.shape"
   ]
  },
  {
   "cell_type": "code",
   "execution_count": 265,
   "id": "1624eef7",
   "metadata": {},
   "outputs": [
    {
     "data": {
      "text/plain": [
       "10104"
      ]
     },
     "execution_count": 265,
     "metadata": {},
     "output_type": "execute_result"
    }
   ],
   "source": [
    "np.sum(tgs > 0.1)"
   ]
  },
  {
   "cell_type": "code",
   "execution_count": 272,
   "id": "b88d6da8",
   "metadata": {},
   "outputs": [
    {
     "data": {
      "text/plain": [
       "(0.0077471067, 0.05307515)"
      ]
     },
     "execution_count": 272,
     "metadata": {},
     "output_type": "execute_result"
    }
   ],
   "source": [
    "outs[tgs < 0.1].mean(), outs[tgs > 0.1].mean()"
   ]
  },
  {
   "cell_type": "code",
   "execution_count": 267,
   "id": "37ba0109",
   "metadata": {},
   "outputs": [
    {
     "data": {
      "text/plain": [
       "0.9309734480312868"
      ]
     },
     "execution_count": 267,
     "metadata": {},
     "output_type": "execute_result"
    }
   ],
   "source": [
    "roc_auc_score(np.concatenate(TARGETS)>0.5, np.concatenate(OUTPUTS))"
   ]
  },
  {
   "cell_type": "code",
   "execution_count": null,
   "id": "7ff0864d",
   "metadata": {},
   "outputs": [],
   "source": []
  },
  {
   "cell_type": "code",
   "execution_count": null,
   "id": "e22011e4",
   "metadata": {},
   "outputs": [],
   "source": []
  },
  {
   "cell_type": "code",
   "execution_count": null,
   "id": "c3b73101",
   "metadata": {},
   "outputs": [],
   "source": []
  },
  {
   "cell_type": "code",
   "execution_count": null,
   "id": "ea93c40b",
   "metadata": {},
   "outputs": [],
   "source": []
  },
  {
   "cell_type": "code",
   "execution_count": null,
   "id": "b028bb71",
   "metadata": {},
   "outputs": [],
   "source": []
  },
  {
   "cell_type": "code",
   "execution_count": null,
   "id": "749db1ca",
   "metadata": {},
   "outputs": [],
   "source": []
  },
  {
   "cell_type": "code",
   "execution_count": 214,
   "id": "4539e7f8",
   "metadata": {},
   "outputs": [
    {
     "data": {
      "text/plain": [
       "array(['1.2.826.0.1.3680043.10032_0_96',\n",
       "       '1.2.826.0.1.3680043.10032_48_144',\n",
       "       '1.2.826.0.1.3680043.10032_96_192',\n",
       "       '1.2.826.0.1.3680043.10032_144_240',\n",
       "       '1.2.826.0.1.3680043.10032_192_288',\n",
       "       '1.2.826.0.1.3680043.10032_225_321'], dtype='<U34')"
      ]
     },
     "execution_count": 214,
     "metadata": {},
     "output_type": "execute_result"
    }
   ],
   "source": [
    "IDS[groups==group]"
   ]
  },
  {
   "cell_type": "code",
   "execution_count": null,
   "id": "231e4f9f",
   "metadata": {},
   "outputs": [],
   "source": []
  },
  {
   "cell_type": "code",
   "execution_count": null,
   "id": "ba6dc0bb",
   "metadata": {},
   "outputs": [],
   "source": []
  },
  {
   "cell_type": "code",
   "execution_count": null,
   "id": "918527a7",
   "metadata": {},
   "outputs": [],
   "source": []
  },
  {
   "cell_type": "code",
   "execution_count": null,
   "id": "144df90c",
   "metadata": {},
   "outputs": [],
   "source": []
  },
  {
   "cell_type": "code",
   "execution_count": 142,
   "id": "f24f4f81",
   "metadata": {},
   "outputs": [
    {
     "name": "stderr",
     "output_type": "stream",
     "text": [
      "10/115 00:16<02:49 "
     ]
    },
    {
     "name": "stdout",
     "output_type": "stream",
     "text": [
      "EPOCH 1 | DICE 0.3620563409761993\n",
      "[0.2606436  0.41897539 0.41341498 0.479582   0.3145352  0.36323602\n",
      " 0.27636935 0.36969418]\n"
     ]
    },
    {
     "name": "stderr",
     "output_type": "stream",
     "text": [
      "\n"
     ]
    }
   ],
   "source": [
    "_ = valid_one_epoch('', valid_loader, running_dist=False, do_ema=False)"
   ]
  },
  {
   "cell_type": "code",
   "execution_count": 132,
   "id": "b76d49ca",
   "metadata": {},
   "outputs": [
    {
     "data": {
      "text/plain": [
       "(128, 8, 256, 256)"
      ]
     },
     "execution_count": 132,
     "metadata": {},
     "output_type": "execute_result"
    }
   ],
   "source": [
    "np.concatenate(outputs.transpose(0, 4, 1, 2, 3), 0).shape"
   ]
  },
  {
   "cell_type": "code",
   "execution_count": null,
   "id": "ac28a1c8",
   "metadata": {},
   "outputs": [],
   "source": []
  },
  {
   "cell_type": "code",
   "execution_count": 127,
   "id": "cd5a0c59",
   "metadata": {},
   "outputs": [
    {
     "data": {
      "text/plain": [
       "((4, 8, 256, 256, 32), (4, 8, 256, 256, 32))"
      ]
     },
     "execution_count": 127,
     "metadata": {},
     "output_type": "execute_result"
    }
   ],
   "source": [
    "outputs.shape, targets.shape"
   ]
  },
  {
   "cell_type": "code",
   "execution_count": 116,
   "id": "90a68251",
   "metadata": {},
   "outputs": [
    {
     "data": {
      "text/plain": [
       "<matplotlib.image.AxesImage at 0x70338e049820>"
      ]
     },
     "execution_count": 116,
     "metadata": {},
     "output_type": "execute_result"
    },
    {
     "data": {
      "image/png": "[encoded data removed]",
      "text/plain": [
       "<Figure size 432x288 with 1 Axes>"
      ]
     },
     "metadata": {
      "needs_background": "light"
     },
     "output_type": "display_data"
    }
   ],
   "source": [
    "plt.imshow(targets[3][0][:, :, 31])"
   ]
  },
  {
   "cell_type": "code",
   "execution_count": 115,
   "id": "6e94a474",
   "metadata": {},
   "outputs": [
    {
     "data": {
      "text/plain": [
       "<matplotlib.image.AxesImage at 0x70338e0df430>"
      ]
     },
     "execution_count": 115,
     "metadata": {},
     "output_type": "execute_result"
    },
    {
     "data": {
      "image/png": "[encoded data removed]",
      "text/plain": [
       "<Figure size 432x288 with 1 Axes>"
      ]
     },
     "metadata": {
      "needs_background": "light"
     },
     "output_type": "display_data"
    }
   ],
   "source": [
    "plt.imshow(outputs[3][0][:, :, 31])"
   ]
  },
  {
   "cell_type": "code",
   "execution_count": null,
   "id": "d16a3de2",
   "metadata": {},
   "outputs": [],
   "source": []
  },
  {
   "cell_type": "code",
   "execution_count": null,
   "id": "ae04fb29",
   "metadata": {},
   "outputs": [],
   "source": []
  },
  {
   "cell_type": "code",
   "execution_count": null,
   "id": "d4a32744",
   "metadata": {},
   "outputs": [],
   "source": []
  },
  {
   "cell_type": "code",
   "execution_count": null,
   "id": "ffb51301",
   "metadata": {},
   "outputs": [],
   "source": []
  },
  {
   "cell_type": "code",
   "execution_count": 21,
   "id": "b73fd54d",
   "metadata": {},
   "outputs": [],
   "source": [
    "def test_one_epoch(path, loader, running_dist=True, debug=False, do_ema=True):\n",
    "    model = Model(pretrained=False)\n",
    "    st = torch.load(path, map_location=f\"cpu\")\n",
    "    model.eval()\n",
    "    model.cuda()\n",
    "    model.load_state_dict(st, strict=False)\n",
    "    \n",
    "    if is_main_process(): bar = tqdm(loader, bar_format='{n_fmt}/{total_fmt} {elapsed}<{remaining} {postfix}')\n",
    "    else: bar = loader\n",
    "    \n",
    "    running_loss = 0.\n",
    "    \n",
    "    OUTPUTS, TARGETS, IDS = [], [], []\n",
    "    \n",
    "    for step, data in enumerate(bar):\n",
    "        \n",
    "        with torch.no_grad():\n",
    "            images = data['images'].cuda()\n",
    "            targets = data['labels'].cuda()\n",
    "            #targets_masks = data['masks'].cuda()\n",
    "            ids = data['ids']\n",
    "            \n",
    "            with torch.cuda.amp.autocast(enabled=CFG.autocast):\n",
    "                if do_ema:\n",
    "                    with ema.average_parameters():\n",
    "                        logits, logits_mask = model(images)\n",
    "                else:\n",
    "                    logits, logits_mask = model(images)\n",
    "                \n",
    "            return logits, logits_mask\n",
    "                \n",
    "            outputs = logits.float().detach().cpu().numpy()\n",
    "            targets = targets.float().detach().cpu().numpy()\n",
    "            #outputs = logits_mask.float().sigmoid().detach().cpu()#.numpy()\n",
    "            #targets = targets_masks.float().detach().cpu()#.numpy()\n",
    "            \n",
    "            #'''\n",
    "            if running_dist:\n",
    "                dist.barrier()\n",
    "                \n",
    "                np.save(f'{CFG.cache_dir}/preds_{get_rank()}.npy', outputs)\n",
    "                np.save(f'{CFG.cache_dir}/targets_{get_rank()}.npy', targets)\n",
    "                np.save(f'{CFG.cache_dir}/ids_{get_rank()}.npy', ids)\n",
    "                \n",
    "                dist.barrier()\n",
    "                \n",
    "                if is_main_process():\n",
    "                    outputs = np.concatenate([np.load(f\"{CFG.cache_dir}/preds_{_}.npy\") for _ in range(CFG.N_GPUS)])\n",
    "                    targets = np.concatenate([np.load(f\"{CFG.cache_dir}/targets_{_}.npy\") for _ in range(CFG.N_GPUS)])\n",
    "                    ids = np.concatenate([np.load(f\"{CFG.cache_dir}/ids_{_}.npy\") for _ in range(CFG.N_GPUS)])\n",
    "                    \n",
    "                dist.barrier()\n",
    "            else:    \n",
    "                pass\n",
    "            \n",
    "            OUTPUTS.extend(outputs)\n",
    "            TARGETS.extend(targets)\n",
    "            IDS.extend(ids)\n",
    "            #'''\n",
    "            \n",
    "            #if step==10: break\n",
    "            \n",
    "    if running_dist:\n",
    "        dist.barrier()\n",
    "    \n",
    "    if is_main_process():\n",
    "        OUTPUTS = np.stack(OUTPUTS)#[:, :6]\n",
    "        TARGETS = np.stack(TARGETS)#[:, :6]\n",
    "        IDS = np.stack(IDS)\n",
    "        \n",
    "        #return OUTPUTS, TARGETS, IDS\n",
    "        \n",
    "        score = np.mean(np.abs(OUTPUTS-TARGETS))\n",
    "        \n",
    "        print(f\"EPOCH {CFG.epoch+1} | MAE {score}\")\n",
    "    \n",
    "        if debug:\n",
    "            return score, OUTPUTS, TARGETS, IDS\n",
    "    \n",
    "        return score\n",
    "    \n",
    "    if debug:\n",
    "        return [], [], [], []"
   ]
  },
  {
   "cell_type": "code",
   "execution_count": null,
   "id": "7b7a4f1f",
   "metadata": {},
   "outputs": [],
   "source": []
  },
  {
   "cell_type": "code",
   "execution_count": 39,
   "id": "54c0c8c2",
   "metadata": {},
   "outputs": [
    {
     "name": "stderr",
     "output_type": "stream",
     "text": [
      "0/104 00:00<? \n"
     ]
    }
   ],
   "source": [
    "logits, logits_mask = test_one_epoch('./data/AAA_SEG/TRY1_SEG/tf_efficientnetv2_s.in21k_ft_in1k_v2/3_best.pth', valid_loader, do_ema=False, debug=True, running_dist=False)"
   ]
  },
  {
   "cell_type": "code",
   "execution_count": null,
   "id": "b3540fd4",
   "metadata": {},
   "outputs": [],
   "source": []
  },
  {
   "cell_type": "code",
   "execution_count": 46,
   "id": "8cdc3596",
   "metadata": {},
   "outputs": [
    {
     "data": {
      "image/png": "[encoded data removed]",
      "text/plain": [
       "<Figure size 1200x800 with 1 Axes>"
      ]
     },
     "metadata": {},
     "output_type": "display_data"
    },
    {
     "data": {
      "image/png": "[encoded data removed]",
      "text/plain": [
       "<Figure size 1200x800 with 1 Axes>"
      ]
     },
     "metadata": {},
     "output_type": "display_data"
    }
   ],
   "source": [
    "x = 5\n",
    "plt.imshow(d['masks'][x][1]); plt.show()\n",
    "plt.imshow(logits_mask.sigmoid()[x][1].detach().cpu()); plt.show()"
   ]
  },
  {
   "cell_type": "code",
   "execution_count": null,
   "id": "2bcc6daf",
   "metadata": {},
   "outputs": [],
   "source": []
  },
  {
   "cell_type": "code",
   "execution_count": null,
   "id": "5d8cbba8",
   "metadata": {},
   "outputs": [],
   "source": []
  },
  {
   "cell_type": "code",
   "execution_count": null,
   "id": "62e22c7f",
   "metadata": {},
   "outputs": [],
   "source": []
  },
  {
   "cell_type": "code",
   "execution_count": null,
   "id": "53cd89b0",
   "metadata": {},
   "outputs": [],
   "source": []
  },
  {
   "cell_type": "code",
   "execution_count": 22,
   "id": "21dfffea",
   "metadata": {},
   "outputs": [
    {
     "name": "stderr",
     "output_type": "stream",
     "text": [
      "0/104 00:00<? \n"
     ]
    },
    {
     "ename": "ValueError",
     "evalue": "not enough values to unpack (expected 4, got 2)",
     "output_type": "error",
     "traceback": [
      "\u001b[0;31m---------------------------------------------------------------------------\u001b[0m",
      "\u001b[0;31mValueError\u001b[0m                                Traceback (most recent call last)",
      "Cell \u001b[0;32mIn[22], line 1\u001b[0m\n\u001b[0;32m----> 1\u001b[0m score, OUTPUTS, TARGETS, IDS \u001b[38;5;241m=\u001b[39m test_one_epoch(\u001b[38;5;124m'\u001b[39m\u001b[38;5;124m./data/AAA_SEG/TRY1_SEG/tf_efficientnetv2_s.in21k_ft_in1k_v1/0_best.pth\u001b[39m\u001b[38;5;124m'\u001b[39m, valid_loader, do_ema\u001b[38;5;241m=\u001b[39m\u001b[38;5;28;01mFalse\u001b[39;00m, debug\u001b[38;5;241m=\u001b[39m\u001b[38;5;28;01mTrue\u001b[39;00m, running_dist\u001b[38;5;241m=\u001b[39m\u001b[38;5;28;01mFalse\u001b[39;00m)\n",
      "\u001b[0;31mValueError\u001b[0m: not enough values to unpack (expected 4, got 2)"
     ]
    }
   ],
   "source": [
    "score, OUTPUTS, TARGETS, IDS = test_one_epoch('./data/AAA_SEG/TRY1_SEG/tf_efficientnetv2_s.in21k_ft_in1k_v1/0_best.pth', valid_loader, do_ema=False, debug=True, running_dist=False)"
   ]
  },
  {
   "cell_type": "code",
   "execution_count": null,
   "id": "d9db0848",
   "metadata": {},
   "outputs": [],
   "source": []
  },
  {
   "cell_type": "code",
   "execution_count": null,
   "id": "29a43486",
   "metadata": {},
   "outputs": [],
   "source": []
  },
  {
   "cell_type": "code",
   "execution_count": null,
   "id": "6a94ae7f",
   "metadata": {},
   "outputs": [],
   "source": []
  },
  {
   "cell_type": "code",
   "execution_count": null,
   "id": "1059d7c8",
   "metadata": {},
   "outputs": [],
   "source": []
  },
  {
   "cell_type": "code",
   "execution_count": 100,
   "id": "ed6f65c7",
   "metadata": {},
   "outputs": [
    {
     "data": {
      "text/plain": [
       "0.17028986"
      ]
     },
     "execution_count": 100,
     "metadata": {},
     "output_type": "execute_result"
    }
   ],
   "source": [
    "np.abs(np.round(OUTPUTS[:, 0]) - TARGETS[:, 0]).mean()"
   ]
  },
  {
   "cell_type": "code",
   "execution_count": 99,
   "id": "614c5b35",
   "metadata": {
    "scrolled": true
   },
   "outputs": [
    {
     "data": {
      "text/plain": [
       "3.607488"
      ]
     },
     "execution_count": 99,
     "metadata": {},
     "output_type": "execute_result"
    }
   ],
   "source": [
    "np.abs(np.round(OUTPUTS[:, 1]) - TARGETS[:, 1]).mean()"
   ]
  },
  {
   "cell_type": "code",
   "execution_count": null,
   "id": "4070860a",
   "metadata": {},
   "outputs": [],
   "source": []
  },
  {
   "cell_type": "code",
   "execution_count": 104,
   "id": "3cf289b6",
   "metadata": {},
   "outputs": [
    {
     "data": {
      "text/plain": [
       "0.42340544"
      ]
     },
     "execution_count": 104,
     "metadata": {},
     "output_type": "execute_result"
    }
   ],
   "source": [
    "np.abs(TARGETS[:, 0].mean() - TARGETS[:, 0]).mean()"
   ]
  },
  {
   "cell_type": "code",
   "execution_count": 105,
   "id": "7c1887e0",
   "metadata": {},
   "outputs": [
    {
     "data": {
      "text/plain": [
       "6.549333"
      ]
     },
     "execution_count": 105,
     "metadata": {},
     "output_type": "execute_result"
    }
   ],
   "source": [
    "np.abs(TARGETS[:, 1].mean() - TARGETS[:, 1]).mean()"
   ]
  },
  {
   "cell_type": "code",
   "execution_count": null,
   "id": "8bc3edd0",
   "metadata": {},
   "outputs": [],
   "source": []
  },
  {
   "cell_type": "code",
   "execution_count": null,
   "id": "c21ae0f0",
   "metadata": {},
   "outputs": [],
   "source": []
  },
  {
   "cell_type": "code",
   "execution_count": null,
   "id": "682a252f",
   "metadata": {},
   "outputs": [],
   "source": []
  },
  {
   "cell_type": "code",
   "execution_count": 95,
   "id": "5c87db5c",
   "metadata": {
    "scrolled": true
   },
   "outputs": [
    {
     "data": {
      "text/plain": [
       "array([ 1.,  1.,  1.,  3.,  1.,  1.,  1.,  1.,  2.,  4.,  0.,  1.,  2.,\n",
       "        1.,  2.,  1.,  1.,  2.,  2.,  0.,  4.,  1.,  7.,  3.,  1.,  2.,\n",
       "        3.,  1.,  1.,  2.,  0.,  4.,  0.,  1.,  1.,  1.,  2.,  2.,  2.,\n",
       "        0.,  1.,  1.,  2.,  1.,  0.,  2.,  3.,  1.,  2.,  3.,  1.,  2.,\n",
       "        1.,  2.,  1.,  1.,  1.,  1.,  2.,  1., 11.,  1.,  1.,  1.,  2.,\n",
       "        1.,  1.,  3.,  1.,  1.,  1.,  2.,  1.,  1.,  1.,  3.,  1.,  1.,\n",
       "        1.,  1.,  0.,  6.,  1.,  1.,  0.,  3.,  1.,  1., 48.,  1.,  0.,\n",
       "        1.,  1.,  0.,  1.,  3.,  2.,  1.,  2.,  7.,  1.,  2.,  2.,  1.,\n",
       "        1.,  0.,  1.,  3.,  1.,  2.,  1.,  2.,  1.,  1.,  1.,  1.,  2.,\n",
       "        5.,  2.,  1.,  1.,  1.,  1.,  1.,  1.,  1.,  0.,  2.,  2.,  0.,\n",
       "        2.,  2.,  1.,  4.,  2.,  1.,  1.,  2.,  1.,  0.,  1.,  1.,  1.,\n",
       "        0.,  1.,  0.,  0.,  1.,  3.,  1.,  0.,  0.,  1.,  0.,  2.,  1.,\n",
       "        5.,  8.,  3.,  1.,  6.,  4.,  0.,  1.,  1.,  3.,  2.,  2.,  2.,\n",
       "        1.,  1.,  0.,  2.,  1.,  1.,  1.,  1.,  1.,  5.,  1.,  0.,  1.,\n",
       "        1.,  1.,  1., 20.,  1.,  7.,  3.,  2.,  2.,  2.,  1.,  2.,  4.,\n",
       "        1.,  1.,  1.,  1.,  1.,  2.,  3.,  2.,  1.,  1.,  0.,  1.,  1.,\n",
       "        1.,  0.,  0.,  1.,  1.,  2.,  3.,  4.,  2.,  1.,  0.,  1.,  1.,\n",
       "        1.,  1.,  3.,  1.,  1.,  5.,  1.,  1.,  2.,  0.,  1.,  3.,  3.,\n",
       "        1.,  0.,  1.,  1.,  3.,  1.,  1.,  1.,  1.,  1.,  2.,  1.,  1.,\n",
       "        0.,  1.,  1.,  1.,  2.,  2.,  1.,  0.,  1.,  0.,  1.,  0.,  1.,\n",
       "        2.,  2.,  2.,  4.,  2.,  0.,  2.,  1.,  1.,  1.,  0.,  1.,  2.,\n",
       "        1.,  2.,  1.,  1.,  2.,  1.,  3.,  1.,  1.,  1.,  1.,  1.,  1.,\n",
       "        1.,  0.,  7.,  1.,  1.,  1.,  1.,  0.,  0.,  2.,  3., 38.,  1.,\n",
       "        1.,  2.,  1.,  1.,  1.,  3.,  1.,  0.,  0.,  7.,  1.,  1.,  1.,\n",
       "        1.,  1.,  2.,  1.,  1.,  2.,  1.,  1.,  1.,  4.,  1.,  2., 26.,\n",
       "        1., 53.,  0.,  0.,  2.,  9.,  2.,  1.,  4.,  0.,  0.,  1.,  3.,\n",
       "        2.,  6., 17.,  1.,  2.,  1.,  2.,  1.,  1., 43.,  3.,  1.,  2.,\n",
       "        3.,  0.,  1.,  4.,  1.,  1.,  1.,  1.,  0.,  1.,  1.,  3.,  1.,\n",
       "        2.,  2.,  0.,  3.,  0.,  1.,  2.,  2.,  1.,  1.,  0.,  0.,  1.,\n",
       "        0.,  1.,  0.,  0.,  2.,  1.,  1.,  0.,  1.,  1.,  3.,  1.,  2.,\n",
       "        0.,  2.,  1.,  1.,  2., 12.,  2.,  2.,  1.,  0.,  2.,  1.,  1.,\n",
       "        1.,  1.,  2.,  1.,  0.,  1.,  1.,  1.,  1.,  2.,  1.,  0.,  2.,\n",
       "       18.,  1.,  2.,  2.,  2.,  0.,  2.,  0.,  2.,  1.,  1.,  1.,  1.,\n",
       "        2.,  2.,  0.,  1.,  0.,  0.,  1.,  1.,  2.,  3.,  0.,  1.,  1.,\n",
       "        1.,  1.,  2.,  1.,  1.,  3.,  0.,  1.,  4.,  1.,  2.,  2.,  1.,\n",
       "        1.,  2.,  1.,  1.,  1.,  9.,  1.,  0.,  1.,  2.,  3.,  1.,  1.,\n",
       "        1.,  3., 12., 28.,  2.,  1.,  5.,  1.,  5.,  2.,  0.,  1.,  0.,\n",
       "        1.,  1.,  2.,  8.,  1.,  1.,  3.,  2.,  1.,  1.,  1.,  2.,  1.,\n",
       "        3.,  0.,  2.,  1.,  1.,  1.,  4.,  2.,  1.,  3.,  1.,  2.,  1.,\n",
       "        1.,  1.,  2.,  2.,  1.,  0., 33.,  1.,  1.,  1.,  1.,  1.,  2.,\n",
       "        1.,  1.,  1.,  1.,  3.,  1.,  2.,  1.,  1., 10.,  3.,  0.,  2.,\n",
       "        2.,  1.,  2.,  1.,  2.,  1., 11.,  1.,  2.,  1.,  0.,  0.,  3.,\n",
       "        0.,  1.,  1.,  1.,  1.,  1.,  1.,  2.,  4.,  2.,  5.,  1.,  2.,\n",
       "       14.,  2.,  3.,  1.,  3.,  1.,  2.,  1.,  2.,  1.,  0.,  2.,  3.,\n",
       "        2.,  1.,  1.,  1.,  1.,  0.,  6.,  2.,  4.,  0.,  1.,  1.,  2.,\n",
       "        7., 14.,  1.,  0.,  2.,  2.,  2.,  2.,  2.,  1., 22.,  2.,  1.,\n",
       "        1.,  1.,  0.,  2.,  1.,  1.,  1.,  1.,  0.,  1.,  1.,  1.,  1.,\n",
       "        1.,  1.,  1.,  0.,  1.,  2.,  4., 14.,  1.,  1.,  2.,  1.,  0.,\n",
       "        1.,  1.,  7.,  1.,  1.,  0.,  7.,  1.,  3.,  1.,  0.,  0.,  2.,\n",
       "        1.,  1.,  2.,  2.,  0.,  0.,  0.,  4.,  1.,  0., 10.,  2.,  1.,\n",
       "        0.,  2.,  1.,  2.,  1.,  1.,  2.,  1.,  1.,  1.,  2.,  2.,  3.,\n",
       "        0.,  0.,  2.,  1.,  3.,  0.,  1.,  1.,  3.,  1.,  0.,  1.,  0.,\n",
       "        2.,  1.,  1.,  0.,  2.,  1.,  1.,  2.,  1.,  1.,  1.,  2.,  3.,\n",
       "        2.,  2.,  1.,  5.,  1.,  2.,  2.,  1.,  2.,  3.,  6.,  1.,  1.,\n",
       "        1.,  0.,  0.,  6.,  1.,  0.,  4.,  2.,  0.,  1.,  1.,  3.,  2.,\n",
       "        1.,  0.,  1.,  1.,  1.,  1.,  2.,  2.,  0.,  3.,  2.,  0.,  0.,\n",
       "        1.,  1.,  1.,  2.,  1.,  2.,  1.,  1.,  0.,  2.,  2.,  1.,  2.,\n",
       "        1.,  2.,  8., 13., 14.,  1.,  1.,  1.,  0.,  1.,  1.,  0.,  1.,\n",
       "        2.,  1.,  2.,  1., 25.,  1.,  1.,  2.,  0.,  2.,  1.,  2.,  0.,\n",
       "        3.,  1.,  1.,  2.,  8.,  1.,  1.,  1., 19.,  1.,  1.,  2.,  3.,\n",
       "        1.,  2.,  1.,  1.,  6.,  0.,  2.,  0.,  2.,  1.,  0.,  1.,  1.,\n",
       "        1.,  0.,  1.,  3.,  2.,  1.,  1.,  2.,  2.,  1.,  1.,  1.,  1.,\n",
       "        2.,  1.,  1.,  1.,  2.,  0.,  1.,  1.,  0., 12.,  1.,  2.,  1.,\n",
       "        1.,  1.,  1.,  1.,  0.,  2.,  2.,  1.,  1.], dtype=float32)"
      ]
     },
     "execution_count": 95,
     "metadata": {},
     "output_type": "execute_result"
    }
   ],
   "source": [
    "np.round(OUTPUTS[:, 1], 0)"
   ]
  },
  {
   "cell_type": "code",
   "execution_count": 93,
   "id": "f3268b46",
   "metadata": {
    "scrolled": true
   },
   "outputs": [
    {
     "data": {
      "text/plain": [
       "array([  2.,   1.,   1.,   5.,   1.,   2.,   1.,   1.,   2.,   1., 174.,\n",
       "         1.,   2.,   1.,   2.,   1.,   3.,   2.,   1.,   0.,   2.,   1.,\n",
       "        14.,   6.,   2.,   1.,   4.,   1.,   1.,   2.,   0.,   4.,   0.,\n",
       "         1.,   2.,   2.,   2.,   4.,   2.,   0.,   1.,   1.,   3.,   6.,\n",
       "         0.,   4.,   4.,   1.,   1.,   5.,   1.,   3.,   2.,   2.,   1.,\n",
       "         2.,   1.,   1.,   1.,   2.,  18.,   1.,   1.,   1.,   3.,   2.,\n",
       "         2.,   5.,   1.,   2.,   1.,   2.,   1.,   2.,   1.,  18.,   1.,\n",
       "         1.,   1.,   2.,   0.,  12.,   2.,   1.,   0.,  13.,   1.,   1.,\n",
       "       171.,   1.,   6.,   2.,   1.,   0.,   1.,   5.,   2.,   2.,   2.,\n",
       "        17.,   4.,  32.,   3.,   1.,   2.,   0.,   2.,   6.,   1.,   2.,\n",
       "         2.,   5.,   2.,   0.,   1.,   0.,   3.,   7.,   8.,   1.,   3.,\n",
       "         2.,   5.,   1.,   3.,   1.,   0.,   4.,   2.,   4.,   2.,   2.,\n",
       "         2.,   4.,   3.,   1.,   1.,   2.,   1.,   0.,   1.,   1.,   1.,\n",
       "         7.,   1.,  10.,   0.,   3.,   5.,   1.,   1.,   0.,   0.,   0.,\n",
       "         3.,   2.,   7.,  16.,   2.,   1.,   9.,   1.,   0.,   1.,   2.,\n",
       "         3.,   2.,   2.,   8.,   2.,   1.,   0.,   3.,   4.,   2.,   1.,\n",
       "         3.,   2.,  40.,   2.,   0.,   1.,   1.,   1.,   3.,  91.,   1.,\n",
       "         9.,   2.,   3.,   2.,   3.,   1.,   3.,   2.,   1.,   2.,   1.,\n",
       "         1.,   1.,   3.,   3.,   3.,   4.,   2.,   0.,   1.,   2.,   1.,\n",
       "         4.,   0.,   1.,   3.,   1.,   9.,  30.,   4.,   1.,   0.,   2.,\n",
       "         2.,   3.,   3.,  11.,   1.,   2.,  11.,   2.,   1.,   2.,   0.,\n",
       "         2.,   3.,   4.,   2.,   0.,   1.,   2.,   6.,   1.,   1.,   3.,\n",
       "         2.,   1.,   3.,   1.,   1.,   0.,   1.,   1.,   1.,   2.,   2.,\n",
       "         1.,  28.,   1.,   0.,   2.,   0.,   3.,   4.,   2.,   1.,   3.,\n",
       "        25.,  12.,   4.,   0.,   1.,   1.,   0.,   1.,   2.,   1.,   3.,\n",
       "         1.,   1.,   3.,   2.,   6.,   1.,   3.,  12.,   3.,   2.,   1.,\n",
       "         1.,   0.,   0.,   1.,   1.,   1.,   1.,   0.,  24.,   3.,   5.,\n",
       "        51.,   1.,   2.,   4.,   2.,   1.,   1.,   4.,   2.,   0.,   0.,\n",
       "        11.,   1.,   3.,   1.,   1.,   1.,   2.,   1.,   1.,   2.,   4.,\n",
       "         1.,   1.,   6.,   1.,   2.,  40.,   2., 101.,   0.,  29.,  17.,\n",
       "        27.,   1.,   1.,   5.,   0.,   4.,   1.,   3.,   2.,  10.,  24.,\n",
       "         1.,  48.,   1.,   2.,   1.,   1., 115.,   4.,   3.,   4.,  25.,\n",
       "         3.,   2.,   7.,   1.,   2.,   1.,   1.,   0.,   1.,  12.,   7.,\n",
       "         3.,   2.,   3.,   0.,   3.,   0.,   2.,   3.,   3.,   4.,   2.,\n",
       "         3.,   0.,   2.,   0.,   1.,   0.,   6.,   6.,   2.,   3.,   0.,\n",
       "         1.,   2.,   4.,   1.,   2.,   0.,   1.,   2.,   1.,   1.,  27.,\n",
       "         2.,   1.,   4.,  18.,   3.,   1.,   1.,   1.,   1.,   5.,   1.,\n",
       "         0.,   2.,   1.,   1.,   1.,   2.,   2.,   0.,   4.,  24.,   1.,\n",
       "         3.,   3.,   8.,   0.,   4.,   0.,   3.,   3.,   1.,   1.,   1.,\n",
       "         3.,   3.,   0.,   1.,   0.,   0.,   2.,   2.,   2.,   3.,   3.,\n",
       "         2.,   1.,   2.,   3.,   5.,   1.,   4.,   4.,   0.,   1.,  10.,\n",
       "         1.,   3.,   3.,   1.,   2.,   2.,   2.,   1.,   3.,  12.,   1.,\n",
       "         0.,   1.,   4.,   4.,   2.,   1.,   1.,   4.,  14., 126.,   2.,\n",
       "         2.,   8.,   2.,   3.,   3.,   0.,   1.,   0.,   2.,   5.,   2.,\n",
       "        12.,   1.,   1.,   3.,  27.,   1.,   1.,   3.,   2.,   2.,   2.,\n",
       "         0.,   3.,   1.,   2.,   1.,   4.,   3.,   2.,   4.,   1.,   5.,\n",
       "         1.,   1.,   1.,   3.,   4.,   1.,   1.,  63.,   1.,   1.,   2.,\n",
       "         1.,   1.,   2.,   2.,   1.,   2.,   1.,   4.,   2.,   3.,   2.,\n",
       "         2.,  30.,  38.,   0.,   2.,   2.,   2.,   1.,   1.,   2.,   1.,\n",
       "        32.,   2.,   2.,   2.,   7.,  15.,  11.,   0.,   5.,   2.,   2.,\n",
       "         2.,   2.,   2.,   6.,   4.,   2.,   6.,   1.,   2.,  20.,   4.,\n",
       "         0.,   1.,   4.,   2.,   3.,   1.,  19.,   1.,   1.,   3.,   5.,\n",
       "         3.,   2.,   2.,   2.,   1.,   0.,  13.,  11.,   6.,   0.,   2.,\n",
       "         1.,   6.,  18.,  38.,   4.,   0.,   1.,   4.,   2.,   1.,   8.,\n",
       "         2.,  38.,   3.,   2.,   1.,   1.,   0.,   2.,   1.,  53.,   2.,\n",
       "         1.,   0.,   3.,   3.,   2.,   2.,   1.,   1.,   2.,   8.,   2.,\n",
       "         3.,   6.,  34.,   1.,   1.,   3.,   1.,   0.,   1.,   2.,   8.,\n",
       "         2.,   1.,   0.,   6.,   1.,  10.,   1.,   0.,   0.,   1.,   1.,\n",
       "         2.,   3.,   5.,   0.,   0.,   1.,   4.,   3.,   0.,  50.,   5.,\n",
       "         1.,   0.,   2.,   1.,   3.,   2.,   1.,   2.,   2.,  32.,   1.,\n",
       "         2.,   4.,   2.,   0.,   0.,   3.,   1.,  14.,   0.,   2.,   1.,\n",
       "         2.,   3.,   0.,   1.,  24.,  51.,   1.,   3.,   0.,   3.,   1.,\n",
       "         2.,   2.,   1.,   3.,   1.,   4.,   5.,   4.,   2.,   1.,  75.,\n",
       "         1.,   2.,   3.,   1.,   0.,   1.,  12.,   2.,   1.,   1.,   0.,\n",
       "         8.,  12.,   1.,   0.,   4.,   8.,   0.,   1.,   2.,   3.,   3.,\n",
       "         1.,  12.,   1.,   1.,   1.,   1., 180.,   2.,   9.,   3.,   5.,\n",
       "         0.,   0.,   3.,   2.,   1.,   5.,   1.,   3.,   2.,   1.,  20.,\n",
       "         2.,   2.,   1., 171.,   2.,   5.,  16., 282.,  24.,   1.,   1.,\n",
       "         2.,   0.,   1.,   3.,   0.,   2.,   1.,   1.,   6.,   1.,  32.,\n",
       "         1.,   1.,   3.,   0.,   3.,   2.,   6.,   0.,   3.,   2.,   1.,\n",
       "         2.,   6.,   3.,   2.,   1.,  38.,   1.,   1.,   2.,   2.,   1.,\n",
       "         2.,   1.,   1.,  19.,   0.,   2.,   1.,   2.,   1.,   0.,   1.,\n",
       "         1.,   1.,   0.,   2.,  11.,   2.,   0.,   1.,   3.,   3.,   1.,\n",
       "         2.,   5.,   3.,   4.,   1.,   2.,   2.,   2.,   4.,   1.,   1.,\n",
       "         3.,  20.,   1.,   6.,   1.,   1.,   1.,   1.,   1.,   0.,   2.,\n",
       "         5.,   1.,   1.], dtype=float32)"
      ]
     },
     "execution_count": 93,
     "metadata": {},
     "output_type": "execute_result"
    }
   ],
   "source": [
    "TARGETS[:, 1]"
   ]
  },
  {
   "cell_type": "code",
   "execution_count": null,
   "id": "01e4da5b",
   "metadata": {},
   "outputs": [],
   "source": []
  },
  {
   "cell_type": "code",
   "execution_count": null,
   "id": "5ef19f37",
   "metadata": {},
   "outputs": [],
   "source": []
  },
  {
   "cell_type": "code",
   "execution_count": 82,
   "id": "70de20a0",
   "metadata": {},
   "outputs": [
    {
     "data": {
      "text/plain": [
       "5.5519323"
      ]
     },
     "execution_count": 82,
     "metadata": {},
     "output_type": "execute_result"
    }
   ],
   "source": [
    "TARGETS[:, 1].mean()"
   ]
  },
  {
   "cell_type": "code",
   "execution_count": null,
   "id": "d0719822",
   "metadata": {},
   "outputs": [],
   "source": []
  },
  {
   "cell_type": "code",
   "execution_count": null,
   "id": "c39f26fa",
   "metadata": {},
   "outputs": [],
   "source": []
  },
  {
   "cell_type": "code",
   "execution_count": 20,
   "id": "64dfea18",
   "metadata": {},
   "outputs": [
    {
     "name": "stderr",
     "output_type": "stream",
     "text": [
      "86/86 00:04<00:00 "
     ]
    },
    {
     "name": "stdout",
     "output_type": "stream",
     "text": [
      "EPOCH 1 | AUC 0.9988291900561347\n"
     ]
    },
    {
     "name": "stderr",
     "output_type": "stream",
     "text": [
      "\n"
     ]
    }
   ],
   "source": [
    "score, OUTPUTS, TARGETS, IDS = test_one_epoch('./data/AAA_CLS/TRY1_CLS/tf_efficientnetv2_s.in21k_ft_in1k_v2/0_best.pth', valid_loader, do_ema=False, debug=True, running_dist=False)"
   ]
  },
  {
   "cell_type": "code",
   "execution_count": null,
   "id": "358723aa",
   "metadata": {},
   "outputs": [],
   "source": []
  },
  {
   "cell_type": "code",
   "execution_count": 26,
   "id": "defbea2f",
   "metadata": {},
   "outputs": [
    {
     "data": {
      "text/plain": [
       "array([5.40763059e-11, 2.59097945e-03, 2.60703091e-05, 7.42638076e-05,\n",
       "       5.29661384e-06, 1.83428929e-05, 2.47727172e-07, 1.78131129e-04,\n",
       "       9.61024198e-05, 3.87476146e-04, 9.62564215e-08, 2.04203320e-06,\n",
       "       2.79693013e-05, 2.25558182e-07, 1.30329747e-04, 7.62598110e-11,\n",
       "       8.53032088e-06, 1.34404097e-08, 6.47594788e-07, 2.62747726e-05,\n",
       "       9.62212624e-04, 4.57539136e-05, 1.35743306e-07, 9.11051175e-04,\n",
       "       1.47924666e-07, 1.27787280e-06, 5.91419979e-13, 6.24093036e-06,\n",
       "       2.21256687e-05, 6.21478264e-08, 9.06971912e-14, 1.21130643e-03,\n",
       "       1.66139065e-03, 4.13353991e-05, 3.07743088e-04, 1.05432015e-12,\n",
       "       2.52682275e-05, 4.40011863e-05, 9.02803804e-05, 6.25371322e-05,\n",
       "       1.81408182e-01, 1.67014205e-05, 3.33656307e-14, 9.57675397e-01,\n",
       "       2.78030959e-04, 5.44213282e-04, 1.79179879e-05, 1.08451673e-06,\n",
       "       4.03779013e-05, 7.06640072e-03, 1.47389828e-05, 6.64104824e-04,\n",
       "       1.92602864e-04, 9.18485270e-08, 8.99096108e-07, 1.32381858e-04,\n",
       "       9.25364912e-01, 1.05256855e-03, 1.44715698e-10, 9.14613716e-04,\n",
       "       4.97474510e-04, 6.45221444e-05, 5.86281431e-06, 1.86029868e-03,\n",
       "       2.57983634e-10, 2.52157338e-06, 2.01037460e-06, 2.95691401e-12,\n",
       "       5.45329556e-07, 5.21141241e-10, 5.01473460e-06, 3.07181872e-05,\n",
       "       5.10419086e-05, 1.81622238e-06, 6.62952004e-07, 1.09750908e-04,\n",
       "       1.40052279e-07, 2.49670137e-07, 2.93115390e-05, 2.43374370e-08,\n",
       "       1.47924666e-07, 2.79112646e-06, 7.54332068e-05, 1.46773516e-07,\n",
       "       8.75030019e-05, 4.67424843e-06, 1.92815000e-11, 3.31454294e-06,\n",
       "       2.31874783e-05, 2.01764454e-08, 1.40095679e-02, 8.59722513e-06,\n",
       "       4.18948359e-04, 4.27135340e-08, 1.75824541e-14, 3.73435687e-05,\n",
       "       1.13179599e-08, 8.87012720e-06, 4.06945765e-05, 4.33190362e-05,\n",
       "       8.95324348e-09, 1.59608824e-08, 2.15100680e-11, 4.21398084e-07,\n",
       "       1.80860482e-08, 6.09636027e-06, 2.86468565e-01, 1.44939846e-03,\n",
       "       8.93445569e-04, 8.05944580e-07, 2.50715966e-05, 1.42855179e-05,\n",
       "       7.23532956e-10, 1.96380438e-06, 2.39171594e-01, 1.79527968e-04,\n",
       "       6.93309019e-08, 7.15232454e-04, 3.64785374e-05, 4.23155980e-05,\n",
       "       1.22376322e-08, 1.32738864e-02, 3.22418643e-08, 4.40011863e-05,\n",
       "       7.66210214e-05, 4.03779013e-05, 5.71500436e-07, 3.74352013e-15,\n",
       "       6.38892925e-06, 1.50570168e-06, 7.18326055e-06, 4.23155980e-05,\n",
       "       4.52975830e-04, 5.99543750e-01, 2.32316274e-03, 1.96790243e-05,\n",
       "       3.52091291e-07, 1.36583534e-04, 1.90433022e-03, 1.15919334e-04,\n",
       "       4.04162207e-12, 1.86317466e-05, 8.87826542e-13, 2.29362562e-01,\n",
       "       1.39395020e-03, 3.23097140e-07, 1.91104322e-04, 3.44643166e-04,\n",
       "       9.21780418e-04, 2.18242072e-04, 1.47614028e-08, 6.34880015e-09,\n",
       "       9.00981013e-06, 6.43903741e-06, 8.34962848e-05, 3.90513946e-04,\n",
       "       2.85731585e-06, 4.72854445e-04, 1.98636378e-08, 2.35971747e-04,\n",
       "       3.11187659e-10, 2.93115390e-05, 5.56220657e-05, 4.14864900e-07,\n",
       "       1.75369947e-04, 1.28519190e-07, 2.22991985e-05, 8.78268565e-07,\n",
       "       1.01880926e-06, 1.20296390e-05, 1.92231710e-05, 1.54766618e-04,\n",
       "       4.31391214e-07, 2.35971747e-04, 2.10560111e-10, 1.19110848e-06,\n",
       "       1.14787681e-05, 2.95246605e-09, 7.01713085e-01, 5.46927424e-03,\n",
       "       1.80935749e-04, 1.48545796e-05, 1.01453530e-08, 3.68988481e-07,\n",
       "       2.65225954e-03, 2.60554223e-09, 1.87387536e-06, 1.50005653e-04,\n",
       "       5.58261661e-07, 8.73260979e-06, 9.27636449e-07, 1.27787280e-06,\n",
       "       2.26946874e-03, 5.49606625e-07, 3.77738786e-07, 6.04891829e-06,\n",
       "       2.62747726e-05, 2.08607219e-07, 4.18748758e-10, 5.48452590e-08,\n",
       "       1.10325604e-09, 1.83428929e-05, 4.25595363e-06, 2.62144115e-03,\n",
       "       3.09415804e-09, 8.23324839e-08, 3.50811169e-05, 1.36807955e-07,\n",
       "       6.25978696e-12, 2.75035826e-13, 8.22018919e-05, 3.66117007e-07,\n",
       "       3.84493524e-06, 4.53043731e-06, 3.51438270e-04, 8.92375112e-01,\n",
       "       2.59097945e-03, 9.21499014e-01, 1.66788232e-03, 2.04203320e-06,\n",
       "       4.15689487e-04, 1.95556815e-08, 7.96730092e-05, 2.39686851e-04,\n",
       "       1.30661693e-14, 2.64808423e-05, 5.20357105e-07, 1.89825690e-11,\n",
       "       3.77028569e-04, 3.71101585e-08, 9.31459363e-05, 1.52068396e-05,\n",
       "       2.56661333e-05, 2.05804918e-06, 5.77191986e-06, 1.37095731e-06,\n",
       "       2.25084520e-08, 2.53156351e-04, 4.76503885e-08, 5.64979346e-05,\n",
       "       1.60924256e-01, 7.06905557e-04, 3.47345311e-04, 3.43212889e-08,\n",
       "       1.82662575e-07, 7.15317015e-08, 1.33078071e-09, 7.84378935e-05,\n",
       "       5.43336428e-05, 1.60408928e-03, 4.15736440e-06, 7.66210214e-05,\n",
       "       1.24362254e-04, 1.25088409e-05, 2.03426986e-04, 6.41206057e-08,\n",
       "       2.16131411e-05, 7.12735982e-06, 5.67052950e-07, 1.87778733e-05,\n",
       "       5.02506155e-05, 3.16932565e-05, 2.26032421e-06, 2.55141407e-04,\n",
       "       6.71978171e-08, 3.50068614e-04, 4.54747875e-04, 5.66386571e-03,\n",
       "       8.44622662e-07, 1.14307333e-07, 3.67646317e-05, 6.85431723e-06,\n",
       "       5.01374248e-04, 2.79112646e-06, 5.78064796e-09, 1.19360247e-05,\n",
       "       3.57635912e-07, 1.30071294e-05, 1.51660740e-10, 1.89617407e-04,\n",
       "       3.46632618e-07, 9.64014424e-11, 2.08169144e-08, 2.57141975e-04,\n",
       "       1.08678860e-05, 2.09883103e-04, 6.02357346e-08, 1.92602864e-04,\n",
       "       1.27519044e-07, 4.48575889e-07, 5.42221869e-06, 7.36859292e-05,\n",
       "       5.39980421e-04, 9.83321335e-09, 2.67382595e-04, 6.31265138e-08,\n",
       "       1.49398431e-06, 7.91629602e-04, 1.02464433e-07, 1.44375581e-03,\n",
       "       1.03102117e-04, 2.93654623e-04, 2.75779293e-08, 2.48764900e-05,\n",
       "       4.33190362e-05, 1.42695964e-03, 4.46940721e-05, 3.83687308e-07,\n",
       "       1.43975585e-05, 8.49597156e-01, 6.11834053e-04, 1.67763337e-01,\n",
       "       2.75356906e-05, 9.23454404e-01, 1.31472456e-03, 1.92602864e-04,\n",
       "       1.03702132e-05, 1.82662575e-07, 3.17420010e-08, 4.03779013e-05,\n",
       "       7.84378935e-05, 1.07208805e-04, 1.51181986e-04, 1.83150999e-03,\n",
       "       2.57141975e-04, 1.44498017e-07, 1.28519190e-07, 1.33155791e-05,\n",
       "       1.87387536e-06, 2.59450197e-01, 9.07502545e-04, 1.97920667e-06,\n",
       "       8.61465087e-05, 9.61024198e-05, 1.37654628e-04, 1.04296964e-06,\n",
       "       1.58436218e-04, 3.02884295e-08, 3.85289350e-05, 1.55980291e-04,\n",
       "       3.54107605e-08, 2.09361195e-09, 3.19237703e-09, 1.74297867e-07,\n",
       "       2.48248011e-06, 1.07996723e-08, 5.95340680e-04, 5.65862308e-08,\n",
       "       1.61199168e-07, 4.36587834e-05, 2.35886528e-08, 9.15169312e-06,\n",
       "       5.60582848e-05, 3.32141935e-05, 3.03521659e-07, 1.84867549e-05,\n",
       "       4.75764537e-05, 1.40854288e-08, 6.01415231e-05, 3.87509090e-06,\n",
       "       2.50195012e-06, 1.44259859e-04, 3.69763802e-06, 2.12658158e-09,\n",
       "       1.03702132e-05, 1.04674012e-08, 2.01027825e-01, 1.76745132e-04,\n",
       "       3.41143370e-01, 6.07393403e-03, 9.97294137e-06, 7.60542254e-16,\n",
       "       1.55481335e-03, 2.09361195e-09, 1.43975585e-05, 1.45631319e-07,\n",
       "       1.98636378e-08, 6.43903741e-06, 6.50281654e-05, 1.13234375e-04,\n",
       "       9.43763614e-01, 9.99303156e-05, 1.38460045e-05, 4.91629706e-08,\n",
       "       1.00452602e-09, 1.09697424e-08, 2.68978456e-05, 4.33861693e-08,\n",
       "       3.24448156e-05, 7.42638076e-05, 5.14422100e-05, 9.51625134e-06,\n",
       "       1.67014205e-05, 2.01844217e-04, 9.04245496e-08, 8.61465087e-05,\n",
       "       1.53562403e-04, 1.77785514e-05, 3.19237703e-09, 2.86854105e-04,\n",
       "       4.99371779e-08, 1.47680374e-04, 1.55980291e-04, 2.73058509e-09,\n",
       "       9.22482371e-01, 4.67348058e-04, 1.77785514e-05, 6.86831772e-05,\n",
       "       4.07575342e-08, 4.75764537e-05, 9.02803804e-05, 5.73223923e-13,\n",
       "       1.80585193e-05, 3.21923326e-05, 7.46500417e-10, 2.01037460e-06,\n",
       "       9.20417563e-07, 5.60582848e-05, 1.86601596e-08, 6.21478264e-08,\n",
       "       1.03702132e-05, 3.14288395e-09, 4.06945765e-05, 4.46940721e-05,\n",
       "       1.05716992e-07, 1.54057577e-01, 2.90834432e-05, 5.74773438e-08,\n",
       "       1.05716992e-07, 3.16932565e-05, 4.69116372e-08, 3.56335440e-05,\n",
       "       9.02803804e-05, 4.43462741e-05, 5.31578515e-08, 3.38842422e-01,\n",
       "       4.32241504e-04, 2.09045857e-06, 9.53621745e-01, 1.19598575e-04,\n",
       "       2.82913334e-07, 1.07381801e-07, 1.06374580e-04, 1.80684209e-01,\n",
       "       7.84378935e-05, 9.09884038e-05, 1.59849269e-11, 1.37095731e-06,\n",
       "       5.56220657e-05, 1.84095228e-07, 9.20417563e-07, 9.73543792e-04,\n",
       "       5.74087433e-16, 5.72700264e-06, 2.44908260e-05, 3.97519252e-05,\n",
       "       4.28034127e-07, 6.69553856e-06, 3.31257521e-10, 2.21256687e-05,\n",
       "       1.57796171e-06, 8.90865207e-01, 2.05074344e-03, 1.88857234e-06,\n",
       "       3.12587799e-04, 2.39601210e-08, 1.40854288e-08, 2.44908260e-05,\n",
       "       4.33190362e-05, 6.51303580e-08, 2.59615859e-07, 7.28110308e-07,\n",
       "       4.93698917e-06, 2.44908260e-05, 4.19863063e-05, 2.89103249e-04,\n",
       "       5.57089521e-08, 1.04515484e-05, 5.02506155e-05, 8.88808499e-05,\n",
       "       3.09415804e-09, 1.04674012e-08, 1.52367546e-04, 5.00422516e-07,\n",
       "       7.30742356e-09, 2.56128237e-06, 4.35687980e-06, 5.85053158e-07,\n",
       "       4.28879226e-04, 7.05708715e-07, 1.53672707e-03, 6.05806783e-09,\n",
       "       2.91370059e-04, 1.04078005e-07, 2.90231196e-06, 2.45369476e-04,\n",
       "       4.01860975e-11, 2.99444082e-06, 1.40640441e-05, 1.91923743e-03,\n",
       "       3.94425879e-05, 7.15317015e-08, 1.45325485e-08, 2.09793285e-01,\n",
       "       1.14122391e-04, 1.15687953e-05, 1.99889182e-05, 1.73568189e-01,\n",
       "       3.61946695e-05, 4.26474689e-05, 7.42638076e-05, 1.61875814e-05,\n",
       "       2.90834432e-05, 2.86325576e-05, 4.72062275e-05, 1.60616109e-05,\n",
       "       3.34746910e-05, 7.42638076e-05, 6.02357346e-08, 3.76945586e-08,\n",
       "       5.13257924e-04, 8.67933810e-01, 1.06081518e-03, 2.94183280e-07,\n",
       "       6.04891829e-06, 1.39545991e-05, 2.48764900e-05, 2.77516519e-05,\n",
       "       1.43675061e-06, 7.24622890e-13, 3.17420010e-08, 2.48764900e-05,\n",
       "       2.95414229e-05, 6.06131835e-05, 1.32877733e-06, 5.21141241e-10,\n",
       "       1.16828400e-04, 2.00273760e-04, 1.34200136e-05, 2.30070364e-05,\n",
       "       7.60247931e-05, 1.25337523e-04, 1.06374580e-04, 3.82963626e-04,\n",
       "       9.62564215e-08, 3.44884604e-01, 2.88958102e-03, 1.90735773e-05,\n",
       "       3.40018196e-05, 2.17826491e-05, 2.43460454e-04, 5.74773438e-08,\n",
       "       1.20732608e-07, 3.45372537e-05, 6.50281654e-05, 3.61946695e-05,\n",
       "       6.76184209e-05, 4.46019976e-06, 4.79495829e-05, 9.17019643e-05,\n",
       "       1.41743494e-05, 6.48953937e-06, 3.00616317e-04, 1.07381801e-07,\n",
       "       2.56661333e-05, 5.02506155e-05, 3.48081230e-05, 1.47614028e-08,\n",
       "       2.66885290e-05, 4.61127493e-05, 8.01349961e-06, 7.39576365e-07,\n",
       "       5.48479205e-04, 1.09697424e-08, 5.31578515e-08, 9.46126238e-05,\n",
       "       1.65021888e-07, 1.22190759e-05, 2.52682275e-05, 3.61946695e-05,\n",
       "       2.07851717e-05, 3.61946695e-05, 3.50754917e-01, 3.46989068e-03,\n",
       "       2.22528115e-06, 1.69902705e-08, 3.02419594e-05, 5.34913270e-05,\n",
       "       7.57114947e-07, 6.65701591e-05, 1.17744596e-04, 3.10155971e-04,\n",
       "       2.71503744e-08, 3.53562500e-05, 8.62837055e-08, 6.61560051e-08,\n",
       "       2.55141407e-04, 2.30070364e-05, 3.97519252e-05, 2.01456915e-05,\n",
       "       3.07181872e-05, 1.90735773e-05, 3.21923326e-05, 2.77516519e-05,\n",
       "       4.61843435e-08, 2.51186779e-04, 4.99371779e-08, 7.34926897e-10,\n",
       "       3.80701437e-07, 3.54852745e-07, 1.71595616e-07, 1.22190759e-05,\n",
       "       9.87463750e-07, 2.82408088e-04, 2.59070685e-08, 3.20582785e-07,\n",
       "       5.53917232e-07, 6.15676472e-05, 2.92507502e-06, 1.97169429e-04,\n",
       "       4.84007714e-08, 1.22190759e-05, 2.52682275e-05, 4.53978682e-05,\n",
       "       3.67440345e-09, 2.24740907e-05, 4.03779013e-05, 2.93654623e-04,\n",
       "       1.71308187e-04, 7.49645821e-08, 1.18667966e-04, 1.37880960e-07,\n",
       "       1.14961916e-08, 2.84622394e-04, 2.19534904e-05, 3.94425879e-05,\n",
       "       1.26069463e-05, 2.22991985e-05, 2.52682275e-05, 5.53917232e-07,\n",
       "       4.61127493e-05, 8.48110358e-05, 4.06945765e-05, 7.66210214e-05,\n",
       "       1.13894403e-05, 2.01456915e-05, 5.77191986e-06, 1.01299911e-05,\n",
       "       4.83256408e-05, 2.84533481e-08, 2.39235105e-05, 4.03779013e-05,\n",
       "       5.45329556e-07, 2.31874783e-05, 7.26581675e-08, 1.08678860e-05,\n",
       "       1.77785514e-05, 1.50570168e-06, 1.65728077e-01, 1.02299862e-04,\n",
       "       3.35133195e-01, 2.49196799e-03, 2.95414229e-05, 5.18456582e-05,\n",
       "       2.53601854e-07, 2.10243357e-07, 7.61451062e-08, 1.04725565e-04,\n",
       "       1.60930824e-04, 7.48462262e-05, 1.16828400e-04, 3.82291146e-05,\n",
       "       7.08632651e-05, 6.40200669e-05, 4.94715896e-05, 5.78064796e-09,\n",
       "       4.19863063e-05, 1.92930145e-07, 3.21923326e-05, 5.57089521e-08,\n",
       "       5.02506155e-05, 8.09275734e-05, 1.02034503e-09, 3.73435687e-05,\n",
       "       7.42638076e-05, 2.95957085e-04, 8.07159339e-10, 3.30152718e-04,\n",
       "       1.49938604e-08, 1.75295991e-08, 5.61478781e-04, 8.49459951e-08,\n",
       "       1.49710841e-05, 3.07181872e-05, 1.49710841e-05, 2.62747726e-05,\n",
       "       2.06115347e-09, 4.06945765e-05, 7.90530394e-05, 1.80935749e-04,\n",
       "       2.32718179e-07, 1.45631319e-07, 2.58674299e-05, 4.98595800e-05,\n",
       "       2.46829040e-05, 4.64744007e-05, 3.17955494e-01, 2.89103249e-04,\n",
       "       3.45372537e-05, 2.06983827e-07, 3.85289350e-05, 8.99298429e-01,\n",
       "       9.02027916e-03, 9.97294137e-06, 1.63145396e-05, 1.08049557e-04,\n",
       "       1.71308187e-04, 2.37373388e-05, 9.77722507e-08, 3.26992704e-05,\n",
       "       6.10885472e-05, 3.51422340e-01, 3.66422022e-03, 3.65432847e-04,\n",
       "       1.67620613e-07, 2.14198125e-13, 4.35630180e-04, 7.67292455e-04,\n",
       "       7.08259851e-09, 3.42684907e-05, 4.43217685e-09, 2.58674299e-05,\n",
       "       4.46940721e-05, 1.68324113e-05, 2.86325576e-05, 1.79179879e-05,\n",
       "       1.07607696e-06, 3.07743088e-04, 1.05716992e-07, 2.25168245e-04,\n",
       "       5.94266396e-07, 1.49938604e-08, 4.61843435e-08, 2.81886641e-05,\n",
       "       5.02506155e-05, 2.19534904e-05, 3.97519252e-05, 2.97731167e-05,\n",
       "       5.69410295e-05, 2.79693013e-05, 7.60247931e-05, 1.35252667e-05,\n",
       "       2.31874783e-05, 5.39589822e-01, 2.35971747e-04, 2.17826491e-05,\n",
       "       3.82291146e-05, 1.24114968e-05, 1.95258835e-05, 6.19236380e-06,\n",
       "       3.56335440e-05, 6.15676472e-05, 1.76401991e-05, 3.14466233e-05,\n",
       "       1.23149111e-05, 2.26503507e-05, 3.00616317e-04, 3.37891848e-08,\n",
       "       3.42684907e-05, 5.73875950e-05, 5.90710435e-04, 6.25371322e-05,\n",
       "       1.14122391e-04, 1.79179879e-05, 3.34746910e-05, 3.23700696e-01,\n",
       "       4.23884747e-04, 1.44801925e-06, 1.90338449e-06, 3.94425879e-05,\n",
       "       7.19791205e-05, 2.52682275e-05, 4.29819411e-05, 6.85171224e-04,\n",
       "       1.36520653e-08, 2.54664064e-05, 4.72062275e-05, 2.28279969e-05,\n",
       "       3.70529706e-05, 3.14466233e-05, 5.64979346e-05, 7.60247931e-05,\n",
       "       1.37654628e-04, 2.77516519e-05, 5.14422100e-05, 4.13353991e-05,\n",
       "       7.14190101e-05, 9.99863386e-01, 9.04245496e-08, 4.61905845e-04,\n",
       "       1.92524983e-08, 4.26474689e-05, 6.76184209e-05, 3.88311091e-05,\n",
       "       6.86831772e-05, 3.10155971e-04, 7.26581675e-08, 3.82291146e-05,\n",
       "       3.54107605e-08, 1.67340506e-04, 2.25558182e-07, 3.37372257e-05,\n",
       "       5.73875950e-05, 2.03036925e-05, 3.42684907e-05, 4.63787319e-06,\n",
       "       7.70650968e-06, 7.14190101e-05, 4.92664242e-07, 7.60247931e-05,\n",
       "       1.21481746e-04, 1.50570168e-06, 7.64653669e-06, 1.35252667e-05,\n",
       "       9.74192062e-06, 1.64424946e-05, 2.95414229e-05, 5.78376639e-05,\n",
       "       9.53546114e-05, 1.48545796e-05, 3.02419594e-05, 1.94736255e-10,\n",
       "       2.21256687e-05, 4.00636927e-05, 1.37382558e-05, 2.43002414e-05,\n",
       "       1.52068396e-05, 2.79693013e-05, 3.40629311e-04, 5.31578515e-08,\n",
       "       5.92091637e-05, 1.15017356e-04, 3.87476146e-04, 3.07654027e-08,\n",
       "       5.22522678e-05, 2.01764454e-08, 4.79495829e-05, 8.09275734e-05,\n",
       "       2.39235105e-05, 4.83256408e-05, 1.25088409e-05, 2.43002414e-05,\n",
       "       1.39545991e-05, 2.44908260e-05, 1.74832523e-01, 2.93115390e-05,\n",
       "       4.26474689e-05, 7.60247931e-05, 2.00244710e-01, 7.60247931e-05,\n",
       "       3.59130099e-05, 6.70922454e-05, 2.58674299e-05, 4.29819411e-05,\n",
       "       2.73214137e-05, 4.03779013e-05, 3.45372537e-05, 6.40200669e-05,\n",
       "       4.19863063e-05, 7.42638076e-05, 7.25436184e-05, 1.35520779e-04,\n",
       "       3.02419594e-05, 5.26620679e-05, 4.33190362e-05, 7.60247931e-05,\n",
       "       2.75356906e-05, 4.68388862e-05, 3.53562500e-05, 6.70922454e-05,\n",
       "       3.73435687e-05, 7.03118494e-05, 3.14466233e-05, 5.30750804e-05,\n",
       "       2.07851717e-05, 3.59130099e-05, 3.04791411e-05, 5.51892335e-05,\n",
       "       7.78275353e-05, 1.33420006e-04, 2.39235105e-05, 5.06447177e-05,\n",
       "       4.16595831e-05, 7.36859292e-05, 3.79316225e-05, 6.97647047e-05,\n",
       "       1.30329747e-04, 2.78030959e-04, 2.84097441e-05, 4.94715896e-05,\n",
       "       8.34962848e-05, 1.45391139e-04, 1.59678646e-04, 2.86854105e-04,\n",
       "       2.17826491e-05, 3.79316225e-05, 4.90866187e-05, 8.75030019e-05,\n",
       "       3.29557297e-05, 5.69410295e-05, 2.44908260e-05, 4.83256408e-05,\n",
       "       5.22522678e-05, 8.28465563e-05, 2.39235105e-05, 4.16595831e-05,\n",
       "       3.76364478e-05, 7.25436184e-05, 5.14422100e-05, 8.75030019e-05,\n",
       "       4.68388862e-05, 8.81892338e-05, 2.37373388e-05, 4.40011863e-05,\n",
       "       3.32141935e-05, 7.08632651e-05, 2.46829040e-05, 4.40011863e-05,\n",
       "       3.12019147e-05, 5.87484210e-05, 9.53546114e-05, 1.36583534e-04,\n",
       "       3.85289350e-05, 7.36859292e-05, 1.76401991e-05, 3.04791411e-05,\n",
       "       2.88571173e-05, 5.14422100e-05, 7.54332068e-05, 1.17744596e-04,\n",
       "       1.84867549e-05, 3.53562500e-05, 1.39545991e-05, 2.62747726e-05,\n",
       "       5.06447177e-05, 7.08632651e-05, 2.52682275e-05, 4.36587834e-05,\n",
       "       4.03779013e-05, 8.61465087e-05, 7.66817868e-01, 2.01456915e-05,\n",
       "       1.48545796e-05, 2.62747726e-05, 1.03702132e-05, 1.76401991e-05,\n",
       "       1.13008091e-05, 1.72315722e-05, 6.81487218e-05, 1.17744596e-04,\n",
       "       2.30070364e-05, 4.33190362e-05, 2.07851717e-05, 3.88311091e-05,\n",
       "       1.08896907e-04, 1.82354604e-04, 3.00066185e-05, 5.43336428e-05,\n",
       "       1.77785514e-05, 3.79316225e-05, 2.22991985e-05, 4.23155980e-05,\n",
       "       3.67646317e-05, 7.36859292e-05, 3.07181872e-05, 5.56220657e-05,\n",
       "       2.03707546e-01, 3.56970646e-04, 4.13353991e-05, 7.60247931e-05,\n",
       "       1.14122391e-04, 1.89617407e-04, 3.91356552e-05, 6.70922454e-05,\n",
       "       3.24448156e-05, 5.18456582e-05], dtype=float32)"
      ]
     },
     "execution_count": 26,
     "metadata": {},
     "output_type": "execute_result"
    }
   ],
   "source": [
    "OUTPUTS[TARGETS==0]"
   ]
  },
  {
   "cell_type": "code",
   "execution_count": 25,
   "id": "2432b2a7",
   "metadata": {},
   "outputs": [
    {
     "data": {
      "text/plain": [
       "array([186, 285, 515])"
      ]
     },
     "execution_count": 25,
     "metadata": {},
     "output_type": "execute_result"
    }
   ],
   "source": [
    "np.sum(TARGETS==0, 0)"
   ]
  },
  {
   "cell_type": "code",
   "execution_count": 37,
   "id": "0d100b41",
   "metadata": {
    "scrolled": true
   },
   "outputs": [
    {
     "data": {
      "text/plain": [
       "array([[0., 1., 0.],\n",
       "       [0., 1., 0.],\n",
       "       [0., 1., 0.],\n",
       "       [0., 1., 0.],\n",
       "       [0., 1., 0.],\n",
       "       [0., 1., 0.],\n",
       "       [0., 1., 0.],\n",
       "       [0., 1., 0.],\n",
       "       [0., 1., 0.],\n",
       "       [0., 1., 0.],\n",
       "       [0., 1., 0.],\n",
       "       [0., 1., 0.],\n",
       "       [0., 1., 0.],\n",
       "       [0., 1., 0.]], dtype=float32)"
      ]
     },
     "execution_count": 37,
     "metadata": {},
     "output_type": "execute_result"
    }
   ],
   "source": [
    "TARGETS[(TARGETS[:, 0]==0) & (TARGETS[:, 2]!=1.)]"
   ]
  },
  {
   "cell_type": "code",
   "execution_count": 35,
   "id": "df0bfaf8",
   "metadata": {},
   "outputs": [
    {
     "data": {
      "text/plain": [
       "array([[1., 0., 0.],\n",
       "       [1., 0., 0.],\n",
       "       [1., 0., 0.],\n",
       "       [1., 0., 0.],\n",
       "       [1., 0., 0.],\n",
       "       [1., 0., 0.],\n",
       "       [1., 0., 0.],\n",
       "       [1., 0., 0.],\n",
       "       [1., 0., 0.],\n",
       "       [1., 0., 0.],\n",
       "       [1., 0., 0.],\n",
       "       [1., 0., 0.],\n",
       "       [1., 0., 0.],\n",
       "       [1., 0., 0.],\n",
       "       [1., 0., 0.],\n",
       "       [1., 0., 0.],\n",
       "       [1., 0., 0.],\n",
       "       [1., 0., 0.],\n",
       "       [1., 0., 0.],\n",
       "       [1., 0., 0.],\n",
       "       [1., 0., 0.],\n",
       "       [1., 0., 0.],\n",
       "       [1., 0., 0.],\n",
       "       [1., 0., 0.],\n",
       "       [1., 0., 0.],\n",
       "       [1., 0., 0.],\n",
       "       [1., 0., 0.],\n",
       "       [1., 0., 0.],\n",
       "       [1., 0., 0.],\n",
       "       [1., 0., 0.],\n",
       "       [1., 0., 0.],\n",
       "       [1., 0., 0.],\n",
       "       [1., 0., 0.],\n",
       "       [1., 0., 0.],\n",
       "       [1., 0., 0.],\n",
       "       [1., 0., 0.],\n",
       "       [1., 0., 0.],\n",
       "       [1., 0., 0.],\n",
       "       [1., 0., 0.],\n",
       "       [1., 0., 0.],\n",
       "       [1., 0., 0.],\n",
       "       [1., 0., 0.],\n",
       "       [1., 0., 0.],\n",
       "       [1., 0., 0.],\n",
       "       [1., 0., 0.],\n",
       "       [1., 0., 0.],\n",
       "       [1., 0., 0.],\n",
       "       [1., 0., 0.],\n",
       "       [1., 0., 0.],\n",
       "       [1., 0., 0.],\n",
       "       [1., 0., 0.],\n",
       "       [1., 0., 0.],\n",
       "       [1., 0., 0.],\n",
       "       [1., 0., 0.],\n",
       "       [1., 0., 0.],\n",
       "       [1., 0., 0.],\n",
       "       [1., 0., 0.],\n",
       "       [1., 0., 0.],\n",
       "       [1., 0., 0.],\n",
       "       [1., 0., 0.],\n",
       "       [1., 0., 0.],\n",
       "       [1., 0., 0.],\n",
       "       [1., 0., 0.],\n",
       "       [1., 0., 0.],\n",
       "       [1., 0., 0.],\n",
       "       [1., 0., 0.],\n",
       "       [1., 0., 0.],\n",
       "       [1., 0., 0.],\n",
       "       [1., 0., 0.],\n",
       "       [1., 0., 0.],\n",
       "       [1., 0., 0.],\n",
       "       [1., 0., 0.],\n",
       "       [1., 0., 0.],\n",
       "       [1., 0., 0.],\n",
       "       [1., 0., 0.],\n",
       "       [1., 0., 0.],\n",
       "       [1., 0., 0.],\n",
       "       [1., 0., 0.],\n",
       "       [1., 0., 0.],\n",
       "       [1., 0., 0.],\n",
       "       [1., 0., 0.],\n",
       "       [1., 0., 0.],\n",
       "       [1., 0., 0.],\n",
       "       [1., 0., 0.],\n",
       "       [1., 0., 0.],\n",
       "       [1., 0., 0.],\n",
       "       [1., 0., 0.],\n",
       "       [1., 0., 0.],\n",
       "       [1., 0., 0.],\n",
       "       [1., 0., 0.],\n",
       "       [1., 0., 0.],\n",
       "       [1., 0., 0.],\n",
       "       [1., 0., 0.],\n",
       "       [1., 0., 0.],\n",
       "       [1., 0., 0.],\n",
       "       [1., 0., 0.],\n",
       "       [1., 0., 0.],\n",
       "       [1., 0., 0.],\n",
       "       [1., 0., 0.],\n",
       "       [1., 0., 0.],\n",
       "       [1., 0., 0.],\n",
       "       [1., 0., 0.],\n",
       "       [1., 0., 0.],\n",
       "       [1., 0., 0.],\n",
       "       [1., 0., 0.],\n",
       "       [1., 0., 0.],\n",
       "       [1., 0., 0.],\n",
       "       [1., 0., 0.],\n",
       "       [1., 0., 0.],\n",
       "       [1., 0., 0.],\n",
       "       [1., 0., 0.],\n",
       "       [1., 0., 0.],\n",
       "       [1., 0., 0.]], dtype=float32)"
      ]
     },
     "execution_count": 35,
     "metadata": {},
     "output_type": "execute_result"
    }
   ],
   "source": [
    "TARGETS[(TARGETS[:, 1]==0) & (TARGETS[:, 2]!=1.)]"
   ]
  },
  {
   "cell_type": "code",
   "execution_count": null,
   "id": "2f042268",
   "metadata": {},
   "outputs": [],
   "source": []
  },
  {
   "cell_type": "code",
   "execution_count": 42,
   "id": "00262540",
   "metadata": {},
   "outputs": [
    {
     "data": {
      "text/plain": [
       "array([[0.958, 1.   , 0.   ],\n",
       "       [0.925, 0.997, 0.001],\n",
       "       [0.702, 0.999, 0.005],\n",
       "       [0.892, 0.998, 0.003],\n",
       "       [0.921, 0.995, 0.002],\n",
       "       [0.85 , 1.   , 0.001],\n",
       "       [0.923, 0.999, 0.001],\n",
       "       [0.944, 1.   , 0.   ],\n",
       "       [0.922, 1.   , 0.   ],\n",
       "       [0.954, 1.   , 0.   ],\n",
       "       [0.891, 1.   , 0.002],\n",
       "       [0.868, 1.   , 0.001],\n",
       "       [0.899, 0.942, 0.009],\n",
       "       [1.   , 0.999, 0.   ]], dtype=float32)"
      ]
     },
     "execution_count": 42,
     "metadata": {},
     "output_type": "execute_result"
    }
   ],
   "source": [
    "np.round(OUTPUTS[(TARGETS[:, 0]==0) & (TARGETS[:, 2]!=1.)], 3)"
   ]
  },
  {
   "cell_type": "code",
   "execution_count": null,
   "id": "aed76363",
   "metadata": {},
   "outputs": [],
   "source": []
  },
  {
   "cell_type": "code",
   "execution_count": 58,
   "id": "852f0f16",
   "metadata": {},
   "outputs": [
    {
     "data": {
      "text/plain": [
       "array([[1.   , 0.   , 0.   ],\n",
       "       [1.   , 0.181, 0.   ],\n",
       "       [1.   , 0.   , 0.   ],\n",
       "       [1.   , 0.   , 0.   ],\n",
       "       [1.   , 0.   , 0.   ],\n",
       "       [1.   , 0.   , 0.   ],\n",
       "       [1.   , 0.   , 0.   ],\n",
       "       [1.   , 0.   , 0.   ],\n",
       "       [0.992, 0.286, 0.001],\n",
       "       [0.998, 0.239, 0.   ],\n",
       "       [0.981, 0.6  , 0.002],\n",
       "       [0.992, 0.229, 0.001],\n",
       "       [1.   , 0.   , 0.   ],\n",
       "       [1.   , 0.   , 0.   ],\n",
       "       [1.   , 0.   , 0.   ],\n",
       "       [1.   , 0.   , 0.   ],\n",
       "       [1.   , 0.   , 0.   ],\n",
       "       [1.   , 0.   , 0.   ],\n",
       "       [1.   , 0.   , 0.   ],\n",
       "       [1.   , 0.   , 0.   ],\n",
       "       [1.   , 0.   , 0.   ],\n",
       "       [1.   , 0.   , 0.   ],\n",
       "       [0.995, 0.161, 0.001],\n",
       "       [1.   , 0.   , 0.   ],\n",
       "       [1.   , 0.   , 0.   ],\n",
       "       [1.   , 0.   , 0.   ],\n",
       "       [1.   , 0.   , 0.   ],\n",
       "       [1.   , 0.   , 0.   ],\n",
       "       [1.   , 0.001, 0.   ],\n",
       "       [1.   , 0.   , 0.   ],\n",
       "       [1.   , 0.   , 0.   ],\n",
       "       [0.999, 0.168, 0.   ],\n",
       "       [1.   , 0.   , 0.   ],\n",
       "       [0.994, 0.259, 0.001],\n",
       "       [1.   , 0.   , 0.   ],\n",
       "       [1.   , 0.   , 0.   ],\n",
       "       [1.   , 0.001, 0.   ],\n",
       "       [1.   , 0.   , 0.   ],\n",
       "       [1.   , 0.   , 0.   ],\n",
       "       [0.998, 0.201, 0.   ],\n",
       "       [0.971, 0.341, 0.006],\n",
       "       [1.   , 0.   , 0.   ],\n",
       "       [1.   , 0.   , 0.   ],\n",
       "       [1.   , 0.   , 0.   ],\n",
       "       [1.   , 0.   , 0.   ],\n",
       "       [1.   , 0.   , 0.   ],\n",
       "       [1.   , 0.   , 0.   ],\n",
       "       [0.999, 0.154, 0.   ],\n",
       "       [1.   , 0.   , 0.   ],\n",
       "       [1.   , 0.   , 0.   ],\n",
       "       [0.995, 0.339, 0.   ],\n",
       "       [0.999, 0.181, 0.   ],\n",
       "       [1.   , 0.   , 0.   ],\n",
       "       [1.   , 0.   , 0.   ],\n",
       "       [1.   , 0.   , 0.   ],\n",
       "       [1.   , 0.   , 0.   ],\n",
       "       [1.   , 0.   , 0.   ],\n",
       "       [1.   , 0.   , 0.   ],\n",
       "       [0.999, 0.21 , 0.   ],\n",
       "       [0.999, 0.174, 0.   ],\n",
       "       [1.   , 0.   , 0.   ],\n",
       "       [1.   , 0.   , 0.   ],\n",
       "       [0.982, 0.345, 0.003],\n",
       "       [1.   , 0.   , 0.   ],\n",
       "       [1.   , 0.   , 0.   ],\n",
       "       [1.   , 0.   , 0.   ],\n",
       "       [1.   , 0.   , 0.   ],\n",
       "       [0.979, 0.351, 0.003],\n",
       "       [1.   , 0.   , 0.   ],\n",
       "       [1.   , 0.   , 0.   ],\n",
       "       [1.   , 0.   , 0.   ],\n",
       "       [1.   , 0.   , 0.   ],\n",
       "       [1.   , 0.   , 0.   ],\n",
       "       [1.   , 0.   , 0.   ],\n",
       "       [1.   , 0.   , 0.   ],\n",
       "       [1.   , 0.   , 0.   ],\n",
       "       [1.   , 0.   , 0.   ],\n",
       "       [1.   , 0.   , 0.   ],\n",
       "       [1.   , 0.   , 0.   ],\n",
       "       [1.   , 0.   , 0.   ],\n",
       "       [0.999, 0.166, 0.   ],\n",
       "       [0.984, 0.335, 0.002],\n",
       "       [1.   , 0.   , 0.   ],\n",
       "       [1.   , 0.   , 0.   ],\n",
       "       [1.   , 0.   , 0.   ],\n",
       "       [1.   , 0.   , 0.   ],\n",
       "       [1.   , 0.001, 0.   ],\n",
       "       [1.   , 0.   , 0.   ],\n",
       "       [0.996, 0.318, 0.   ],\n",
       "       [1.   , 0.   , 0.   ],\n",
       "       [1.   , 0.   , 0.   ],\n",
       "       [0.979, 0.351, 0.004],\n",
       "       [1.   , 0.   , 0.   ],\n",
       "       [1.   , 0.   , 0.   ],\n",
       "       [1.   , 0.   , 0.   ],\n",
       "       [1.   , 0.   , 0.   ],\n",
       "       [1.   , 0.   , 0.   ],\n",
       "       [0.995, 0.54 , 0.   ],\n",
       "       [1.   , 0.   , 0.   ],\n",
       "       [0.995, 0.324, 0.   ],\n",
       "       [1.   , 0.001, 0.   ],\n",
       "       [1.   , 0.   , 0.   ],\n",
       "       [1.   , 0.   , 0.   ],\n",
       "       [1.   , 0.   , 0.   ],\n",
       "       [1.   , 0.   , 0.   ],\n",
       "       [1.   , 0.   , 0.   ],\n",
       "       [1.   , 0.   , 0.   ],\n",
       "       [1.   , 0.   , 0.   ],\n",
       "       [1.   , 0.   , 0.   ],\n",
       "       [0.999, 0.175, 0.   ],\n",
       "       [0.999, 0.2  , 0.   ],\n",
       "       [0.999, 0.767, 0.   ],\n",
       "       [0.997, 0.204, 0.   ]], dtype=float32)"
      ]
     },
     "execution_count": 58,
     "metadata": {},
     "output_type": "execute_result"
    }
   ],
   "source": [
    "np.round(OUTPUTS[(TARGETS[:, 1]==0) & (TARGETS[:, 2]!=1.)], 3)"
   ]
  },
  {
   "cell_type": "code",
   "execution_count": null,
   "id": "31899acd",
   "metadata": {},
   "outputs": [],
   "source": []
  },
  {
   "cell_type": "code",
   "execution_count": null,
   "id": "b5e17f97",
   "metadata": {},
   "outputs": [],
   "source": []
  },
  {
   "cell_type": "code",
   "execution_count": null,
   "id": "a0f86bbc",
   "metadata": {},
   "outputs": [],
   "source": []
  },
  {
   "cell_type": "code",
   "execution_count": null,
   "id": "465ae5bf",
   "metadata": {},
   "outputs": [],
   "source": []
  },
  {
   "cell_type": "code",
   "execution_count": null,
   "id": "97e30f1a",
   "metadata": {},
   "outputs": [],
   "source": []
  },
  {
   "cell_type": "code",
   "execution_count": 21,
   "id": "0e56bec7",
   "metadata": {
    "scrolled": true
   },
   "outputs": [
    {
     "data": {
      "text/plain": [
       "array([0.9999733 , 1.        , 0.7049733 , ..., 0.9999286 , 0.99997854,\n",
       "       0.9999826 ], dtype=float32)"
      ]
     },
     "execution_count": 21,
     "metadata": {},
     "output_type": "execute_result"
    }
   ],
   "source": [
    "OUTPUTS[TARGETS==1]"
   ]
  },
  {
   "cell_type": "code",
   "execution_count": null,
   "id": "0c1cc735",
   "metadata": {},
   "outputs": [],
   "source": []
  },
  {
   "cell_type": "code",
   "execution_count": null,
   "id": "5208414a",
   "metadata": {},
   "outputs": [],
   "source": []
  },
  {
   "cell_type": "code",
   "execution_count": null,
   "id": "7af0a7ea",
   "metadata": {},
   "outputs": [],
   "source": []
  },
  {
   "cell_type": "code",
   "execution_count": null,
   "id": "0cf11d66",
   "metadata": {},
   "outputs": [],
   "source": []
  },
  {
   "cell_type": "code",
   "execution_count": null,
   "id": "cc497d84",
   "metadata": {},
   "outputs": [],
   "source": []
  },
  {
   "cell_type": "code",
   "execution_count": null,
   "id": "5702af58",
   "metadata": {},
   "outputs": [],
   "source": []
  },
  {
   "cell_type": "code",
   "execution_count": null,
   "id": "163a57ae",
   "metadata": {},
   "outputs": [],
   "source": []
  }
 ],
 "metadata": {
  "kernelspec": {
   "display_name": "Python 3 (ipykernel)",
   "language": "python",
   "name": "python3"
  },
  "language_info": {
   "codemirror_mode": {
    "name": "ipython",
    "version": 3
   },
   "file_extension": ".py",
   "mimetype": "text/x-python",
   "name": "python",
   "nbconvert_exporter": "python",
   "pygments_lexer": "ipython3",
   "version": "3.9.12"
  }
 },
 "nbformat": 4,
 "nbformat_minor": 5
}
