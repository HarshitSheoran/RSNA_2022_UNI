{
 "cells": [
  {
   "cell_type": "code",
   "execution_count": 52,
   "id": "ce0fd76f",
   "metadata": {},
   "outputs": [],
   "source": [
    "import numpy as np\n",
    "import pandas as pd\n",
    "from tqdm import tqdm\n",
    "from glob import glob\n",
    "import os, sys, copy, time\n",
    "\n",
    "import cv2\n",
    "from PIL import Image\n",
    "import matplotlib.pyplot as plt\n",
    "import pydicom\n",
    "import nibabel as nib\n",
    "\n",
    "from joblib import Parallel, delayed\n",
    "\n",
    "import h5py"
   ]
  },
  {
   "cell_type": "code",
   "execution_count": null,
   "id": "7984e485",
   "metadata": {},
   "outputs": [],
   "source": []
  },
  {
   "cell_type": "code",
   "execution_count": 55,
   "id": "92bb3ecf",
   "metadata": {
    "scrolled": true
   },
   "outputs": [
    {
     "data": {
      "text/plain": [
       "['1.2.826.0.1.3680043.30487',\n",
       " '1.2.826.0.1.3680043.24617',\n",
       " '1.2.826.0.1.3680043.26498',\n",
       " '1.2.826.0.1.3680043.6376',\n",
       " '1.2.826.0.1.3680043.21321']"
      ]
     },
     "execution_count": 55,
     "metadata": {},
     "output_type": "execute_result"
    }
   ],
   "source": [
    "patients = [x.replace('.nii', '') for x in os.listdir('./data/segmentations/')]\n",
    "patients[:5]"
   ]
  },
  {
   "cell_type": "code",
   "execution_count": null,
   "id": "26e1e468",
   "metadata": {},
   "outputs": [],
   "source": []
  },
  {
   "cell_type": "code",
   "execution_count": 56,
   "id": "47b60b0f",
   "metadata": {},
   "outputs": [],
   "source": [
    "revert_list = [\n",
    "    '1.2.826.0.1.3680043.1363',\n",
    "    '1.2.826.0.1.3680043.20120',\n",
    "    '1.2.826.0.1.3680043.2243',\n",
    "    '1.2.826.0.1.3680043.24606',\n",
    "    '1.2.826.0.1.3680043.32071'\n",
    "]"
   ]
  },
  {
   "cell_type": "code",
   "execution_count": null,
   "id": "64069332",
   "metadata": {},
   "outputs": [],
   "source": []
  },
  {
   "cell_type": "code",
   "execution_count": null,
   "id": "ce35fff5",
   "metadata": {},
   "outputs": [],
   "source": [
    "OUTPUT_FOLDER_SEG = './data/segmentations_h5/'\n",
    "os.makedirs(OUTPUT_FOLDER_SEG, exist_ok=1)\n",
    "\n",
    "OUTPUT_FOLDER_VOL = './data/train_volumes_h5/'\n",
    "os.makedirs(OUTPUT_FOLDER_VOL, exist_ok=1)\n",
    "\n",
    "for patient in tqdm(patients):\n",
    "        \n",
    "    mask_files = sorted(glob(f'./data/train_masks_npy/{patient}/*'), key=lambda x: int(x.split('/')[-1].split('.')[0]))\n",
    "    segmentation_volume = np.stack([np.load(file) for file in mask_files])\n",
    "    \n",
    "    image_files = sorted(glob(f'./data/train_images_npy/{patient}/*'), key=lambda x: int(x.split('/')[-1].split('.')[0]))\n",
    "    volume = np.stack([np.load(file) for file in image_files])\n",
    "    \n",
    "    segmentation_volume = np.stack([cv2.resize(mask, (256, 256), interpolation=cv2.INTER_NEAREST) for mask in segmentation_volume])\n",
    "    volume = np.stack([cv2.resize(image, (256, 256), interpolation=cv2.INTER_NEAREST) for image in volume])\n",
    "    \n",
    "    hf = h5py.File(f\"{OUTPUT_FOLDER_SEG}/{patient}.h5\", \"w\")\n",
    "    hf.create_dataset('vol', data=segmentation_volume, compression=\"lzf\")\n",
    "    hf.close()\n",
    "    \n",
    "    hf = h5py.File(f\"{OUTPUT_FOLDER_VOL}/{patient}.h5\", \"w\")\n",
    "    hf.create_dataset('vol', data=volume, compression=\"lzf\")\n",
    "    hf.close()\n",
    "    \n",
    "    #break"
   ]
  },
  {
   "cell_type": "code",
   "execution_count": null,
   "id": "b0d2caa1",
   "metadata": {},
   "outputs": [],
   "source": []
  },
  {
   "cell_type": "code",
   "execution_count": 57,
   "id": "167b88a7",
   "metadata": {},
   "outputs": [
    {
     "data": {
      "text/plain": [
       "((87,),\n",
       " array(['1.2.826.0.1.3680043.30487', '1.2.826.0.1.3680043.24617',\n",
       "        '1.2.826.0.1.3680043.26498', '1.2.826.0.1.3680043.6376',\n",
       "        '1.2.826.0.1.3680043.21321'], dtype='<U25'))"
      ]
     },
     "execution_count": 57,
     "metadata": {},
     "output_type": "execute_result"
    }
   ],
   "source": [
    "segmentation_folders = np.array([x.split('/')[-1].replace('.nii', '') for x in glob('./data/segmentations/*.nii')])\n",
    "segmentation_folders.shape, segmentation_folders[:5]"
   ]
  },
  {
   "cell_type": "code",
   "execution_count": 59,
   "id": "f53b5a2f",
   "metadata": {},
   "outputs": [
    {
     "data": {
      "text/html": [
       "<div>\n",
       "<style scoped>\n",
       "    .dataframe tbody tr th:only-of-type {\n",
       "        vertical-align: middle;\n",
       "    }\n",
       "\n",
       "    .dataframe tbody tr th {\n",
       "        vertical-align: top;\n",
       "    }\n",
       "\n",
       "    .dataframe thead th {\n",
       "        text-align: right;\n",
       "    }\n",
       "</style>\n",
       "<table border=\"1\" class=\"dataframe\">\n",
       "  <thead>\n",
       "    <tr style=\"text-align: right;\">\n",
       "      <th></th>\n",
       "      <th>folder_name</th>\n",
       "      <th>start</th>\n",
       "      <th>end</th>\n",
       "    </tr>\n",
       "  </thead>\n",
       "  <tbody>\n",
       "    <tr>\n",
       "      <th>0</th>\n",
       "      <td>1.2.826.0.1.3680043.30487</td>\n",
       "      <td>0</td>\n",
       "      <td>32</td>\n",
       "    </tr>\n",
       "    <tr>\n",
       "      <th>1</th>\n",
       "      <td>1.2.826.0.1.3680043.30487</td>\n",
       "      <td>16</td>\n",
       "      <td>48</td>\n",
       "    </tr>\n",
       "    <tr>\n",
       "      <th>2</th>\n",
       "      <td>1.2.826.0.1.3680043.30487</td>\n",
       "      <td>32</td>\n",
       "      <td>64</td>\n",
       "    </tr>\n",
       "    <tr>\n",
       "      <th>3</th>\n",
       "      <td>1.2.826.0.1.3680043.30487</td>\n",
       "      <td>48</td>\n",
       "      <td>80</td>\n",
       "    </tr>\n",
       "    <tr>\n",
       "      <th>4</th>\n",
       "      <td>1.2.826.0.1.3680043.30487</td>\n",
       "      <td>64</td>\n",
       "      <td>96</td>\n",
       "    </tr>\n",
       "    <tr>\n",
       "      <th>...</th>\n",
       "      <td>...</td>\n",
       "      <td>...</td>\n",
       "      <td>...</td>\n",
       "    </tr>\n",
       "    <tr>\n",
       "      <th>1811</th>\n",
       "      <td>1.2.826.0.1.3680043.3992</td>\n",
       "      <td>160</td>\n",
       "      <td>192</td>\n",
       "    </tr>\n",
       "    <tr>\n",
       "      <th>1812</th>\n",
       "      <td>1.2.826.0.1.3680043.3992</td>\n",
       "      <td>176</td>\n",
       "      <td>208</td>\n",
       "    </tr>\n",
       "    <tr>\n",
       "      <th>1813</th>\n",
       "      <td>1.2.826.0.1.3680043.3992</td>\n",
       "      <td>192</td>\n",
       "      <td>224</td>\n",
       "    </tr>\n",
       "    <tr>\n",
       "      <th>1814</th>\n",
       "      <td>1.2.826.0.1.3680043.3992</td>\n",
       "      <td>208</td>\n",
       "      <td>240</td>\n",
       "    </tr>\n",
       "    <tr>\n",
       "      <th>1815</th>\n",
       "      <td>1.2.826.0.1.3680043.3992</td>\n",
       "      <td>220</td>\n",
       "      <td>252</td>\n",
       "    </tr>\n",
       "  </tbody>\n",
       "</table>\n",
       "<p>1816 rows × 3 columns</p>\n",
       "</div>"
      ],
      "text/plain": [
       "                    folder_name  start  end\n",
       "0     1.2.826.0.1.3680043.30487      0   32\n",
       "1     1.2.826.0.1.3680043.30487     16   48\n",
       "2     1.2.826.0.1.3680043.30487     32   64\n",
       "3     1.2.826.0.1.3680043.30487     48   80\n",
       "4     1.2.826.0.1.3680043.30487     64   96\n",
       "...                         ...    ...  ...\n",
       "1811   1.2.826.0.1.3680043.3992    160  192\n",
       "1812   1.2.826.0.1.3680043.3992    176  208\n",
       "1813   1.2.826.0.1.3680043.3992    192  224\n",
       "1814   1.2.826.0.1.3680043.3992    208  240\n",
       "1815   1.2.826.0.1.3680043.3992    220  252\n",
       "\n",
       "[1816 rows x 3 columns]"
      ]
     },
     "execution_count": 59,
     "metadata": {},
     "output_type": "execute_result"
    }
   ],
   "source": [
    "DAT = {'folder_name': [], 'start': [], 'end': []}\n",
    "\n",
    "N = 32\n",
    "for folder in segmentation_folders:\n",
    "    mask_volume = h5py.File(f'./data/segmentations_h5/{folder}.h5')['vol']\n",
    "    n_masks = mask_volume.shape[0]\n",
    "    \n",
    "    starts = [x for x in range(0, n_masks, N//2) if x<n_masks-N] + [n_masks-N]\n",
    "    \n",
    "    for st in starts:\n",
    "        ed = st + N\n",
    "        \n",
    "        DAT['folder_name'].append(folder)\n",
    "        DAT['start'].append(st)\n",
    "        DAT['end'].append(ed)\n",
    "    \n",
    "data = pd.DataFrame(DAT)\n",
    "data"
   ]
  },
  {
   "cell_type": "code",
   "execution_count": null,
   "id": "c2be8f7b",
   "metadata": {},
   "outputs": [],
   "source": []
  },
  {
   "cell_type": "code",
   "execution_count": 66,
   "id": "7ede6da1",
   "metadata": {},
   "outputs": [
    {
     "name": "stderr",
     "output_type": "stream",
     "text": [
      "100%|██████████| 1816/1816 [18:09<00:00,  1.67it/s]\n"
     ]
    }
   ],
   "source": [
    "OUTPUT_FOLDER = './data/train_segmentation_data1/'\n",
    "os.makedirs(OUTPUT_FOLDER, exist_ok=1)\n",
    "\n",
    "for i, row in tqdm(data.iterrows(), total=len(data)):\n",
    "    folder = row.folder_name\n",
    "    start = row.start\n",
    "    end = row.end\n",
    "\n",
    "    image_volume = h5py.File(f'./data/train_volumes_h5/{folder}.h5')['vol'][start:end]\n",
    "    mask_volume = h5py.File(f'./data/segmentations_h5/{folder}.h5')['vol']\n",
    "    \n",
    "    if folder in revert_list:\n",
    "        mask_volume = mask_volume[:][::-1][start:end]\n",
    "    else:\n",
    "        mask_volume = mask_volume[start:end]\n",
    "    \n",
    "    image_volume = np.stack([cv2.resize(image, (256, 256), interpolation=cv2.INTER_NEAREST) for image in image_volume])\n",
    "    mask_volume = np.stack([cv2.resize(mask, (256, 256), interpolation=cv2.INTER_NEAREST) for mask in mask_volume])\n",
    "\n",
    "    image_volume = np.expand_dims(image_volume.transpose(1,2,0), 0)\n",
    "    mask_volume = mask_volume.transpose(3,1,2,0).astype(np.float32)\n",
    "\n",
    "    image_volume = (image_volume / 255).astype(np.float32)\n",
    "    \n",
    "    np.save(f\"{OUTPUT_FOLDER}/{folder}_{start}_{end}_imagevol.npy\", image_volume)\n",
    "    np.save(f\"{OUTPUT_FOLDER}/{folder}_{start}_{end}_maskvol.npy\", mask_volume)\n",
    "    \n",
    "    #break"
   ]
  },
  {
   "cell_type": "code",
   "execution_count": null,
   "id": "84f8c844",
   "metadata": {},
   "outputs": [],
   "source": []
  },
  {
   "cell_type": "code",
   "execution_count": null,
   "id": "eb29f988",
   "metadata": {},
   "outputs": [],
   "source": []
  },
  {
   "cell_type": "code",
   "execution_count": 68,
   "id": "ee864c21",
   "metadata": {},
   "outputs": [
    {
     "data": {
      "text/plain": [
       "(1, 256, 256, 32)"
      ]
     },
     "execution_count": 68,
     "metadata": {},
     "output_type": "execute_result"
    }
   ],
   "source": [
    "image_volume.shape"
   ]
  },
  {
   "cell_type": "code",
   "execution_count": null,
   "id": "88a59a36",
   "metadata": {},
   "outputs": [],
   "source": []
  },
  {
   "cell_type": "code",
   "execution_count": null,
   "id": "d7322c5a",
   "metadata": {},
   "outputs": [],
   "source": []
  },
  {
   "cell_type": "code",
   "execution_count": 35,
   "id": "c028ce37",
   "metadata": {},
   "outputs": [
    {
     "data": {
      "text/plain": [
       "((348, 256, 256, 8), (348, 256, 256))"
      ]
     },
     "execution_count": 35,
     "metadata": {},
     "output_type": "execute_result"
    }
   ],
   "source": [
    "segmentation_volume.shape, volume.shape"
   ]
  },
  {
   "cell_type": "code",
   "execution_count": null,
   "id": "bc6496c7",
   "metadata": {},
   "outputs": [],
   "source": []
  },
  {
   "cell_type": "code",
   "execution_count": null,
   "id": "92a0a037",
   "metadata": {},
   "outputs": [],
   "source": []
  },
  {
   "cell_type": "code",
   "execution_count": null,
   "id": "8b3863f7",
   "metadata": {},
   "outputs": [],
   "source": []
  },
  {
   "cell_type": "code",
   "execution_count": null,
   "id": "ca5c8fc6",
   "metadata": {},
   "outputs": [],
   "source": []
  },
  {
   "cell_type": "code",
   "execution_count": null,
   "id": "8da216cc",
   "metadata": {},
   "outputs": [],
   "source": []
  },
  {
   "cell_type": "code",
   "execution_count": 22,
   "id": "19e98e19",
   "metadata": {},
   "outputs": [
    {
     "data": {
      "text/plain": [
       "(348, 512, 512, 8)"
      ]
     },
     "execution_count": 22,
     "metadata": {},
     "output_type": "execute_result"
    }
   ],
   "source": [
    "segmentation_volume.shape"
   ]
  },
  {
   "cell_type": "code",
   "execution_count": 23,
   "id": "c989f560",
   "metadata": {},
   "outputs": [
    {
     "data": {
      "text/plain": [
       "(348, 512, 512)"
      ]
     },
     "execution_count": 23,
     "metadata": {},
     "output_type": "execute_result"
    }
   ],
   "source": [
    "volume.shape"
   ]
  },
  {
   "cell_type": "code",
   "execution_count": null,
   "id": "c7442b9e",
   "metadata": {},
   "outputs": [],
   "source": []
  },
  {
   "cell_type": "code",
   "execution_count": 24,
   "id": "33450891",
   "metadata": {},
   "outputs": [
    {
     "data": {
      "text/plain": [
       "<matplotlib.image.AxesImage at 0x780f3c7e5ca0>"
      ]
     },
     "execution_count": 24,
     "metadata": {},
     "output_type": "execute_result"
    },
    {
     "data": {
      "image/png": "[encoded data removed]",
      "text/plain": [
       "<Figure size 432x288 with 1 Axes>"
      ]
     },
     "metadata": {
      "needs_background": "light"
     },
     "output_type": "display_data"
    }
   ],
   "source": [
    "plt.imshow(segmentation_volume.sum(0)[:, :, -1])"
   ]
  },
  {
   "cell_type": "code",
   "execution_count": 25,
   "id": "5ef8ea6c",
   "metadata": {},
   "outputs": [
    {
     "data": {
      "text/plain": [
       "<matplotlib.image.AxesImage at 0x780f3f10bb50>"
      ]
     },
     "execution_count": 25,
     "metadata": {},
     "output_type": "execute_result"
    },
    {
     "data": {
      "image/png": "[encoded data removed]",
      "text/plain": [
       "<Figure size 432x288 with 1 Axes>"
      ]
     },
     "metadata": {
      "needs_background": "light"
     },
     "output_type": "display_data"
    }
   ],
   "source": [
    "plt.imshow(volume[150])"
   ]
  },
  {
   "cell_type": "code",
   "execution_count": 26,
   "id": "efe569f0",
   "metadata": {},
   "outputs": [
    {
     "data": {
      "text/plain": [
       "<matplotlib.image.AxesImage at 0x780f3c78eb80>"
      ]
     },
     "execution_count": 26,
     "metadata": {},
     "output_type": "execute_result"
    },
    {
     "data": {
      "image/png": "[encoded data removed]",
      "text/plain": [
       "<Figure size 432x288 with 1 Axes>"
      ]
     },
     "metadata": {
      "needs_background": "light"
     },
     "output_type": "display_data"
    }
   ],
   "source": [
    "plt.imshow(segmentation_volume[150].argmax(-1))"
   ]
  },
  {
   "cell_type": "code",
   "execution_count": null,
   "id": "507f326e",
   "metadata": {},
   "outputs": [],
   "source": []
  },
  {
   "cell_type": "code",
   "execution_count": null,
   "id": "a567bb40",
   "metadata": {},
   "outputs": [],
   "source": []
  },
  {
   "cell_type": "code",
   "execution_count": null,
   "id": "1085ad79",
   "metadata": {},
   "outputs": [],
   "source": []
  },
  {
   "cell_type": "code",
   "execution_count": null,
   "id": "198ec8d2",
   "metadata": {},
   "outputs": [],
   "source": []
  }
 ],
 "metadata": {
  "kernelspec": {
   "display_name": "Python 3 (ipykernel)",
   "language": "python",
   "name": "python3"
  },
  "language_info": {
   "codemirror_mode": {
    "name": "ipython",
    "version": 3
   },
   "file_extension": ".py",
   "mimetype": "text/x-python",
   "name": "python",
   "nbconvert_exporter": "python",
   "pygments_lexer": "ipython3",
   "version": "3.9.12"
  }
 },
 "nbformat": 4,
 "nbformat_minor": 5
}
